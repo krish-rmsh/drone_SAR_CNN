{
 "cells": [
  {
   "cell_type": "code",
   "execution_count": 39,
   "id": "4912b872",
   "metadata": {
    "executionInfo": {
     "elapsed": 336,
     "status": "ok",
     "timestamp": 1667763842293,
     "user": {
      "displayName": "Krish Ramesh",
      "userId": "00776630855129195029"
     },
     "user_tz": -60
    },
    "id": "4912b872"
   },
   "outputs": [],
   "source": [
    "# With the same augmentation, we are going to try vgg and resnet"
   ]
  },
  {
   "cell_type": "code",
   "execution_count": 40,
   "id": "RzK_2N_IV6th",
   "metadata": {
    "colab": {
     "base_uri": "https://localhost:8080/"
    },
    "executionInfo": {
     "elapsed": 3168,
     "status": "ok",
     "timestamp": 1667763846009,
     "user": {
      "displayName": "Krish Ramesh",
      "userId": "00776630855129195029"
     },
     "user_tz": -60
    },
    "id": "RzK_2N_IV6th",
    "outputId": "9cf5409e-d650-4ff5-c264-54122e54a3ef"
   },
   "outputs": [],
   "source": [
    "# from google.colab import drive\n",
    "# drive.mount('/content/drive')"
   ]
  },
  {
   "cell_type": "code",
   "execution_count": 41,
   "id": "e2c225be",
   "metadata": {},
   "outputs": [],
   "source": [
    "from datetime import datetime\n",
    "now = datetime.now()\n",
    "date_time = now.strftime(\"%d%m%Y-%H%M\")"
   ]
  },
  {
   "cell_type": "code",
   "execution_count": 42,
   "id": "ce31cf2a",
   "metadata": {
    "executionInfo": {
     "elapsed": 13,
     "status": "ok",
     "timestamp": 1667763846009,
     "user": {
      "displayName": "Krish Ramesh",
      "userId": "00776630855129195029"
     },
     "user_tz": -60
    },
    "id": "ce31cf2a"
   },
   "outputs": [],
   "source": [
    "### Preparing the dataframe \n",
    "import pandas as pd\n",
    "import glob\n",
    "from pathlib import Path\n",
    "import matplotlib.pyplot as plt \n",
    "\n",
    "\n",
    "\n"
   ]
  },
  {
   "cell_type": "code",
   "execution_count": 43,
   "id": "rraK0wg3WW6e",
   "metadata": {
    "executionInfo": {
     "elapsed": 13,
     "status": "ok",
     "timestamp": 1667763846010,
     "user": {
      "displayName": "Krish Ramesh",
      "userId": "00776630855129195029"
     },
     "user_tz": -60
    },
    "id": "rraK0wg3WW6e"
   },
   "outputs": [],
   "source": [
    "\n",
    "#/Users/krish/Library/CloudStorage/GoogleDrive-krishthephysicist@gmail.com/My Drive/ljmu/1.data\n",
    "root_path =  r'/Users/krish/ljmu/'\n",
    "result_root = root_path + '3.results/09112022-ResNet50/'\n",
    "Path(result_root).mkdir(parents=True, exist_ok=True)\n",
    "\n",
    "# # Incase you run in colab\n",
    "# root_path =  r'/content/drive/MyDrive/ljmu/'\n",
    "# result_root = root_path + '3.results/06112022-VGGNet/'\n",
    "# Path(result_root).mkdir(parents=True, exist_ok=True)"
   ]
  },
  {
   "cell_type": "code",
   "execution_count": 44,
   "id": "YNfVcClzWSjW",
   "metadata": {
    "colab": {
     "base_uri": "https://localhost:8080/",
     "height": 424
    },
    "executionInfo": {
     "elapsed": 13,
     "status": "ok",
     "timestamp": 1667763846010,
     "user": {
      "displayName": "Krish Ramesh",
      "userId": "00776630855129195029"
     },
     "user_tz": -60
    },
    "id": "YNfVcClzWSjW",
    "outputId": "51035172-999a-4857-b307-3898065f5337"
   },
   "outputs": [
    {
     "name": "stderr",
     "output_type": "stream",
     "text": [
      "/var/folders/zk/p2gyqg915639vx6xr9xbs9cm0000gn/T/ipykernel_40392/1957794748.py:10: FutureWarning: The frame.append method is deprecated and will be removed from pandas in a future version. Use pandas.concat instead.\n",
      "  df = df_true.append(df_false)\n"
     ]
    },
    {
     "data": {
      "text/html": [
       "<div>\n",
       "<style scoped>\n",
       "    .dataframe tbody tr th:only-of-type {\n",
       "        vertical-align: middle;\n",
       "    }\n",
       "\n",
       "    .dataframe tbody tr th {\n",
       "        vertical-align: top;\n",
       "    }\n",
       "\n",
       "    .dataframe thead th {\n",
       "        text-align: right;\n",
       "    }\n",
       "</style>\n",
       "<table border=\"1\" class=\"dataframe\">\n",
       "  <thead>\n",
       "    <tr style=\"text-align: right;\">\n",
       "      <th></th>\n",
       "      <th>name</th>\n",
       "      <th>flag</th>\n",
       "    </tr>\n",
       "  </thead>\n",
       "  <tbody>\n",
       "    <tr>\n",
       "      <th>0</th>\n",
       "      <td>/Users/krish/ljmu/1.data/sampletiled/ts/905_0_...</td>\n",
       "      <td>1</td>\n",
       "    </tr>\n",
       "    <tr>\n",
       "      <th>1</th>\n",
       "      <td>/Users/krish/ljmu/1.data/sampletiled/ts/889_0_...</td>\n",
       "      <td>1</td>\n",
       "    </tr>\n",
       "    <tr>\n",
       "      <th>2</th>\n",
       "      <td>/Users/krish/ljmu/1.data/sampletiled/ts/1434_0...</td>\n",
       "      <td>1</td>\n",
       "    </tr>\n",
       "    <tr>\n",
       "      <th>3</th>\n",
       "      <td>/Users/krish/ljmu/1.data/sampletiled/ts/5708_0...</td>\n",
       "      <td>1</td>\n",
       "    </tr>\n",
       "    <tr>\n",
       "      <th>4</th>\n",
       "      <td>/Users/krish/ljmu/1.data/sampletiled/ts/100_0_...</td>\n",
       "      <td>1</td>\n",
       "    </tr>\n",
       "    <tr>\n",
       "      <th>...</th>\n",
       "      <td>...</td>\n",
       "      <td>...</td>\n",
       "    </tr>\n",
       "    <tr>\n",
       "      <th>3870</th>\n",
       "      <td>/Users/krish/ljmu/1.data/sampletiled/false/238...</td>\n",
       "      <td>0</td>\n",
       "    </tr>\n",
       "    <tr>\n",
       "      <th>3871</th>\n",
       "      <td>/Users/krish/ljmu/1.data/sampletiled/false/197...</td>\n",
       "      <td>0</td>\n",
       "    </tr>\n",
       "    <tr>\n",
       "      <th>3872</th>\n",
       "      <td>/Users/krish/ljmu/1.data/sampletiled/false/198...</td>\n",
       "      <td>0</td>\n",
       "    </tr>\n",
       "    <tr>\n",
       "      <th>3873</th>\n",
       "      <td>/Users/krish/ljmu/1.data/sampletiled/false/474...</td>\n",
       "      <td>0</td>\n",
       "    </tr>\n",
       "    <tr>\n",
       "      <th>3874</th>\n",
       "      <td>/Users/krish/ljmu/1.data/sampletiled/false/444...</td>\n",
       "      <td>0</td>\n",
       "    </tr>\n",
       "  </tbody>\n",
       "</table>\n",
       "<p>7090 rows × 2 columns</p>\n",
       "</div>"
      ],
      "text/plain": [
       "                                                   name flag\n",
       "0     /Users/krish/ljmu/1.data/sampletiled/ts/905_0_...    1\n",
       "1     /Users/krish/ljmu/1.data/sampletiled/ts/889_0_...    1\n",
       "2     /Users/krish/ljmu/1.data/sampletiled/ts/1434_0...    1\n",
       "3     /Users/krish/ljmu/1.data/sampletiled/ts/5708_0...    1\n",
       "4     /Users/krish/ljmu/1.data/sampletiled/ts/100_0_...    1\n",
       "...                                                 ...  ...\n",
       "3870  /Users/krish/ljmu/1.data/sampletiled/false/238...    0\n",
       "3871  /Users/krish/ljmu/1.data/sampletiled/false/197...    0\n",
       "3872  /Users/krish/ljmu/1.data/sampletiled/false/198...    0\n",
       "3873  /Users/krish/ljmu/1.data/sampletiled/false/474...    0\n",
       "3874  /Users/krish/ljmu/1.data/sampletiled/false/444...    0\n",
       "\n",
       "[7090 rows x 2 columns]"
      ]
     },
     "execution_count": 44,
     "metadata": {},
     "output_type": "execute_result"
    }
   ],
   "source": [
    "\n",
    "df_true = pd.DataFrame(columns = ['name','flag'])\n",
    "df_false = pd.DataFrame(columns = ['name','flag'])\n",
    "\n",
    "df_true['name'] = glob.glob(root_path+'1.data/sampletiled/ts/*.jpg')\n",
    "df_true.flag = 1\n",
    "\n",
    "df_false['name'] = glob.glob(root_path+'1.data/sampletiled/false/*.jpg')\n",
    "df_false.flag = 0\n",
    "\n",
    "df = df_true.append(df_false)\n",
    "\n",
    "df['flag'] = df.flag.apply(lambda x: str(x)) # used the qubit format\n",
    "df\n",
    "# The number of rows is finally matching with what I had on local => Yebba all data uploaded successfullly"
   ]
  },
  {
   "cell_type": "code",
   "execution_count": 45,
   "id": "042bee20",
   "metadata": {
    "colab": {
     "base_uri": "https://localhost:8080/"
    },
    "executionInfo": {
     "elapsed": 11,
     "status": "ok",
     "timestamp": 1667763846010,
     "user": {
      "displayName": "Krish Ramesh",
      "userId": "00776630855129195029"
     },
     "user_tz": -60
    },
    "id": "042bee20",
    "outputId": "74c427f1-d8b8-4f21-e239-a7ef5235f6e4"
   },
   "outputs": [
    {
     "name": "stdout",
     "output_type": "stream",
     "text": [
      "train 5317 validation 1773\n"
     ]
    }
   ],
   "source": [
    "# Generator\n",
    "import numpy as np # linear algebra\n",
    "import pandas as pd # data processing, CSV file I/O (e.g. pd.read_csv)\n",
    "import matplotlib.pyplot as plt # showing and rendering figures\n",
    "# io related\n",
    "from skimage.io import imread\n",
    "import os\n",
    "from glob import glob\n",
    "# not needed in Kaggle, but required in Jupyter\n",
    "%matplotlib inline \n",
    "from sklearn.model_selection import train_test_split\n",
    "\n",
    "train_df, valid_df = train_test_split(df, \n",
    "                                   test_size = 0.25, \n",
    "                                   random_state = 2018,\n",
    "                                   stratify = df['flag']) # Stratify makes sure that the subset of training and testing data returned keeps the same class propotion of the main dataframe\n",
    "print('train', train_df.shape[0], 'validation', valid_df.shape[0])"
   ]
  },
  {
   "cell_type": "code",
   "execution_count": 46,
   "id": "11e115cf",
   "metadata": {
    "executionInfo": {
     "elapsed": 9,
     "status": "ok",
     "timestamp": 1667763846011,
     "user": {
      "displayName": "Krish Ramesh",
      "userId": "00776630855129195029"
     },
     "user_tz": -60
    },
    "id": "11e115cf"
   },
   "outputs": [],
   "source": [
    "from tensorflow.keras import layers\n",
    "from keras_preprocessing.image import ImageDataGenerator"
   ]
  },
  {
   "cell_type": "code",
   "execution_count": 47,
   "id": "d8052fde",
   "metadata": {
    "colab": {
     "base_uri": "https://localhost:8080/"
    },
    "executionInfo": {
     "elapsed": 471,
     "status": "ok",
     "timestamp": 1667763846473,
     "user": {
      "displayName": "Krish Ramesh",
      "userId": "00776630855129195029"
     },
     "user_tz": -60
    },
    "id": "d8052fde",
    "outputId": "f9cc38b5-e956-42c2-8867-72642d92885c"
   },
   "outputs": [
    {
     "name": "stdout",
     "output_type": "stream",
     "text": [
      "Found 5317 validated image filenames belonging to 2 classes.\n",
      "Found 1773 validated image filenames belonging to 2 classes.\n"
     ]
    }
   ],
   "source": [
    "# Rotation_range - random rotation within the angle mentioned\n",
    "# Random_shifts - shifts 20% at max. to the horizontal and vertical(reduce to 10% as already diverse data)\n",
    "# Random_flip - random flips \n",
    "# fill_mode - fill the blank pixels, when augmenting with the nearest color\n",
    "datagen = ImageDataGenerator(rotation_range = 360,\n",
    "                             width_shift_range=0.1, height_shift_range=0.1,\n",
    "                             #horizontal_flip=True, vertical_flip=True, # Isnt much useful for us\n",
    "                             brightness_range=[0.5,1.5],\n",
    "                             rescale=1./255.,fill_mode='nearest')\n",
    "\n",
    "train_generator = datagen.flow_from_dataframe(dataframe=train_df, x_col = 'name', y_col = 'flag', class_mode='binary', target_size=(224 , 224), batch_size=32)\n",
    "valid_generator = datagen.flow_from_dataframe(dataframe=valid_df, x_col = 'name', y_col = 'flag', class_mode='binary', target_size=(224 , 224), batch_size=32)"
   ]
  },
  {
   "cell_type": "markdown",
   "id": "87debd4c",
   "metadata": {
    "id": "87debd4c"
   },
   "source": [
    "### Strating with inception"
   ]
  },
  {
   "cell_type": "code",
   "execution_count": 48,
   "id": "bcc4d7d2",
   "metadata": {
    "executionInfo": {
     "elapsed": 4,
     "status": "ok",
     "timestamp": 1667763846474,
     "user": {
      "displayName": "Krish Ramesh",
      "userId": "00776630855129195029"
     },
     "user_tz": -60
    },
    "id": "bcc4d7d2"
   },
   "outputs": [],
   "source": [
    "import tensorflow as tf\n",
    "\n",
    "from tensorflow.keras.layers import Input , Dense , Flatten , GlobalAveragePooling2D\n",
    "from tensorflow.keras.models import Sequential"
   ]
  },
  {
   "cell_type": "code",
   "execution_count": 49,
   "id": "68b9798a",
   "metadata": {
    "executionInfo": {
     "elapsed": 718,
     "status": "ok",
     "timestamp": 1667763847189,
     "user": {
      "displayName": "Krish Ramesh",
      "userId": "00776630855129195029"
     },
     "user_tz": -60
    },
    "id": "68b9798a"
   },
   "outputs": [
    {
     "name": "stdout",
     "output_type": "stream",
     "text": [
      "Downloading data from https://storage.googleapis.com/tensorflow/keras-applications/resnet/resnet50_weights_tf_dim_ordering_tf_kernels_notop.h5\n",
      "94765736/94765736 [==============================] - 5s 0us/step\n"
     ]
    }
   ],
   "source": [
    "# Why I have this as false : https://stackoverflow.com/questions/46036522/defining-model-in-keras-include-top-true\n",
    "# So that I can list out the number of classes that I have\n",
    "\n",
    "vgg_16 = tf.keras.applications.resnet50.ResNet50(input_shape=(224 , 224, 3),\n",
    "                                           include_top=False, \n",
    "                                           weights='imagenet')\n",
    "\n",
    "model = Sequential()\n",
    "model.add(vgg_16)\n",
    "model.add(GlobalAveragePooling2D())\n",
    "model.add(Flatten())\n",
    "model.add(Dense(1024, activation=\"relu\"))\n",
    "model.add(Dense(512, activation=\"relu\"))\n",
    "\n",
    "model.add(Dense(1024, activation=\"relu\"))\n",
    "model.add(Dense(512, activation=\"relu\"))\n",
    "\n",
    "model.add(Dense(1024, activation=\"relu\"))\n",
    "model.add(Dense(512, activation=\"relu\"))\n",
    "\n",
    "\n",
    "\n",
    "model.add(Dense(1, activation=\"sigmoid\" , name=\"classification\"))"
   ]
  },
  {
   "cell_type": "code",
   "execution_count": 50,
   "id": "2c4ae988",
   "metadata": {
    "colab": {
     "base_uri": "https://localhost:8080/"
    },
    "executionInfo": {
     "elapsed": 12,
     "status": "ok",
     "timestamp": 1667763847189,
     "user": {
      "displayName": "Krish Ramesh",
      "userId": "00776630855129195029"
     },
     "user_tz": -60
    },
    "id": "2c4ae988",
    "outputId": "e8041b35-9f9a-48ff-8cb9-6ddaf627e7a6"
   },
   "outputs": [
    {
     "name": "stdout",
     "output_type": "stream",
     "text": [
      "Model: \"sequential_2\"\n",
      "_________________________________________________________________\n",
      " Layer (type)                Output Shape              Param #   \n",
      "=================================================================\n",
      " resnet50 (Functional)       (None, 7, 7, 2048)        23587712  \n",
      "                                                                 \n",
      " global_average_pooling2d_2   (None, 2048)             0         \n",
      " (GlobalAveragePooling2D)                                        \n",
      "                                                                 \n",
      " flatten_2 (Flatten)         (None, 2048)              0         \n",
      "                                                                 \n",
      " dense_12 (Dense)            (None, 1024)              2098176   \n",
      "                                                                 \n",
      " dense_13 (Dense)            (None, 512)               524800    \n",
      "                                                                 \n",
      " dense_14 (Dense)            (None, 1024)              525312    \n",
      "                                                                 \n",
      " dense_15 (Dense)            (None, 512)               524800    \n",
      "                                                                 \n",
      " dense_16 (Dense)            (None, 1024)              525312    \n",
      "                                                                 \n",
      " dense_17 (Dense)            (None, 512)               524800    \n",
      "                                                                 \n",
      " classification (Dense)      (None, 1)                 513       \n",
      "                                                                 \n",
      "=================================================================\n",
      "Total params: 28,311,425\n",
      "Trainable params: 28,258,305\n",
      "Non-trainable params: 53,120\n",
      "_________________________________________________________________\n"
     ]
    }
   ],
   "source": [
    "model.compile(optimizer=tf.keras.optimizers.SGD(learning_rate=0.0001,momentum=0.9), \n",
    "            loss='BinaryCrossentropy',\n",
    "            metrics = ['accuracy'])\n",
    "\n",
    "model.summary()"
   ]
  },
  {
   "cell_type": "code",
   "execution_count": 51,
   "id": "a63fdcea",
   "metadata": {
    "colab": {
     "base_uri": "https://localhost:8080/"
    },
    "executionInfo": {
     "elapsed": 2063319,
     "status": "ok",
     "timestamp": 1667765910505,
     "user": {
      "displayName": "Krish Ramesh",
      "userId": "00776630855129195029"
     },
     "user_tz": -60
    },
    "id": "a63fdcea",
    "outputId": "f4b23381-1d6c-4087-81bd-396d276abc82",
    "scrolled": true
   },
   "outputs": [
    {
     "name": "stdout",
     "output_type": "stream",
     "text": [
      "Epoch 1/30\n"
     ]
    },
    {
     "name": "stderr",
     "output_type": "stream",
     "text": [
      "2022-11-09 17:10:21.167868: I tensorflow/core/grappler/optimizers/custom_graph_optimizer_registry.cc:113] Plugin optimizer for device_type GPU is enabled.\n"
     ]
    },
    {
     "name": "stdout",
     "output_type": "stream",
     "text": [
      "167/167 [==============================] - ETA: 0s - loss: 0.6939 - accuracy: 0.5112"
     ]
    },
    {
     "name": "stderr",
     "output_type": "stream",
     "text": [
      "2022-11-09 17:14:01.776980: I tensorflow/core/grappler/optimizers/custom_graph_optimizer_registry.cc:113] Plugin optimizer for device_type GPU is enabled.\n"
     ]
    },
    {
     "name": "stdout",
     "output_type": "stream",
     "text": [
      "167/167 [==============================] - 250s 1s/step - loss: 0.6939 - accuracy: 0.5112 - val_loss: 0.6947 - val_accuracy: 0.5133\n",
      "Epoch 2/30\n",
      "167/167 [==============================] - 307s 2s/step - loss: 0.6760 - accuracy: 0.5520 - val_loss: 0.7116 - val_accuracy: 0.5279\n",
      "Epoch 3/30\n",
      "167/167 [==============================] - 303s 2s/step - loss: 0.6627 - accuracy: 0.5723 - val_loss: 0.7117 - val_accuracy: 0.4862\n",
      "Epoch 4/30\n",
      "167/167 [==============================] - 294s 2s/step - loss: 0.6450 - accuracy: 0.6430 - val_loss: 0.6901 - val_accuracy: 0.5245\n",
      "Epoch 5/30\n",
      "167/167 [==============================] - 290s 2s/step - loss: 0.6177 - accuracy: 0.7113 - val_loss: 0.6582 - val_accuracy: 0.6187\n",
      "Epoch 6/30\n",
      "167/167 [==============================] - 290s 2s/step - loss: 0.5713 - accuracy: 0.7623 - val_loss: 0.5938 - val_accuracy: 0.7078\n",
      "Epoch 7/30\n",
      "167/167 [==============================] - 288s 2s/step - loss: 0.5103 - accuracy: 0.7905 - val_loss: 0.4939 - val_accuracy: 0.8020\n",
      "Epoch 8/30\n",
      "167/167 [==============================] - 287s 2s/step - loss: 0.4547 - accuracy: 0.8129 - val_loss: 0.4266 - val_accuracy: 0.8297\n",
      "Epoch 9/30\n",
      "167/167 [==============================] - 285s 2s/step - loss: 0.4109 - accuracy: 0.8328 - val_loss: 0.3974 - val_accuracy: 0.8353\n",
      "Epoch 10/30\n",
      "167/167 [==============================] - 285s 2s/step - loss: 0.3831 - accuracy: 0.8394 - val_loss: 0.3608 - val_accuracy: 0.8505\n",
      "Epoch 11/30\n",
      "167/167 [==============================] - 299s 2s/step - loss: 0.3680 - accuracy: 0.8469 - val_loss: 0.3304 - val_accuracy: 0.8629\n",
      "Epoch 12/30\n",
      "167/167 [==============================] - 285s 2s/step - loss: 0.3510 - accuracy: 0.8552 - val_loss: 0.3374 - val_accuracy: 0.8567\n",
      "Epoch 13/30\n",
      "167/167 [==============================] - 294s 2s/step - loss: 0.3388 - accuracy: 0.8589 - val_loss: 0.3292 - val_accuracy: 0.8663\n",
      "Epoch 14/30\n",
      "167/167 [==============================] - 285s 2s/step - loss: 0.3252 - accuracy: 0.8668 - val_loss: 0.3072 - val_accuracy: 0.8754\n",
      "Epoch 15/30\n",
      "167/167 [==============================] - 287s 2s/step - loss: 0.3209 - accuracy: 0.8695 - val_loss: 0.2954 - val_accuracy: 0.8900\n",
      "Epoch 16/30\n",
      "167/167 [==============================] - 273s 2s/step - loss: 0.3115 - accuracy: 0.8691 - val_loss: 0.2975 - val_accuracy: 0.8737\n",
      "Epoch 17/30\n",
      "167/167 [==============================] - 290s 2s/step - loss: 0.3068 - accuracy: 0.8719 - val_loss: 0.2857 - val_accuracy: 0.8855\n",
      "Epoch 18/30\n",
      "167/167 [==============================] - 282s 2s/step - loss: 0.2942 - accuracy: 0.8761 - val_loss: 0.2879 - val_accuracy: 0.8838\n",
      "Epoch 19/30\n",
      "167/167 [==============================] - 284s 2s/step - loss: 0.2921 - accuracy: 0.8813 - val_loss: 0.2819 - val_accuracy: 0.8827\n",
      "Epoch 20/30\n",
      "167/167 [==============================] - 285s 2s/step - loss: 0.2869 - accuracy: 0.8766 - val_loss: 0.2756 - val_accuracy: 0.8827\n",
      "Epoch 21/30\n",
      "167/167 [==============================] - 284s 2s/step - loss: 0.2816 - accuracy: 0.8823 - val_loss: 0.2658 - val_accuracy: 0.8872\n",
      "Epoch 22/30\n",
      "167/167 [==============================] - 281s 2s/step - loss: 0.2746 - accuracy: 0.8828 - val_loss: 0.2779 - val_accuracy: 0.8804\n",
      "Epoch 23/30\n",
      "167/167 [==============================] - 284s 2s/step - loss: 0.2755 - accuracy: 0.8856 - val_loss: 0.2777 - val_accuracy: 0.8838\n",
      "Epoch 24/30\n",
      "167/167 [==============================] - 307s 2s/step - loss: 0.2723 - accuracy: 0.8845 - val_loss: 0.2624 - val_accuracy: 0.8883\n",
      "Epoch 25/30\n",
      "167/167 [==============================] - 378s 2s/step - loss: 0.3045 - accuracy: 0.8531 - val_loss: 0.6941 - val_accuracy: 0.4535\n",
      "Epoch 26/30\n",
      "167/167 [==============================] - 333s 2s/step - loss: 0.6921 - accuracy: 0.5311 - val_loss: 0.6909 - val_accuracy: 0.5465\n",
      "Epoch 27/30\n",
      "167/167 [==============================] - 279s 2s/step - loss: 0.6905 - accuracy: 0.5465 - val_loss: 0.6902 - val_accuracy: 0.5465\n",
      "Epoch 28/30\n",
      "167/167 [==============================] - 280s 2s/step - loss: 0.6899 - accuracy: 0.5465 - val_loss: 0.6898 - val_accuracy: 0.5465\n",
      "Epoch 29/30\n",
      "167/167 [==============================] - 244s 1s/step - loss: 0.6896 - accuracy: 0.5465 - val_loss: 0.6895 - val_accuracy: 0.5465\n",
      "Epoch 30/30\n",
      "167/167 [==============================] - 235s 1s/step - loss: 0.6894 - accuracy: 0.5465 - val_loss: 0.6893 - val_accuracy: 0.5465\n"
     ]
    }
   ],
   "source": [
    "class_weight = {0:1.,1:1.}\n",
    "history = model.fit(train_generator, validation_data = valid_generator, epochs = 30, class_weight=class_weight)"
   ]
  },
  {
   "cell_type": "code",
   "execution_count": 52,
   "id": "673dee85",
   "metadata": {
    "colab": {
     "base_uri": "https://localhost:8080/"
    },
    "executionInfo": {
     "elapsed": 3892,
     "status": "ok",
     "timestamp": 1667765914375,
     "user": {
      "displayName": "Krish Ramesh",
      "userId": "00776630855129195029"
     },
     "user_tz": -60
    },
    "id": "673dee85",
    "outputId": "e7bb450b-9941-440b-f4f5-393570b3535c"
   },
   "outputs": [
    {
     "name": "stderr",
     "output_type": "stream",
     "text": [
      "WARNING:absl:Found untraced functions such as _jit_compiled_convolution_op, _jit_compiled_convolution_op, _jit_compiled_convolution_op, _jit_compiled_convolution_op, _jit_compiled_convolution_op while saving (showing 5 of 53). These functions will not be directly callable after loading.\n"
     ]
    },
    {
     "name": "stdout",
     "output_type": "stream",
     "text": [
      "INFO:tensorflow:Assets written to: /Users/krish/ljmu/3.results/09112022-ResNet50/09112022-1710-ResNet_after_tiling+augmentation_30epochs/assets\n"
     ]
    },
    {
     "name": "stderr",
     "output_type": "stream",
     "text": [
      "INFO:tensorflow:Assets written to: /Users/krish/ljmu/3.results/09112022-ResNet50/09112022-1710-ResNet_after_tiling+augmentation_30epochs/assets\n"
     ]
    }
   ],
   "source": [
    "model.save(result_root+date_time+'-ResNet_after_tiling+augmentation_30epochs')"
   ]
  },
  {
   "cell_type": "code",
   "execution_count": 53,
   "id": "8277ca2d",
   "metadata": {
    "colab": {
     "base_uri": "https://localhost:8080/",
     "height": 301
    },
    "executionInfo": {
     "elapsed": 29186,
     "status": "ok",
     "timestamp": 1667765943558,
     "user": {
      "displayName": "Krish Ramesh",
      "userId": "00776630855129195029"
     },
     "user_tz": -60
    },
    "id": "8277ca2d",
    "outputId": "0d498399-d77b-4096-f0cd-d38da2838873"
   },
   "outputs": [
    {
     "name": "stdout",
     "output_type": "stream",
     "text": [
      "56/56 - 23s - loss: 0.6893 - accuracy: 0.5465 - 23s/epoch - 418ms/step\n"
     ]
    },
    {
     "data": {
      "image/png": "[encoded data removed]",
      "text/plain": [
       "<Figure size 640x480 with 1 Axes>"
      ]
     },
     "metadata": {},
     "output_type": "display_data"
    }
   ],
   "source": [
    "plt.plot(history.history['accuracy'], label='accuracy')\n",
    "plt.plot(history.history['val_accuracy'], label = 'val_accuracy')\n",
    "plt.xlabel('Epoch')\n",
    "plt.ylabel('Accuracy')\n",
    "plt.ylim([0.5, 1])\n",
    "plt.legend(loc='lower right')\n",
    "\n",
    "test_loss, test_acc = model.evaluate(valid_generator, verbose=2)\n",
    "\n",
    "plt.savefig(result_root+date_time+'-ResNet_accuracy_after_tiling_augmentation.png')"
   ]
  },
  {
   "cell_type": "code",
   "execution_count": null,
   "id": "k5kh9q0DXabQ",
   "metadata": {
    "executionInfo": {
     "elapsed": 17,
     "status": "ok",
     "timestamp": 1667765943559,
     "user": {
      "displayName": "Krish Ramesh",
      "userId": "00776630855129195029"
     },
     "user_tz": -60
    },
    "id": "k5kh9q0DXabQ"
   },
   "outputs": [],
   "source": []
  }
 ],
 "metadata": {
  "accelerator": "GPU",
  "colab": {
   "collapsed_sections": [],
   "provenance": []
  },
  "gpuClass": "standard",
  "kernelspec": {
   "display_name": "Python 3.9 (tensorflow)",
   "language": "python",
   "name": "tensorflow"
  },
  "language_info": {
   "codemirror_mode": {
    "name": "ipython",
    "version": 3
   },
   "file_extension": ".py",
   "mimetype": "text/x-python",
   "name": "python",
   "nbconvert_exporter": "python",
   "pygments_lexer": "ipython3",
   "version": "3.9.13"
  }
 },
 "nbformat": 4,
 "nbformat_minor": 5
}
