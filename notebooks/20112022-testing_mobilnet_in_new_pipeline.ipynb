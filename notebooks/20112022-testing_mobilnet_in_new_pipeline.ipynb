{
 "cells": [
  {
   "cell_type": "code",
   "execution_count": 1,
   "id": "8fb97c91",
   "metadata": {},
   "outputs": [],
   "source": [
    "# OBJECTIVES:\n",
    "# Testing if the mobilnet/efficient net have similar ap scores (using new pipeline)\n",
    "# Testing the tesing script in py"
   ]
  },
  {
   "cell_type": "code",
   "execution_count": 38,
   "id": "63976361",
   "metadata": {},
   "outputs": [],
   "source": [
    "from pathlib import Path\n",
    "import pandas as pd\n",
    "from datetime import datetime\n",
    "import glob\n",
    "from sklearn.model_selection import train_test_split\n",
    "import os\n",
    "from PIL import Image\n",
    "import numpy as np"
   ]
  },
  {
   "cell_type": "code",
   "execution_count": 3,
   "id": "7b34f6b7",
   "metadata": {},
   "outputs": [],
   "source": [
    "from tensorflow.keras import layers\n",
    "from keras_preprocessing.image import ImageDataGenerator\n",
    "import tensorflow as tf\n",
    "from tensorflow.keras.layers import Input , Dense , Flatten , GlobalAveragePooling2D\n",
    "from tensorflow.keras.models import Sequential"
   ]
  },
  {
   "cell_type": "code",
   "execution_count": 4,
   "id": "cdfce857",
   "metadata": {},
   "outputs": [],
   "source": [
    "# important directories\n",
    "result_root = r'/Users/krish/ljmu/3.results/20112022-testing_mobilnet_in_new_pipeline/'\n",
    "Path(result_root).mkdir(parents=True, exist_ok=True)\n",
    "root_path =  r'/Users/krish/ljmu/1.data/afo/'"
   ]
  },
  {
   "cell_type": "code",
   "execution_count": 5,
   "id": "f1c264e6",
   "metadata": {},
   "outputs": [
    {
     "name": "stdout",
     "output_type": "stream",
     "text": [
      "train 39695 validation 7005\n"
     ]
    },
    {
     "name": "stderr",
     "output_type": "stream",
     "text": [
      "/var/folders/zk/p2gyqg915639vx6xr9xbs9cm0000gn/T/ipykernel_55412/479706516.py:13: FutureWarning: The frame.append method is deprecated and will be removed from pandas in a future version. Use pandas.concat instead.\n",
      "  tiled_train = df_true.append(df_false)\n"
     ]
    }
   ],
   "source": [
    "# I can replace this entire cell by saving a csv but I continue to use this so that I can make changes.\n",
    "# And running this hardly takes 1 sec\n",
    "# Creating the dataframe for training (bettter than saving and reopening csv)\n",
    "df_true = pd.DataFrame(columns = ['file_name','humans'])\n",
    "df_false = pd.DataFrame(columns = ['file_name','humans'])\n",
    "\n",
    "df_true['file_name'] = glob.glob(r'/Users/krish/ljmu/1.data/afo/tiledv2/train/ts/*.jpg')\n",
    "df_true.humans = 1\n",
    "\n",
    "df_false['file_name'] = glob.glob(r'/Users/krish/ljmu/1.data/afo/tiledv2/train/false/*.jpg')\n",
    "df_false.humans = 0\n",
    "\n",
    "tiled_train = df_true.append(df_false)\n",
    "tiled_train['humans'] = tiled_train.humans.apply(lambda x: str(x))\n",
    "\n",
    "# Train validation split\n",
    "train_df, valid_df = train_test_split(tiled_train, \n",
    "                                   test_size = 0.15, \n",
    "                                   random_state = 1998,\n",
    "                                   stratify = tiled_train['humans']) # Stratify makes sure that the subset of training and testing data returned keeps the same class propotion of the main dataframe\n",
    "print('train', train_df.shape[0], 'validation', valid_df.shape[0])"
   ]
  },
  {
   "cell_type": "code",
   "execution_count": 6,
   "id": "363da588",
   "metadata": {},
   "outputs": [
    {
     "name": "stdout",
     "output_type": "stream",
     "text": [
      "Found 39695 validated image filenames belonging to 2 classes.\n",
      "Found 7005 validated image filenames belonging to 2 classes.\n"
     ]
    }
   ],
   "source": [
    "# Rotation_range - random rotation within the angle mentioned\n",
    "# Random_shifts - shifts 20% at max. to the horizontal and vertical(reduce to 10% as already diverse data)\n",
    "# Random_flip - random flips \n",
    "# fill_mode - fill the blank pixels, when augmenting with the nearest color\n",
    "datagen = ImageDataGenerator(rotation_range = 360,\n",
    "                             width_shift_range=0.1, height_shift_range=0.1,\n",
    "                             #horizontal_flip=True, vertical_flip=True, # Isnt much useful for us\n",
    "                             brightness_range=[0.5,1.5],\n",
    "                             rescale=1./255.,fill_mode='nearest')\n",
    "\n",
    "train_generator = datagen.flow_from_dataframe(dataframe=train_df, x_col = 'file_name', y_col = 'humans', class_mode='binary', target_size=(224 , 224), batch_size=24)\n",
    "valid_generator = datagen.flow_from_dataframe(dataframe=valid_df, x_col = 'file_name', y_col = 'humans', class_mode='binary', target_size=(224 , 224), batch_size=24)"
   ]
  },
  {
   "cell_type": "code",
   "execution_count": 7,
   "id": "162079e7",
   "metadata": {},
   "outputs": [
    {
     "name": "stdout",
     "output_type": "stream",
     "text": [
      "Metal device set to: Apple M1\n"
     ]
    },
    {
     "name": "stderr",
     "output_type": "stream",
     "text": [
      "2022-11-20 21:28:55.941556: I tensorflow/core/common_runtime/pluggable_device/pluggable_device_factory.cc:305] Could not identify NUMA node of platform GPU ID 0, defaulting to 0. Your kernel may not have been built with NUMA support.\n",
      "2022-11-20 21:28:55.941972: I tensorflow/core/common_runtime/pluggable_device/pluggable_device_factory.cc:271] Created TensorFlow device (/job:localhost/replica:0/task:0/device:GPU:0 with 0 MB memory) -> physical PluggableDevice (device: 0, name: METAL, pci bus id: <undefined>)\n"
     ]
    }
   ],
   "source": [
    "# i'll be using inception_v3 for this model , along with 2 extra dense layers and the output layer\n",
    "# (224,224,3) is the default shape for imagent and that actually cant bechanged\n",
    "mobilenet = tf.keras.applications.mobilenet.MobileNet(input_shape=(224 , 224, 3),\n",
    "                                           include_top=False, \n",
    "                                           weights='imagenet')\n",
    "\n",
    "model = Sequential()\n",
    "model.add(mobilenet)\n",
    "model.add(GlobalAveragePooling2D())\n",
    "model.add(Flatten())\n",
    "model.add(Dense(1024, activation=\"relu\"))\n",
    "model.add(Dense(512, activation=\"relu\"))\n",
    "\n",
    "model.add(Dense(1024, activation=\"relu\"))\n",
    "model.add(Dense(512, activation=\"relu\"))\n",
    "\n",
    "model.add(Dense(1024, activation=\"relu\"))\n",
    "model.add(Dense(512, activation=\"relu\"))\n",
    "\n",
    "\n",
    "\n",
    "model.add(Dense(1, activation=\"sigmoid\" , name=\"classification\"))"
   ]
  },
  {
   "cell_type": "code",
   "execution_count": 8,
   "id": "87fde64a",
   "metadata": {},
   "outputs": [
    {
     "name": "stdout",
     "output_type": "stream",
     "text": [
      "Model: \"sequential\"\n",
      "_________________________________________________________________\n",
      " Layer (type)                Output Shape              Param #   \n",
      "=================================================================\n",
      " mobilenet_1.00_224 (Functio  (None, 7, 7, 1024)       3228864   \n",
      " nal)                                                            \n",
      "                                                                 \n",
      " global_average_pooling2d (G  (None, 1024)             0         \n",
      " lobalAveragePooling2D)                                          \n",
      "                                                                 \n",
      " flatten (Flatten)           (None, 1024)              0         \n",
      "                                                                 \n",
      " dense (Dense)               (None, 1024)              1049600   \n",
      "                                                                 \n",
      " dense_1 (Dense)             (None, 512)               524800    \n",
      "                                                                 \n",
      " dense_2 (Dense)             (None, 1024)              525312    \n",
      "                                                                 \n",
      " dense_3 (Dense)             (None, 512)               524800    \n",
      "                                                                 \n",
      " dense_4 (Dense)             (None, 1024)              525312    \n",
      "                                                                 \n",
      " dense_5 (Dense)             (None, 512)               524800    \n",
      "                                                                 \n",
      " classification (Dense)      (None, 1)                 513       \n",
      "                                                                 \n",
      "=================================================================\n",
      "Total params: 6,904,001\n",
      "Trainable params: 6,882,113\n",
      "Non-trainable params: 21,888\n",
      "_________________________________________________________________\n"
     ]
    }
   ],
   "source": [
    "model.compile(optimizer=tf.keras.optimizers.SGD(learning_rate=0.004,momentum=0.9), \n",
    "            loss='BinaryCrossentropy',\n",
    "            metrics = ['accuracy'])\n",
    "\n",
    "model.summary()"
   ]
  },
  {
   "cell_type": "code",
   "execution_count": 9,
   "id": "79685148",
   "metadata": {},
   "outputs": [],
   "source": [
    "es = tf.keras.callbacks.EarlyStopping(monitor='val_loss', patience=3, min_delta = 0.5)\n",
    "class_weight = {0:train_df['humans'].value_counts()[0]/train_df.shape[0],1:train_df['humans'].value_counts()[1]/train_df.shape[0],}"
   ]
  },
  {
   "cell_type": "code",
   "execution_count": 10,
   "id": "30c4808a",
   "metadata": {},
   "outputs": [
    {
     "name": "stdout",
     "output_type": "stream",
     "text": [
      "Epoch 1/20\n"
     ]
    },
    {
     "name": "stderr",
     "output_type": "stream",
     "text": [
      "2022-11-20 21:28:56.656965: W tensorflow/core/platform/profile_utils/cpu_utils.cc:128] Failed to get CPU frequency: 0 Hz\n",
      "2022-11-20 21:28:57.305432: I tensorflow/core/grappler/optimizers/custom_graph_optimizer_registry.cc:113] Plugin optimizer for device_type GPU is enabled.\n"
     ]
    },
    {
     "name": "stdout",
     "output_type": "stream",
     "text": [
      "1654/1654 [==============================] - ETA: 0s - loss: 0.0950 - accuracy: 0.9062"
     ]
    },
    {
     "name": "stderr",
     "output_type": "stream",
     "text": [
      "2022-11-20 21:39:02.204106: I tensorflow/core/grappler/optimizers/custom_graph_optimizer_registry.cc:113] Plugin optimizer for device_type GPU is enabled.\n"
     ]
    },
    {
     "name": "stdout",
     "output_type": "stream",
     "text": [
      "1654/1654 [==============================] - 670s 404ms/step - loss: 0.0950 - accuracy: 0.9062 - val_loss: 0.2000 - val_accuracy: 0.9360\n",
      "Epoch 2/20\n",
      "1654/1654 [==============================] - 660s 399ms/step - loss: 0.0722 - accuracy: 0.9337 - val_loss: 0.1921 - val_accuracy: 0.9385\n",
      "Epoch 3/20\n",
      "1654/1654 [==============================] - 673s 407ms/step - loss: 0.0675 - accuracy: 0.9366 - val_loss: 0.1822 - val_accuracy: 0.9423\n",
      "Epoch 4/20\n",
      "1654/1654 [==============================] - 740s 447ms/step - loss: 0.0637 - accuracy: 0.9415 - val_loss: 0.1701 - val_accuracy: 0.9449\n"
     ]
    }
   ],
   "source": [
    "history = model.fit(train_generator, validation_data = valid_generator, epochs = 20, class_weight=class_weight,callbacks=[es])"
   ]
  },
  {
   "cell_type": "code",
   "execution_count": 13,
   "id": "00d27256",
   "metadata": {},
   "outputs": [
    {
     "name": "stderr",
     "output_type": "stream",
     "text": [
      "WARNING:absl:Function `_wrapped_model` contains input name(s) mobilenet_1.00_224_input with unsupported characters which will be renamed to mobilenet_1_00_224_input in the SavedModel.\n",
      "WARNING:absl:Found untraced functions such as _jit_compiled_convolution_op, _jit_compiled_convolution_op, _jit_compiled_convolution_op, _jit_compiled_convolution_op, _jit_compiled_convolution_op while saving (showing 5 of 27). These functions will not be directly callable after loading.\n"
     ]
    },
    {
     "name": "stdout",
     "output_type": "stream",
     "text": [
      "INFO:tensorflow:Assets written to: /Users/krish/ljmu/3.results/20112022-testing_mobilnet_in_new_pipeline/20112022-2214-Mobilenet+tile+augmentation_20epochs_afo/assets\n"
     ]
    },
    {
     "name": "stderr",
     "output_type": "stream",
     "text": [
      "INFO:tensorflow:Assets written to: /Users/krish/ljmu/3.results/20112022-testing_mobilnet_in_new_pipeline/20112022-2214-Mobilenet+tile+augmentation_20epochs_afo/assets\n"
     ]
    }
   ],
   "source": [
    "now = datetime.now()\n",
    "date_time = now.strftime(\"%d%m%Y-%H%M\")\n",
    "model_save_dir = result_root+date_time+'-Mobilenet+tile+augmentation_20epochs_afo'\n",
    "model.save(model_save_dir)"
   ]
  },
  {
   "cell_type": "code",
   "execution_count": 15,
   "id": "b331edae",
   "metadata": {},
   "outputs": [
    {
     "name": "stdout",
     "output_type": "stream",
     "text": [
      "292/292 - 54s - loss: 0.1725 - accuracy: 0.9430 - 54s/epoch - 185ms/step\n"
     ]
    },
    {
     "data": {
      "image/png": "[encoded data removed]",
      "text/plain": [
       "<Figure size 640x480 with 1 Axes>"
      ]
     },
     "metadata": {},
     "output_type": "display_data"
    }
   ],
   "source": [
    "import matplotlib.pyplot as plt\n",
    "\n",
    "plt.plot(history.history['accuracy'], label='accuracy')\n",
    "plt.plot(history.history['val_accuracy'], label = 'val_accuracy')\n",
    "plt.xlabel('Epoch')\n",
    "plt.ylabel('Accuracy')\n",
    "plt.ylim([0.5, 1])\n",
    "plt.legend(loc='lower right')\n",
    "\n",
    "test_loss, test_acc = model.evaluate(valid_generator, verbose=2)"
   ]
  },
  {
   "cell_type": "markdown",
   "id": "2912ebf9",
   "metadata": {},
   "source": [
    "## tester"
   ]
  },
  {
   "cell_type": "code",
   "execution_count": 32,
   "id": "02af0fac",
   "metadata": {},
   "outputs": [
    {
     "name": "stderr",
     "output_type": "stream",
     "text": [
      "/var/folders/zk/p2gyqg915639vx6xr9xbs9cm0000gn/T/ipykernel_55412/834701717.py:10: FutureWarning: The frame.append method is deprecated and will be removed from pandas in a future version. Use pandas.concat instead.\n",
      "  tiled_test = df_true.append(df_false)\n"
     ]
    }
   ],
   "source": [
    "df_true = pd.DataFrame(columns = ['file_name','humans'])\n",
    "df_false = pd.DataFrame(columns = ['file_name','humans'])\n",
    "\n",
    "df_true['file_name'] = glob.glob(r'/Users/krish/ljmu/1.data/afo/tiledv2/test/ts/*.jpg')\n",
    "df_true['humans'] = 1\n",
    "\n",
    "df_false['file_name'] = glob.glob(r'/Users/krish/ljmu/1.data/afo/tiledv2/test/false/*.jpg')\n",
    "df_false['humans'] = 0\n",
    "\n",
    "tiled_test = df_true.append(df_false)\n",
    "\n",
    "tiled_test['humans'] = tiled_test['humans'].apply(lambda x: str(x))\n",
    "\n",
    "IMG_SIZE = 224\n",
    "\n",
    "resize_and_rescale = tf.keras.Sequential([layers.Resizing(IMG_SIZE, IMG_SIZE),layers.Rescaling(1./255)])\n",
    "\n",
    "model = tf.keras.models.load_model(model_save_dir)\n",
    "\n",
    "\n",
    "def predicter(file_path):\n",
    "    \n",
    "    #print(file_path)\n",
    "    im = Image.open(file_path)\n",
    "    test_input = np.array(im, dtype=np.uint8)\n",
    "    if len(test_input.shape) == 3:\n",
    "        test_input = resize_and_rescale(test_input)\n",
    "        out = model(tf.reshape(test_input,(1,224,224,3)))\n",
    "\n",
    "        return np.array(out)[0][0] \n",
    "    else:\n",
    "        return 'out_of_shape'\n",
    "    \n"
   ]
  },
  {
   "cell_type": "code",
   "execution_count": 43,
   "id": "356ca24f",
   "metadata": {},
   "outputs": [],
   "source": [
    "if os.path.exists(model_save_dir+'test_prediction.csv'):\n",
    "    tiled_test=pd.read_csv(model_save_dir+'test_prediction.csv')\n",
    "    y_true = tiled_test.iloc[:]['humans'].values\n",
    "    y_pred = tiled_test.iloc[:]['prediction'].values\n",
    "\n",
    "else:    \n",
    "    tiled_test['prediction'] = tiled_test.file_name.apply(predicter)\n",
    "    tiled_test['humans'] = tiled_test.humans.apply(lambda x:int(x)) \n",
    "    tiled_test.to_csv(model_save_dir+'test_prediction.csv')\n",
    "    y_true = tiled_test.iloc[:]['humans'].values\n",
    "    y_pred = tiled_test.iloc[:]['prediction'].values"
   ]
  },
  {
   "cell_type": "code",
   "execution_count": 29,
   "id": "6d95cab2",
   "metadata": {},
   "outputs": [],
   "source": [
    "import sys  \n",
    "sys.path.insert(0, r'/Users/krish/ljmu/2.code')\n",
    "\n",
    "import metrics_tester as mt"
   ]
  },
  {
   "cell_type": "code",
   "execution_count": 30,
   "id": "60a0fab0",
   "metadata": {},
   "outputs": [
    {
     "ename": "AttributeError",
     "evalue": "module 'metrics_tester' has no attribute 'model_imp'",
     "output_type": "error",
     "traceback": [
      "\u001b[0;31m---------------------------------------------------------------------------\u001b[0m",
      "\u001b[0;31mAttributeError\u001b[0m                            Traceback (most recent call last)",
      "Cell \u001b[0;32mIn [30], line 1\u001b[0m\n\u001b[0;32m----> 1\u001b[0m \u001b[43mmt2\u001b[49m\u001b[38;5;241;43m.\u001b[39;49m\u001b[43mmodel_imp\u001b[49m(model_save_dir)\n\u001b[1;32m      2\u001b[0m y_pred, y_true \u001b[38;5;241m=\u001b[39m mt2\u001b[38;5;241m.\u001b[39mprediction_csv(model_save_dir)\n",
      "\u001b[0;31mAttributeError\u001b[0m: module 'metrics_tester' has no attribute 'model_imp'"
     ]
    }
   ],
   "source": [
    "mt2.model_imp(model_save_dir)\n",
    "y_pred, y_true = mt2.prediction_csv(model_save_dir)"
   ]
  },
  {
   "cell_type": "code",
   "execution_count": 44,
   "id": "9a195c0a",
   "metadata": {},
   "outputs": [
    {
     "name": "stdout",
     "output_type": "stream",
     "text": [
      "confusion [[11115   100]\n",
      " [  556  3932]]\n",
      "recall 0.8761140819964349\n",
      "precision 0.9751984126984127\n"
     ]
    }
   ],
   "source": [
    "from sklearn.metrics import confusion_matrix\n",
    "print('confusion',confusion_matrix(y_true,y_pred.round()))\n",
    "\n",
    "from sklearn.metrics import recall_score\n",
    "print('recall',recall_score(y_true,y_pred.round()))\n",
    "\n",
    "from sklearn.metrics import precision_score\n",
    "print('precision',precision_score(y_true,y_pred.round()))"
   ]
  },
  {
   "cell_type": "code",
   "execution_count": 45,
   "id": "73930dc7",
   "metadata": {},
   "outputs": [
    {
     "data": {
      "text/plain": [
       "<sklearn.metrics._plot.precision_recall_curve.PrecisionRecallDisplay at 0x31ec72c40>"
      ]
     },
     "execution_count": 45,
     "metadata": {},
     "output_type": "execute_result"
    },
    {
     "data": {
      "image/png": "[encoded data removed]",
      "text/plain": [
       "<Figure size 640x480 with 1 Axes>"
      ]
     },
     "metadata": {},
     "output_type": "display_data"
    }
   ],
   "source": [
    "from sklearn.metrics import PrecisionRecallDisplay\n",
    "PrecisionRecallDisplay.from_predictions(y_true,y_pred)"
   ]
  },
  {
   "cell_type": "code",
   "execution_count": null,
   "id": "1fa5939a",
   "metadata": {},
   "outputs": [],
   "source": []
  }
 ],
 "metadata": {
  "kernelspec": {
   "display_name": "Python 3.9 (tensorflow)",
   "language": "python",
   "name": "tensorflow"
  },
  "language_info": {
   "codemirror_mode": {
    "name": "ipython",
    "version": 3
   },
   "file_extension": ".py",
   "mimetype": "text/x-python",
   "name": "python",
   "nbconvert_exporter": "python",
   "pygments_lexer": "ipython3",
   "version": "3.9.13"
  }
 },
 "nbformat": 4,
 "nbformat_minor": 5
}
