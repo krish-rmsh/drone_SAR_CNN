{
 "cells": [
  {
   "cell_type": "markdown",
   "id": "f71b558e",
   "metadata": {},
   "source": [
    "### Preparing the dataframe "
   ]
  },
  {
   "cell_type": "code",
   "execution_count": 1,
   "id": "95173433",
   "metadata": {},
   "outputs": [],
   "source": [
    "import pandas as pd\n",
    "import glob"
   ]
  },
  {
   "cell_type": "code",
   "execution_count": 2,
   "id": "f41fcad3",
   "metadata": {},
   "outputs": [
    {
     "name": "stderr",
     "output_type": "stream",
     "text": [
      "/var/folders/zk/p2gyqg915639vx6xr9xbs9cm0000gn/T/ipykernel_22547/3209451503.py:10: FutureWarning: The frame.append method is deprecated and will be removed from pandas in a future version. Use pandas.concat instead.\n",
      "  df = df_true.append(df_false)\n"
     ]
    }
   ],
   "source": [
    "df_true = pd.DataFrame(columns = ['name','flag'])\n",
    "df_false = pd.DataFrame(columns = ['name','flag'])\n",
    "\n",
    "df_true['name'] = glob.glob(r'/Users/krish/ljmu/1.data/sampletiled/ts/*.jpg')\n",
    "df_true.flag = 1\n",
    "\n",
    "df_false['name'] = glob.glob(r'/Users/krish/ljmu/1.data/sampletiled/false/*.jpg')\n",
    "df_false.flag = 0\n",
    "\n",
    "df = df_true.append(df_false)"
   ]
  },
  {
   "cell_type": "code",
   "execution_count": 3,
   "id": "90211c18",
   "metadata": {},
   "outputs": [
    {
     "data": {
      "text/plain": [
       "(3215, 2)"
      ]
     },
     "execution_count": 3,
     "metadata": {},
     "output_type": "execute_result"
    }
   ],
   "source": [
    "df_true.shape"
   ]
  },
  {
   "cell_type": "code",
   "execution_count": 4,
   "id": "17c94f88",
   "metadata": {},
   "outputs": [
    {
     "data": {
      "text/plain": [
       "(3875, 2)"
      ]
     },
     "execution_count": 4,
     "metadata": {},
     "output_type": "execute_result"
    }
   ],
   "source": [
    "df_false.shape"
   ]
  },
  {
   "cell_type": "code",
   "execution_count": 5,
   "id": "e8927498",
   "metadata": {},
   "outputs": [
    {
     "data": {
      "text/html": [
       "<div>\n",
       "<style scoped>\n",
       "    .dataframe tbody tr th:only-of-type {\n",
       "        vertical-align: middle;\n",
       "    }\n",
       "\n",
       "    .dataframe tbody tr th {\n",
       "        vertical-align: top;\n",
       "    }\n",
       "\n",
       "    .dataframe thead th {\n",
       "        text-align: right;\n",
       "    }\n",
       "</style>\n",
       "<table border=\"1\" class=\"dataframe\">\n",
       "  <thead>\n",
       "    <tr style=\"text-align: right;\">\n",
       "      <th></th>\n",
       "      <th>name</th>\n",
       "      <th>flag</th>\n",
       "    </tr>\n",
       "  </thead>\n",
       "  <tbody>\n",
       "    <tr>\n",
       "      <th>0</th>\n",
       "      <td>/Users/krish/ljmu/1.data/sampletiled/ts/905_0_...</td>\n",
       "      <td>1</td>\n",
       "    </tr>\n",
       "    <tr>\n",
       "      <th>1</th>\n",
       "      <td>/Users/krish/ljmu/1.data/sampletiled/ts/889_0_...</td>\n",
       "      <td>1</td>\n",
       "    </tr>\n",
       "    <tr>\n",
       "      <th>2</th>\n",
       "      <td>/Users/krish/ljmu/1.data/sampletiled/ts/1434_0...</td>\n",
       "      <td>1</td>\n",
       "    </tr>\n",
       "    <tr>\n",
       "      <th>3</th>\n",
       "      <td>/Users/krish/ljmu/1.data/sampletiled/ts/5708_0...</td>\n",
       "      <td>1</td>\n",
       "    </tr>\n",
       "    <tr>\n",
       "      <th>4</th>\n",
       "      <td>/Users/krish/ljmu/1.data/sampletiled/ts/100_0_...</td>\n",
       "      <td>1</td>\n",
       "    </tr>\n",
       "    <tr>\n",
       "      <th>...</th>\n",
       "      <td>...</td>\n",
       "      <td>...</td>\n",
       "    </tr>\n",
       "    <tr>\n",
       "      <th>3870</th>\n",
       "      <td>/Users/krish/ljmu/1.data/sampletiled/false/238...</td>\n",
       "      <td>0</td>\n",
       "    </tr>\n",
       "    <tr>\n",
       "      <th>3871</th>\n",
       "      <td>/Users/krish/ljmu/1.data/sampletiled/false/197...</td>\n",
       "      <td>0</td>\n",
       "    </tr>\n",
       "    <tr>\n",
       "      <th>3872</th>\n",
       "      <td>/Users/krish/ljmu/1.data/sampletiled/false/198...</td>\n",
       "      <td>0</td>\n",
       "    </tr>\n",
       "    <tr>\n",
       "      <th>3873</th>\n",
       "      <td>/Users/krish/ljmu/1.data/sampletiled/false/474...</td>\n",
       "      <td>0</td>\n",
       "    </tr>\n",
       "    <tr>\n",
       "      <th>3874</th>\n",
       "      <td>/Users/krish/ljmu/1.data/sampletiled/false/444...</td>\n",
       "      <td>0</td>\n",
       "    </tr>\n",
       "  </tbody>\n",
       "</table>\n",
       "<p>7090 rows × 2 columns</p>\n",
       "</div>"
      ],
      "text/plain": [
       "                                                   name  flag\n",
       "0     /Users/krish/ljmu/1.data/sampletiled/ts/905_0_...     1\n",
       "1     /Users/krish/ljmu/1.data/sampletiled/ts/889_0_...     1\n",
       "2     /Users/krish/ljmu/1.data/sampletiled/ts/1434_0...     1\n",
       "3     /Users/krish/ljmu/1.data/sampletiled/ts/5708_0...     1\n",
       "4     /Users/krish/ljmu/1.data/sampletiled/ts/100_0_...     1\n",
       "...                                                 ...   ...\n",
       "3870  /Users/krish/ljmu/1.data/sampletiled/false/238...     0\n",
       "3871  /Users/krish/ljmu/1.data/sampletiled/false/197...     0\n",
       "3872  /Users/krish/ljmu/1.data/sampletiled/false/198...     0\n",
       "3873  /Users/krish/ljmu/1.data/sampletiled/false/474...     0\n",
       "3874  /Users/krish/ljmu/1.data/sampletiled/false/444...     0\n",
       "\n",
       "[7090 rows x 2 columns]"
      ]
     },
     "execution_count": 5,
     "metadata": {},
     "output_type": "execute_result"
    }
   ],
   "source": [
    "df"
   ]
  },
  {
   "cell_type": "code",
   "execution_count": 6,
   "id": "db365ecb",
   "metadata": {},
   "outputs": [
    {
     "data": {
      "text/plain": [
       "[]"
      ]
     },
     "execution_count": 6,
     "metadata": {},
     "output_type": "execute_result"
    }
   ],
   "source": [
    "import os\n",
    "os.getcwd()\n",
    "glob.glob(\"\")"
   ]
  },
  {
   "cell_type": "markdown",
   "id": "d00bef5a",
   "metadata": {},
   "source": [
    "### Training as before"
   ]
  },
  {
   "cell_type": "code",
   "execution_count": 235,
   "id": "3348cfdb",
   "metadata": {},
   "outputs": [],
   "source": [
    "#!pip install skimage"
   ]
  },
  {
   "cell_type": "code",
   "execution_count": 236,
   "id": "961ae8f1",
   "metadata": {},
   "outputs": [],
   "source": [
    "import numpy as np # linear algebra\n",
    "import pandas as pd # data processing, CSV file I/O (e.g. pd.read_csv)\n",
    "import matplotlib.pyplot as plt # showing and rendering figures\n",
    "# io related\n",
    "from skimage.io import imread\n",
    "import os\n",
    "from glob import glob\n",
    "# not needed in Kaggle, but required in Jupyter\n",
    "%matplotlib inline "
   ]
  },
  {
   "cell_type": "code",
   "execution_count": 237,
   "id": "ebedcc56",
   "metadata": {},
   "outputs": [],
   "source": [
    "#!pip install scikit-image"
   ]
  },
  {
   "cell_type": "code",
   "execution_count": 238,
   "id": "af7225ce",
   "metadata": {},
   "outputs": [],
   "source": [
    "#!pip install tensorflow"
   ]
  },
  {
   "cell_type": "code",
   "execution_count": 239,
   "id": "6586a76e",
   "metadata": {},
   "outputs": [],
   "source": [
    "df['flag'] = df.flag.apply(lambda x: str(x)) # used the qubit format"
   ]
  },
  {
   "cell_type": "code",
   "execution_count": 240,
   "id": "1ac4aa01",
   "metadata": {},
   "outputs": [],
   "source": [
    "from sklearn.model_selection import train_test_split"
   ]
  },
  {
   "cell_type": "code",
   "execution_count": 241,
   "id": "17e880e3",
   "metadata": {},
   "outputs": [],
   "source": [
    "#!pip install sklearn"
   ]
  },
  {
   "cell_type": "code",
   "execution_count": 242,
   "id": "8a45caaa",
   "metadata": {},
   "outputs": [
    {
     "name": "stdout",
     "output_type": "stream",
     "text": [
      "train 4896 validation 1632\n"
     ]
    }
   ],
   "source": [
    "train_df, valid_df = train_test_split(df, \n",
    "                                   test_size = 0.25, \n",
    "                                   random_state = 2018,\n",
    "                                   stratify = df['flag']) # Stratify makes sure that the subset of training and testing data returned keeps the same class propotion of the main dataframe\n",
    "print('train', train_df.shape[0], 'validation', valid_df.shape[0])"
   ]
  },
  {
   "cell_type": "code",
   "execution_count": 243,
   "id": "a95cb6a4",
   "metadata": {},
   "outputs": [],
   "source": [
    "from tensorflow.keras import layers\n",
    "from keras_preprocessing.image import ImageDataGenerator"
   ]
  },
  {
   "cell_type": "code",
   "execution_count": 244,
   "id": "efae81a3",
   "metadata": {},
   "outputs": [
    {
     "name": "stdout",
     "output_type": "stream",
     "text": [
      "Found 4896 validated image filenames belonging to 2 classes.\n",
      "Found 1632 validated image filenames belonging to 2 classes.\n"
     ]
    }
   ],
   "source": [
    "datagen = ImageDataGenerator(rescale=1./255.)\n",
    "\n",
    "train_generator = datagen.flow_from_dataframe(dataframe=train_df, x_col = 'name', y_col = 'flag', class_mode='binary', target_size=(224 , 224), batch_size=16)\n",
    "valid_generator = datagen.flow_from_dataframe(dataframe=valid_df, x_col = 'name', y_col = 'flag', class_mode='binary', target_size=(224 , 224), batch_size=16)"
   ]
  },
  {
   "cell_type": "markdown",
   "id": "cc8b47f1",
   "metadata": {},
   "source": [
    "### Bring in the model"
   ]
  },
  {
   "cell_type": "code",
   "execution_count": 245,
   "id": "decf414f",
   "metadata": {},
   "outputs": [],
   "source": [
    "import tensorflow as tf\n",
    "from tensorflow.keras.layers import Input , Dense , Flatten , GlobalAveragePooling2D\n",
    "from tensorflow.keras.models import Sequential"
   ]
  },
  {
   "cell_type": "code",
   "execution_count": 246,
   "id": "82da535c",
   "metadata": {},
   "outputs": [],
   "source": [
    "# i'll be using inception_v3 for this model , along with 2 extra dense layers and the output layer\n",
    "# (224,224,3) is the default shape for imagent and that actually cant bechanged\n",
    "mobilenet = tf.keras.applications.mobilenet.MobileNet(input_shape=(224 , 224, 3),\n",
    "                                           include_top=False, \n",
    "                                           weights='imagenet')\n",
    "\n",
    "model = Sequential()\n",
    "model.add(mobilenet)\n",
    "model.add(GlobalAveragePooling2D())\n",
    "model.add(Flatten())\n",
    "model.add(Dense(1024, activation=\"relu\"))\n",
    "model.add(Dense(512, activation=\"relu\"))\n",
    "\n",
    "model.add(Dense(1024, activation=\"relu\"))\n",
    "model.add(Dense(512, activation=\"relu\"))\n",
    "\n",
    "model.add(Dense(1024, activation=\"relu\"))\n",
    "model.add(Dense(512, activation=\"relu\"))\n",
    "\n",
    "\n",
    "\n",
    "model.add(Dense(1, activation=\"sigmoid\" , name=\"classification\"))"
   ]
  },
  {
   "cell_type": "code",
   "execution_count": 247,
   "id": "8ccd5102",
   "metadata": {},
   "outputs": [],
   "source": [
    "# model.compile(optimizer=tf.keras.optimizers.SGD(learning_rate=0.0001,momentum=0.9), \n",
    "#             loss='categorical_crossentropy',\n",
    "#             metrics = ['accuracy'])\n",
    "\n",
    "# model.summary()"
   ]
  },
  {
   "cell_type": "code",
   "execution_count": 248,
   "id": "a586346a",
   "metadata": {},
   "outputs": [
    {
     "name": "stdout",
     "output_type": "stream",
     "text": [
      "Model: \"sequential_17\"\n",
      "_________________________________________________________________\n",
      " Layer (type)                Output Shape              Param #   \n",
      "=================================================================\n",
      " mobilenet_1.00_224 (Functio  (None, 7, 7, 1024)       3228864   \n",
      " nal)                                                            \n",
      "                                                                 \n",
      " global_average_pooling2d_9   (None, 1024)             0         \n",
      " (GlobalAveragePooling2D)                                        \n",
      "                                                                 \n",
      " flatten_17 (Flatten)        (None, 1024)              0         \n",
      "                                                                 \n",
      " dense_58 (Dense)            (None, 1024)              1049600   \n",
      "                                                                 \n",
      " dense_59 (Dense)            (None, 512)               524800    \n",
      "                                                                 \n",
      " dense_60 (Dense)            (None, 1024)              525312    \n",
      "                                                                 \n",
      " dense_61 (Dense)            (None, 512)               524800    \n",
      "                                                                 \n",
      " dense_62 (Dense)            (None, 1024)              525312    \n",
      "                                                                 \n",
      " dense_63 (Dense)            (None, 512)               524800    \n",
      "                                                                 \n",
      " classification (Dense)      (None, 1)                 513       \n",
      "                                                                 \n",
      "=================================================================\n",
      "Total params: 6,904,001\n",
      "Trainable params: 6,882,113\n",
      "Non-trainable params: 21,888\n",
      "_________________________________________________________________\n"
     ]
    }
   ],
   "source": [
    "model.compile(optimizer=tf.keras.optimizers.SGD(learning_rate=0.0001,momentum=0.9), \n",
    "            loss='BinaryCrossentropy',\n",
    "            metrics = ['accuracy'])\n",
    "\n",
    "model.summary()"
   ]
  },
  {
   "cell_type": "code",
   "execution_count": 218,
   "id": "1c62ff87",
   "metadata": {
    "scrolled": true
   },
   "outputs": [
    {
     "name": "stdout",
     "output_type": "stream",
     "text": [
      "Epoch 1/6\n"
     ]
    },
    {
     "name": "stderr",
     "output_type": "stream",
     "text": [
      "2022-11-06 11:20:06.610091: I tensorflow/core/grappler/optimizers/custom_graph_optimizer_registry.cc:113] Plugin optimizer for device_type GPU is enabled.\n"
     ]
    },
    {
     "name": "stdout",
     "output_type": "stream",
     "text": [
      "306/306 [==============================] - ETA: 0s - loss: 0.9077 - accuracy: 0.4496"
     ]
    },
    {
     "name": "stderr",
     "output_type": "stream",
     "text": [
      "2022-11-06 11:21:11.757842: I tensorflow/core/grappler/optimizers/custom_graph_optimizer_registry.cc:113] Plugin optimizer for device_type GPU is enabled.\n"
     ]
    },
    {
     "name": "stdout",
     "output_type": "stream",
     "text": [
      "306/306 [==============================] - 72s 223ms/step - loss: 0.9077 - accuracy: 0.4496 - val_loss: 0.6884 - val_accuracy: 0.4577\n",
      "Epoch 2/6\n",
      "306/306 [==============================] - 69s 226ms/step - loss: 0.7648 - accuracy: 0.6150 - val_loss: 0.5207 - val_accuracy: 0.7310\n",
      "Epoch 3/6\n",
      "306/306 [==============================] - 72s 235ms/step - loss: 0.5928 - accuracy: 0.7945 - val_loss: 0.3795 - val_accuracy: 0.8425\n",
      "Epoch 4/6\n",
      "306/306 [==============================] - 72s 234ms/step - loss: 0.4788 - accuracy: 0.8493 - val_loss: 0.3277 - val_accuracy: 0.8725\n",
      "Epoch 5/6\n",
      "306/306 [==============================] - 71s 232ms/step - loss: 0.4084 - accuracy: 0.8764 - val_loss: 0.3349 - val_accuracy: 0.8725\n",
      "Epoch 6/6\n",
      "306/306 [==============================] - 72s 234ms/step - loss: 0.3594 - accuracy: 0.8922 - val_loss: 0.2684 - val_accuracy: 0.8922\n"
     ]
    }
   ],
   "source": [
    "class_weight = {0:1.,1:2.}\n",
    "history = model.fit(train_generator, validation_data = valid_generator, epochs = 6, class_weight=class_weight)"
   ]
  },
  {
   "cell_type": "code",
   "execution_count": null,
   "id": "003dcbbd",
   "metadata": {},
   "outputs": [],
   "source": [
    "plt.plot(history.history['accuracy'], label='accuracy')\n",
    "plt.plot(history.history['val_accuracy'], label = 'val_accuracy')\n",
    "plt.xlabel('Epoch')\n",
    "plt.ylabel('Accuracy')\n",
    "plt.ylim([0.5, 1])\n",
    "plt.legend(loc='lower right')\n",
    "\n",
    "test_loss, test_acc = model.evaluate(test_images,  test_labels, verbose=2)"
   ]
  },
  {
   "cell_type": "code",
   "execution_count": 249,
   "id": "c131291a",
   "metadata": {},
   "outputs": [
    {
     "name": "stdout",
     "output_type": "stream",
     "text": [
      "Epoch 1/6\n"
     ]
    },
    {
     "name": "stderr",
     "output_type": "stream",
     "text": [
      "2022-11-06 11:39:30.517986: I tensorflow/core/grappler/optimizers/custom_graph_optimizer_registry.cc:113] Plugin optimizer for device_type GPU is enabled.\n"
     ]
    },
    {
     "name": "stdout",
     "output_type": "stream",
     "text": [
      "306/306 [==============================] - 68s 210ms/step - loss: 0.9078 - accuracy: 0.4459\n",
      "Epoch 2/6\n",
      "306/306 [==============================] - 63s 205ms/step - loss: 0.7665 - accuracy: 0.6248\n",
      "Epoch 3/6\n",
      "306/306 [==============================] - 64s 211ms/step - loss: 0.5987 - accuracy: 0.7892\n",
      "Epoch 4/6\n",
      "306/306 [==============================] - 67s 219ms/step - loss: 0.4798 - accuracy: 0.8450\n",
      "Epoch 5/6\n",
      "306/306 [==============================] - 75s 244ms/step - loss: 0.4113 - accuracy: 0.8728\n",
      "Epoch 6/6\n",
      "306/306 [==============================] - 74s 243ms/step - loss: 0.3539 - accuracy: 0.8889\n"
     ]
    }
   ],
   "source": [
    "# Spoke with sharma, this validation is basically the test score, as it does not feedback into the model training phase.\n",
    "# class_weight = {0:1.,1:2.}\n",
    "# history = model.fit(train_generator, epochs = 6, class_weight=class_weight)"
   ]
  },
  {
   "cell_type": "markdown",
   "id": "3ee4d66e",
   "metadata": {},
   "source": [
    "**There seems to be no training taking place in these models. I am going to try out a custom CNN off the shelf**"
   ]
  },
  {
   "cell_type": "code",
   "execution_count": 222,
   "id": "2c6a5fe4",
   "metadata": {},
   "outputs": [],
   "source": [
    "from tensorflow.keras import datasets, layers, models"
   ]
  },
  {
   "cell_type": "code",
   "execution_count": 223,
   "id": "d4210e27",
   "metadata": {},
   "outputs": [],
   "source": [
    "model2 = models.Sequential()\n",
    "model2.add(layers.Conv2D(32, (3, 3), activation='relu', input_shape=(224, 224, 3)))\n",
    "model2.add(layers.MaxPooling2D((2, 2)))\n",
    "model2.add(layers.Conv2D(64, (3, 3), activation='relu'))\n",
    "model2.add(layers.MaxPooling2D((2, 2)))\n",
    "model2.add(layers.Conv2D(64, (3, 3), activation='relu'))"
   ]
  },
  {
   "cell_type": "code",
   "execution_count": 224,
   "id": "c19608db",
   "metadata": {},
   "outputs": [],
   "source": [
    "model2.add(layers.Flatten())\n",
    "model2.add(layers.Dense(64, activation='relu'))\n",
    "model2.add(layers.Dense(10))\n",
    "model2.add(Dense(1, activation=\"sigmoid\" , name=\"classification\"))"
   ]
  },
  {
   "cell_type": "code",
   "execution_count": 225,
   "id": "cf89b247",
   "metadata": {},
   "outputs": [
    {
     "name": "stdout",
     "output_type": "stream",
     "text": [
      "Model: \"sequential_16\"\n",
      "_________________________________________________________________\n",
      " Layer (type)                Output Shape              Param #   \n",
      "=================================================================\n",
      " conv2d_21 (Conv2D)          (None, 222, 222, 32)      896       \n",
      "                                                                 \n",
      " max_pooling2d_14 (MaxPoolin  (None, 111, 111, 32)     0         \n",
      " g2D)                                                            \n",
      "                                                                 \n",
      " conv2d_22 (Conv2D)          (None, 109, 109, 64)      18496     \n",
      "                                                                 \n",
      " max_pooling2d_15 (MaxPoolin  (None, 54, 54, 64)       0         \n",
      " g2D)                                                            \n",
      "                                                                 \n",
      " conv2d_23 (Conv2D)          (None, 52, 52, 64)        36928     \n",
      "                                                                 \n",
      " flatten_16 (Flatten)        (None, 173056)            0         \n",
      "                                                                 \n",
      " dense_56 (Dense)            (None, 64)                11075648  \n",
      "                                                                 \n",
      " dense_57 (Dense)            (None, 10)                650       \n",
      "                                                                 \n",
      " classification (Dense)      (None, 1)                 11        \n",
      "                                                                 \n",
      "=================================================================\n",
      "Total params: 11,132,629\n",
      "Trainable params: 11,132,629\n",
      "Non-trainable params: 0\n",
      "_________________________________________________________________\n"
     ]
    }
   ],
   "source": [
    "model2.summary()"
   ]
  },
  {
   "cell_type": "code",
   "execution_count": 226,
   "id": "9ab18de5",
   "metadata": {},
   "outputs": [],
   "source": [
    "# model.compile(optimizer=tf.keras.optimizers.SGD(learning_rate=0.0001,momentum=0.9), \n",
    "#             loss='categorical_crossentropy',\n",
    "#             metrics = ['accuracy'])"
   ]
  },
  {
   "cell_type": "code",
   "execution_count": 227,
   "id": "31df9e2a",
   "metadata": {},
   "outputs": [],
   "source": [
    "model2.compile(optimizer=tf.keras.optimizers.SGD(learning_rate=0.0001,momentum=0.7), \n",
    "            loss='BinaryCrossentropy',\n",
    "            metrics = ['accuracy'])"
   ]
  },
  {
   "cell_type": "code",
   "execution_count": 228,
   "id": "08802af4",
   "metadata": {},
   "outputs": [
    {
     "name": "stdout",
     "output_type": "stream",
     "text": [
      "Epoch 1/10\n"
     ]
    },
    {
     "name": "stderr",
     "output_type": "stream",
     "text": [
      "2022-11-06 11:28:04.872141: I tensorflow/core/grappler/optimizers/custom_graph_optimizer_registry.cc:113] Plugin optimizer for device_type GPU is enabled.\n"
     ]
    },
    {
     "name": "stdout",
     "output_type": "stream",
     "text": [
      "306/306 [==============================] - ETA: 0s - loss: 0.9596 - accuracy: 0.4451"
     ]
    },
    {
     "name": "stderr",
     "output_type": "stream",
     "text": [
      "2022-11-06 11:28:46.450316: I tensorflow/core/grappler/optimizers/custom_graph_optimizer_registry.cc:113] Plugin optimizer for device_type GPU is enabled.\n"
     ]
    },
    {
     "name": "stdout",
     "output_type": "stream",
     "text": [
      "306/306 [==============================] - 49s 159ms/step - loss: 0.9596 - accuracy: 0.4451 - val_loss: 0.7000 - val_accuracy: 0.4681\n",
      "Epoch 2/10\n",
      "306/306 [==============================] - 49s 161ms/step - loss: 0.9294 - accuracy: 0.4924 - val_loss: 0.7003 - val_accuracy: 0.5270\n",
      "Epoch 3/10\n",
      "306/306 [==============================] - 49s 160ms/step - loss: 0.9133 - accuracy: 0.5372 - val_loss: 0.6720 - val_accuracy: 0.5852\n",
      "Epoch 4/10\n",
      "306/306 [==============================] - 49s 161ms/step - loss: 0.8939 - accuracy: 0.5717 - val_loss: 0.6689 - val_accuracy: 0.6017\n",
      "Epoch 5/10\n",
      "306/306 [==============================] - 51s 167ms/step - loss: 0.8847 - accuracy: 0.5815 - val_loss: 0.6446 - val_accuracy: 0.6262\n",
      "Epoch 6/10\n",
      "306/306 [==============================] - 48s 158ms/step - loss: 0.8713 - accuracy: 0.6015 - val_loss: 0.6649 - val_accuracy: 0.6158\n",
      "Epoch 7/10\n",
      "306/306 [==============================] - 48s 157ms/step - loss: 0.8670 - accuracy: 0.6134 - val_loss: 0.7189 - val_accuracy: 0.5625\n",
      "Epoch 8/10\n",
      "306/306 [==============================] - 48s 158ms/step - loss: 0.8598 - accuracy: 0.6166 - val_loss: 0.6420 - val_accuracy: 0.6354\n",
      "Epoch 9/10\n",
      "306/306 [==============================] - 48s 157ms/step - loss: 0.8500 - accuracy: 0.6217 - val_loss: 0.6320 - val_accuracy: 0.6440\n",
      "Epoch 10/10\n",
      "306/306 [==============================] - 49s 159ms/step - loss: 0.8472 - accuracy: 0.6270 - val_loss: 0.6622 - val_accuracy: 0.6232\n"
     ]
    }
   ],
   "source": [
    "class_weight = {0:1.,1:2.}\n",
    "history2 = model2.fit(train_generator, validation_data = valid_generator, epochs = 10, class_weight = class_weight)"
   ]
  },
  {
   "cell_type": "code",
   "execution_count": null,
   "id": "ec760207",
   "metadata": {},
   "outputs": [],
   "source": [
    "# It is so wierd that we end up with the same accuracy all the time. There is something wrong before to the model defiinition."
   ]
  },
  {
   "cell_type": "code",
   "execution_count": 57,
   "id": "1140e8a6",
   "metadata": {},
   "outputs": [],
   "source": [
    "image_from_gen = next(valid_generator)"
   ]
  },
  {
   "cell_type": "code",
   "execution_count": 58,
   "id": "00f128f8",
   "metadata": {},
   "outputs": [
    {
     "data": {
      "text/plain": [
       "<matplotlib.image.AxesImage at 0x283971cd0>"
      ]
     },
     "execution_count": 58,
     "metadata": {},
     "output_type": "execute_result"
    },
    {
     "data": {
      "image/png": "[encoded data removed]",
      "text/plain": [
       "<Figure size 640x480 with 1 Axes>"
      ]
     },
     "metadata": {},
     "output_type": "display_data"
    }
   ],
   "source": [
    "image_from_gen[0][0].shape\n",
    "\n",
    "from matplotlib import pyplot as plt\n",
    "plt.imshow(image_from_gen[0][0])\n",
    "# So yes, the 224, denotes the size of the output image. But still not sure why this 224 and why the colour hasnt been normalised\n",
    "# The colour is normalised, the imshow function works with inputs [0,1]"
   ]
  },
  {
   "cell_type": "code",
   "execution_count": null,
   "id": "fbee3b4f",
   "metadata": {},
   "outputs": [],
   "source": []
  }
 ],
 "metadata": {
  "kernelspec": {
   "display_name": "Python 3.9 (tensorflow)",
   "language": "python",
   "name": "tensorflow"
  },
  "language_info": {
   "codemirror_mode": {
    "name": "ipython",
    "version": 3
   },
   "file_extension": ".py",
   "mimetype": "text/x-python",
   "name": "python",
   "nbconvert_exporter": "python",
   "pygments_lexer": "ipython3",
   "version": "3.9.13"
  }
 },
 "nbformat": 4,
 "nbformat_minor": 5
}
