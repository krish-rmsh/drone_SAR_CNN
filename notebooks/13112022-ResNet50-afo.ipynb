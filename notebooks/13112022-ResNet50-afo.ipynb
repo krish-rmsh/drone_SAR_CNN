{
 "cells": [
  {
   "cell_type": "code",
   "execution_count": 1,
   "id": "4912b872",
   "metadata": {
    "executionInfo": {
     "elapsed": 336,
     "status": "ok",
     "timestamp": 1667763842293,
     "user": {
      "displayName": "Krish Ramesh",
      "userId": "00776630855129195029"
     },
     "user_tz": -60
    },
    "id": "4912b872"
   },
   "outputs": [],
   "source": [
    "# With the same augmentation, we are going to try vgg and resnet"
   ]
  },
  {
   "cell_type": "code",
   "execution_count": 2,
   "id": "RzK_2N_IV6th",
   "metadata": {
    "colab": {
     "base_uri": "https://localhost:8080/"
    },
    "executionInfo": {
     "elapsed": 3168,
     "status": "ok",
     "timestamp": 1667763846009,
     "user": {
      "displayName": "Krish Ramesh",
      "userId": "00776630855129195029"
     },
     "user_tz": -60
    },
    "id": "RzK_2N_IV6th",
    "outputId": "9cf5409e-d650-4ff5-c264-54122e54a3ef"
   },
   "outputs": [],
   "source": [
    "# from google.colab import drive\n",
    "# drive.mount('/content/drive')"
   ]
  },
  {
   "cell_type": "code",
   "execution_count": 1,
   "id": "e2c225be",
   "metadata": {},
   "outputs": [],
   "source": [
    "from datetime import datetime\n",
    "now = datetime.now()\n",
    "date_time = now.strftime(\"%d%m%Y-%H%M\")"
   ]
  },
  {
   "cell_type": "code",
   "execution_count": 2,
   "id": "ce31cf2a",
   "metadata": {
    "executionInfo": {
     "elapsed": 13,
     "status": "ok",
     "timestamp": 1667763846009,
     "user": {
      "displayName": "Krish Ramesh",
      "userId": "00776630855129195029"
     },
     "user_tz": -60
    },
    "id": "ce31cf2a"
   },
   "outputs": [],
   "source": [
    "### Preparing the dataframe \n",
    "import pandas as pd\n",
    "import glob\n",
    "from pathlib import Path\n",
    "import matplotlib.pyplot as plt \n",
    "\n",
    "\n",
    "\n"
   ]
  },
  {
   "cell_type": "code",
   "execution_count": 3,
   "id": "rraK0wg3WW6e",
   "metadata": {
    "executionInfo": {
     "elapsed": 13,
     "status": "ok",
     "timestamp": 1667763846010,
     "user": {
      "displayName": "Krish Ramesh",
      "userId": "00776630855129195029"
     },
     "user_tz": -60
    },
    "id": "rraK0wg3WW6e"
   },
   "outputs": [],
   "source": [
    "\n",
    "#/Users/krish/Library/CloudStorage/GoogleDrive-krishthephysicist@gmail.com/My Drive/ljmu/1.data\n",
    "root_path =  r'/Users/krish/ljmu/'\n",
    "result_root = root_path + '3.results/13112022-ResNet50-afo/'\n",
    "Path(result_root).mkdir(parents=True, exist_ok=True)\n",
    "\n",
    "# # Incase you run in colab\n",
    "# root_path =  r'/content/drive/MyDrive/ljmu/'\n",
    "# result_root = root_path + '3.results/06112022-VGGNet/'\n",
    "# Path(result_root).mkdir(parents=True, exist_ok=True)"
   ]
  },
  {
   "cell_type": "code",
   "execution_count": 14,
   "id": "1770bfb4",
   "metadata": {},
   "outputs": [],
   "source": [
    "train = pd.read_csv(root_path+'1.data/afo/tiled/afo_train_df.csv')\n"
   ]
  },
  {
   "cell_type": "code",
   "execution_count": 15,
   "id": "84c829aa",
   "metadata": {},
   "outputs": [],
   "source": [
    "train['humans'] = train['humans'].apply(lambda x: str(x))"
   ]
  },
  {
   "cell_type": "code",
   "execution_count": 17,
   "id": "042bee20",
   "metadata": {
    "colab": {
     "base_uri": "https://localhost:8080/"
    },
    "executionInfo": {
     "elapsed": 11,
     "status": "ok",
     "timestamp": 1667763846010,
     "user": {
      "displayName": "Krish Ramesh",
      "userId": "00776630855129195029"
     },
     "user_tz": -60
    },
    "id": "042bee20",
    "outputId": "74c427f1-d8b8-4f21-e239-a7ef5235f6e4"
   },
   "outputs": [
    {
     "name": "stdout",
     "output_type": "stream",
     "text": [
      "train 39781 validation 7021\n"
     ]
    }
   ],
   "source": [
    "# Generator\n",
    "import numpy as np # linear algebra\n",
    "import pandas as pd # data processing, CSV file I/O (e.g. pd.read_csv)\n",
    "import matplotlib.pyplot as plt # showing and rendering figures\n",
    "# io related\n",
    "from skimage.io import imread\n",
    "import os\n",
    "from glob import glob\n",
    "# not needed in Kaggle, but required in Jupyter\n",
    "%matplotlib inline \n",
    "from sklearn.model_selection import train_test_split\n",
    "\n",
    "train_df, valid_df = train_test_split(train, \n",
    "                                   test_size = 0.15, \n",
    "                                   random_state = 2018,\n",
    "                                   stratify = train['humans']) # Stratify makes sure that the subset of training and testing data returned keeps the same class propotion of the main dataframe\n",
    "print('train', train_df.shape[0], 'validation', valid_df.shape[0])"
   ]
  },
  {
   "cell_type": "code",
   "execution_count": 18,
   "id": "11e115cf",
   "metadata": {
    "executionInfo": {
     "elapsed": 9,
     "status": "ok",
     "timestamp": 1667763846011,
     "user": {
      "displayName": "Krish Ramesh",
      "userId": "00776630855129195029"
     },
     "user_tz": -60
    },
    "id": "11e115cf"
   },
   "outputs": [],
   "source": [
    "from tensorflow.keras import layers\n",
    "from keras_preprocessing.image import ImageDataGenerator"
   ]
  },
  {
   "cell_type": "code",
   "execution_count": 19,
   "id": "d8052fde",
   "metadata": {
    "colab": {
     "base_uri": "https://localhost:8080/"
    },
    "executionInfo": {
     "elapsed": 471,
     "status": "ok",
     "timestamp": 1667763846473,
     "user": {
      "displayName": "Krish Ramesh",
      "userId": "00776630855129195029"
     },
     "user_tz": -60
    },
    "id": "d8052fde",
    "outputId": "f9cc38b5-e956-42c2-8867-72642d92885c"
   },
   "outputs": [
    {
     "name": "stdout",
     "output_type": "stream",
     "text": [
      "Found 39781 validated image filenames belonging to 2 classes.\n",
      "Found 7021 validated image filenames belonging to 2 classes.\n"
     ]
    }
   ],
   "source": [
    "# Rotation_range - random rotation within the angle mentioned\n",
    "# Random_shifts - shifts 20% at max. to the horizontal and vertical(reduce to 10% as already diverse data)\n",
    "# Random_flip - random flips \n",
    "# fill_mode - fill the blank pixels, when augmenting with the nearest color\n",
    "datagen = ImageDataGenerator(rotation_range = 360,\n",
    "                             width_shift_range=0.1, height_shift_range=0.1,\n",
    "                             #horizontal_flip=True, vertical_flip=True, # Isnt much useful for us\n",
    "                             brightness_range=[0.5,1.5],\n",
    "                             rescale=1./255.,fill_mode='nearest')\n",
    "\n",
    "train_generator = datagen.flow_from_dataframe(dataframe=train_df, x_col = 'name', y_col = 'humans', class_mode='binary', target_size=(224 , 224), batch_size=16)\n",
    "valid_generator = datagen.flow_from_dataframe(dataframe=valid_df, x_col = 'name', y_col = 'humans', class_mode='binary', target_size=(224 , 224), batch_size=16)"
   ]
  },
  {
   "cell_type": "markdown",
   "id": "87debd4c",
   "metadata": {
    "id": "87debd4c"
   },
   "source": [
    "### Strating with inception"
   ]
  },
  {
   "cell_type": "code",
   "execution_count": 20,
   "id": "bcc4d7d2",
   "metadata": {
    "executionInfo": {
     "elapsed": 4,
     "status": "ok",
     "timestamp": 1667763846474,
     "user": {
      "displayName": "Krish Ramesh",
      "userId": "00776630855129195029"
     },
     "user_tz": -60
    },
    "id": "bcc4d7d2"
   },
   "outputs": [],
   "source": [
    "import tensorflow as tf\n",
    "\n",
    "from tensorflow.keras.layers import Input , Dense , Flatten , GlobalAveragePooling2D\n",
    "from tensorflow.keras.models import Sequential"
   ]
  },
  {
   "cell_type": "code",
   "execution_count": 21,
   "id": "68b9798a",
   "metadata": {
    "executionInfo": {
     "elapsed": 718,
     "status": "ok",
     "timestamp": 1667763847189,
     "user": {
      "displayName": "Krish Ramesh",
      "userId": "00776630855129195029"
     },
     "user_tz": -60
    },
    "id": "68b9798a"
   },
   "outputs": [
    {
     "name": "stdout",
     "output_type": "stream",
     "text": [
      "Metal device set to: Apple M1\n"
     ]
    },
    {
     "name": "stderr",
     "output_type": "stream",
     "text": [
      "2022-11-15 23:56:57.889202: I tensorflow/core/common_runtime/pluggable_device/pluggable_device_factory.cc:305] Could not identify NUMA node of platform GPU ID 0, defaulting to 0. Your kernel may not have been built with NUMA support.\n",
      "2022-11-15 23:56:57.889593: I tensorflow/core/common_runtime/pluggable_device/pluggable_device_factory.cc:271] Created TensorFlow device (/job:localhost/replica:0/task:0/device:GPU:0 with 0 MB memory) -> physical PluggableDevice (device: 0, name: METAL, pci bus id: <undefined>)\n"
     ]
    }
   ],
   "source": [
    "# Why I have this as false : https://stackoverflow.com/questions/46036522/defining-model-in-keras-include-top-true\n",
    "# So that I can list out the number of classes that I have\n",
    "\n",
    "vgg_16 = tf.keras.applications.resnet50.ResNet50(input_shape=(224 , 224, 3),\n",
    "                                           include_top=False, \n",
    "                                           weights='imagenet')\n",
    "\n",
    "model = Sequential()\n",
    "model.add(vgg_16)\n",
    "model.add(GlobalAveragePooling2D())\n",
    "model.add(Flatten())\n",
    "model.add(Dense(1024, activation=\"relu\"))\n",
    "model.add(Dense(512, activation=\"relu\"))\n",
    "\n",
    "model.add(Dense(1024, activation=\"relu\"))\n",
    "model.add(Dense(512, activation=\"relu\"))\n",
    "\n",
    "model.add(Dense(1024, activation=\"relu\"))\n",
    "model.add(Dense(512, activation=\"relu\"))\n",
    "\n",
    "\n",
    "\n",
    "model.add(Dense(1, activation=\"sigmoid\" , name=\"classification\"))"
   ]
  },
  {
   "cell_type": "code",
   "execution_count": 22,
   "id": "2c4ae988",
   "metadata": {
    "colab": {
     "base_uri": "https://localhost:8080/"
    },
    "executionInfo": {
     "elapsed": 12,
     "status": "ok",
     "timestamp": 1667763847189,
     "user": {
      "displayName": "Krish Ramesh",
      "userId": "00776630855129195029"
     },
     "user_tz": -60
    },
    "id": "2c4ae988",
    "outputId": "e8041b35-9f9a-48ff-8cb9-6ddaf627e7a6"
   },
   "outputs": [
    {
     "name": "stdout",
     "output_type": "stream",
     "text": [
      "Model: \"sequential\"\n",
      "_________________________________________________________________\n",
      " Layer (type)                Output Shape              Param #   \n",
      "=================================================================\n",
      " resnet50 (Functional)       (None, 7, 7, 2048)        23587712  \n",
      "                                                                 \n",
      " global_average_pooling2d (G  (None, 2048)             0         \n",
      " lobalAveragePooling2D)                                          \n",
      "                                                                 \n",
      " flatten (Flatten)           (None, 2048)              0         \n",
      "                                                                 \n",
      " dense (Dense)               (None, 1024)              2098176   \n",
      "                                                                 \n",
      " dense_1 (Dense)             (None, 512)               524800    \n",
      "                                                                 \n",
      " dense_2 (Dense)             (None, 1024)              525312    \n",
      "                                                                 \n",
      " dense_3 (Dense)             (None, 512)               524800    \n",
      "                                                                 \n",
      " dense_4 (Dense)             (None, 1024)              525312    \n",
      "                                                                 \n",
      " dense_5 (Dense)             (None, 512)               524800    \n",
      "                                                                 \n",
      " classification (Dense)      (None, 1)                 513       \n",
      "                                                                 \n",
      "=================================================================\n",
      "Total params: 28,311,425\n",
      "Trainable params: 28,258,305\n",
      "Non-trainable params: 53,120\n",
      "_________________________________________________________________\n"
     ]
    }
   ],
   "source": [
    "model.compile(optimizer=tf.keras.optimizers.SGD(learning_rate=0.0001,momentum=0.9), \n",
    "            loss='BinaryCrossentropy',\n",
    "            metrics = ['accuracy'])\n",
    "\n",
    "model.summary()"
   ]
  },
  {
   "cell_type": "code",
   "execution_count": 23,
   "id": "0a3c69a3",
   "metadata": {},
   "outputs": [],
   "source": [
    "es = tf.keras.callbacks.EarlyStopping(monitor='val_loss', patience=2, min_delta = 0.5)"
   ]
  },
  {
   "cell_type": "code",
   "execution_count": 24,
   "id": "a63fdcea",
   "metadata": {
    "colab": {
     "base_uri": "https://localhost:8080/"
    },
    "executionInfo": {
     "elapsed": 2063319,
     "status": "ok",
     "timestamp": 1667765910505,
     "user": {
      "displayName": "Krish Ramesh",
      "userId": "00776630855129195029"
     },
     "user_tz": -60
    },
    "id": "a63fdcea",
    "outputId": "f4b23381-1d6c-4087-81bd-396d276abc82",
    "scrolled": true
   },
   "outputs": [
    {
     "name": "stdout",
     "output_type": "stream",
     "text": [
      "Epoch 1/10\n"
     ]
    },
    {
     "name": "stderr",
     "output_type": "stream",
     "text": [
      "2022-11-15 23:57:06.110532: W tensorflow/core/platform/profile_utils/cpu_utils.cc:128] Failed to get CPU frequency: 0 Hz\n",
      "2022-11-15 23:57:07.267547: I tensorflow/core/grappler/optimizers/custom_graph_optimizer_registry.cc:113] Plugin optimizer for device_type GPU is enabled.\n"
     ]
    },
    {
     "name": "stdout",
     "output_type": "stream",
     "text": [
      "2487/2487 [==============================] - ETA: 0s - loss: 0.3582 - accuracy: 0.8441"
     ]
    },
    {
     "name": "stderr",
     "output_type": "stream",
     "text": [
      "2022-11-16 00:22:36.148041: I tensorflow/core/grappler/optimizers/custom_graph_optimizer_registry.cc:113] Plugin optimizer for device_type GPU is enabled.\n"
     ]
    },
    {
     "name": "stdout",
     "output_type": "stream",
     "text": [
      "2487/2487 [==============================] - 1626s 652ms/step - loss: 0.3582 - accuracy: 0.8441 - val_loss: 0.2063 - val_accuracy: 0.9311\n",
      "Epoch 2/10\n",
      "2487/2487 [==============================] - 1635s 657ms/step - loss: 0.2170 - accuracy: 0.9269 - val_loss: 0.1860 - val_accuracy: 0.9383\n",
      "Epoch 3/10\n",
      "2487/2487 [==============================] - 1676s 674ms/step - loss: 0.2001 - accuracy: 0.9312 - val_loss: 0.1761 - val_accuracy: 0.9405\n"
     ]
    }
   ],
   "source": [
    "class_weight = {0:1.,1:1.}\n",
    "history = model.fit(train_generator, validation_data = valid_generator, epochs = 10, class_weight=class_weight,callbacks=[es])"
   ]
  },
  {
   "cell_type": "code",
   "execution_count": 25,
   "id": "673dee85",
   "metadata": {
    "colab": {
     "base_uri": "https://localhost:8080/"
    },
    "executionInfo": {
     "elapsed": 3892,
     "status": "ok",
     "timestamp": 1667765914375,
     "user": {
      "displayName": "Krish Ramesh",
      "userId": "00776630855129195029"
     },
     "user_tz": -60
    },
    "id": "673dee85",
    "outputId": "e7bb450b-9941-440b-f4f5-393570b3535c"
   },
   "outputs": [
    {
     "name": "stderr",
     "output_type": "stream",
     "text": [
      "WARNING:absl:Found untraced functions such as _jit_compiled_convolution_op, _jit_compiled_convolution_op, _jit_compiled_convolution_op, _jit_compiled_convolution_op, _jit_compiled_convolution_op while saving (showing 5 of 53). These functions will not be directly callable after loading.\n"
     ]
    },
    {
     "name": "stdout",
     "output_type": "stream",
     "text": [
      "INFO:tensorflow:Assets written to: /Users/krish/ljmu/3.results/13112022-ResNet50-afo/15112022-2354-ResNet_after_tiling+augmentation_10epochs_afo/assets\n"
     ]
    },
    {
     "name": "stderr",
     "output_type": "stream",
     "text": [
      "INFO:tensorflow:Assets written to: /Users/krish/ljmu/3.results/13112022-ResNet50-afo/15112022-2354-ResNet_after_tiling+augmentation_10epochs_afo/assets\n"
     ]
    }
   ],
   "source": [
    "model.save(result_root+date_time+'-ResNet_after_tiling+augmentation_10epochs_afo')"
   ]
  },
  {
   "cell_type": "code",
   "execution_count": 26,
   "id": "8277ca2d",
   "metadata": {
    "colab": {
     "base_uri": "https://localhost:8080/",
     "height": 301
    },
    "executionInfo": {
     "elapsed": 29186,
     "status": "ok",
     "timestamp": 1667765943558,
     "user": {
      "displayName": "Krish Ramesh",
      "userId": "00776630855129195029"
     },
     "user_tz": -60
    },
    "id": "8277ca2d",
    "outputId": "0d498399-d77b-4096-f0cd-d38da2838873"
   },
   "outputs": [
    {
     "name": "stdout",
     "output_type": "stream",
     "text": [
      "439/439 - 93s - loss: 0.1818 - accuracy: 0.9385 - 93s/epoch - 211ms/step\n"
     ]
    },
    {
     "data": {
      "image/png": "[encoded data removed]",
      "text/plain": [
       "<Figure size 640x480 with 1 Axes>"
      ]
     },
     "metadata": {},
     "output_type": "display_data"
    }
   ],
   "source": [
    "plt.plot(history.history['accuracy'], label='accuracy')\n",
    "plt.plot(history.history['val_accuracy'], label = 'val_accuracy')\n",
    "plt.xlabel('Epoch')\n",
    "plt.ylabel('Accuracy')\n",
    "plt.ylim([0.5, 1])\n",
    "plt.legend(loc='lower right')\n",
    "\n",
    "test_loss, test_acc = model.evaluate(valid_generator, verbose=2)\n",
    "\n",
    "plt.savefig(result_root+date_time+'-ResNet_accuracy_after_tiling_augmentation_afo.png')"
   ]
  },
  {
   "cell_type": "code",
   "execution_count": null,
   "id": "k5kh9q0DXabQ",
   "metadata": {
    "executionInfo": {
     "elapsed": 17,
     "status": "ok",
     "timestamp": 1667765943559,
     "user": {
      "displayName": "Krish Ramesh",
      "userId": "00776630855129195029"
     },
     "user_tz": -60
    },
    "id": "k5kh9q0DXabQ"
   },
   "outputs": [],
   "source": []
  }
 ],
 "metadata": {
  "accelerator": "GPU",
  "colab": {
   "collapsed_sections": [],
   "provenance": []
  },
  "gpuClass": "standard",
  "kernelspec": {
   "display_name": "Python 3.9 (tensorflow)",
   "language": "python",
   "name": "tensorflow"
  },
  "language_info": {
   "codemirror_mode": {
    "name": "ipython",
    "version": 3
   },
   "file_extension": ".py",
   "mimetype": "text/x-python",
   "name": "python",
   "nbconvert_exporter": "python",
   "pygments_lexer": "ipython3",
   "version": "3.9.13"
  }
 },
 "nbformat": 4,
 "nbformat_minor": 5
}
