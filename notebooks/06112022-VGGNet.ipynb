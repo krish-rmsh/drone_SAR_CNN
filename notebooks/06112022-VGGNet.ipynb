{
 "cells": [
  {
   "cell_type": "code",
   "execution_count": 1,
   "id": "4912b872",
   "metadata": {
    "executionInfo": {
     "elapsed": 336,
     "status": "ok",
     "timestamp": 1667763842293,
     "user": {
      "displayName": "Krish Ramesh",
      "userId": "00776630855129195029"
     },
     "user_tz": -60
    },
    "id": "4912b872"
   },
   "outputs": [],
   "source": [
    "# With the same augmentation, we are going to try vgg and resnet"
   ]
  },
  {
   "cell_type": "code",
   "execution_count": 2,
   "id": "RzK_2N_IV6th",
   "metadata": {
    "colab": {
     "base_uri": "https://localhost:8080/"
    },
    "executionInfo": {
     "elapsed": 3168,
     "status": "ok",
     "timestamp": 1667763846009,
     "user": {
      "displayName": "Krish Ramesh",
      "userId": "00776630855129195029"
     },
     "user_tz": -60
    },
    "id": "RzK_2N_IV6th",
    "outputId": "9cf5409e-d650-4ff5-c264-54122e54a3ef"
   },
   "outputs": [],
   "source": [
    "# from google.colab import drive\n",
    "# drive.mount('/content/drive')"
   ]
  },
  {
   "cell_type": "code",
   "execution_count": 3,
   "id": "ce31cf2a",
   "metadata": {
    "executionInfo": {
     "elapsed": 13,
     "status": "ok",
     "timestamp": 1667763846009,
     "user": {
      "displayName": "Krish Ramesh",
      "userId": "00776630855129195029"
     },
     "user_tz": -60
    },
    "id": "ce31cf2a"
   },
   "outputs": [],
   "source": [
    "### Preparing the dataframe \n",
    "import pandas as pd\n",
    "import glob\n",
    "from pathlib import Path\n",
    "import matplotlib.pyplot as plt \n",
    "\n",
    "\n",
    "\n"
   ]
  },
  {
   "cell_type": "code",
   "execution_count": 4,
   "id": "rraK0wg3WW6e",
   "metadata": {
    "executionInfo": {
     "elapsed": 13,
     "status": "ok",
     "timestamp": 1667763846010,
     "user": {
      "displayName": "Krish Ramesh",
      "userId": "00776630855129195029"
     },
     "user_tz": -60
    },
    "id": "rraK0wg3WW6e"
   },
   "outputs": [],
   "source": [
    "\n",
    "#/Users/krish/Library/CloudStorage/GoogleDrive-krishthephysicist@gmail.com/My Drive/ljmu/1.data\n",
    "root_path =  r'/Users/krish/ljmu/'\n",
    "result_root = root_path + '3.results/06112022-tiling+augmentation/'\n",
    "Path(result_root).mkdir(parents=True, exist_ok=True)\n",
    "\n",
    "# # Incase you run in colab\n",
    "# root_path =  r'/content/drive/MyDrive/ljmu/'\n",
    "# result_root = root_path + '3.results/06112022-VGGNet/'\n",
    "# Path(result_root).mkdir(parents=True, exist_ok=True)"
   ]
  },
  {
   "cell_type": "code",
   "execution_count": 5,
   "id": "YNfVcClzWSjW",
   "metadata": {
    "colab": {
     "base_uri": "https://localhost:8080/",
     "height": 424
    },
    "executionInfo": {
     "elapsed": 13,
     "status": "ok",
     "timestamp": 1667763846010,
     "user": {
      "displayName": "Krish Ramesh",
      "userId": "00776630855129195029"
     },
     "user_tz": -60
    },
    "id": "YNfVcClzWSjW",
    "outputId": "51035172-999a-4857-b307-3898065f5337"
   },
   "outputs": [
    {
     "name": "stderr",
     "output_type": "stream",
     "text": [
      "/var/folders/zk/p2gyqg915639vx6xr9xbs9cm0000gn/T/ipykernel_27946/1957794748.py:10: FutureWarning: The frame.append method is deprecated and will be removed from pandas in a future version. Use pandas.concat instead.\n",
      "  df = df_true.append(df_false)\n"
     ]
    },
    {
     "data": {
      "text/html": [
       "<div>\n",
       "<style scoped>\n",
       "    .dataframe tbody tr th:only-of-type {\n",
       "        vertical-align: middle;\n",
       "    }\n",
       "\n",
       "    .dataframe tbody tr th {\n",
       "        vertical-align: top;\n",
       "    }\n",
       "\n",
       "    .dataframe thead th {\n",
       "        text-align: right;\n",
       "    }\n",
       "</style>\n",
       "<table border=\"1\" class=\"dataframe\">\n",
       "  <thead>\n",
       "    <tr style=\"text-align: right;\">\n",
       "      <th></th>\n",
       "      <th>name</th>\n",
       "      <th>flag</th>\n",
       "    </tr>\n",
       "  </thead>\n",
       "  <tbody>\n",
       "    <tr>\n",
       "      <th>0</th>\n",
       "      <td>/Users/krish/ljmu/1.data/sampletiled/ts/905_0_...</td>\n",
       "      <td>1</td>\n",
       "    </tr>\n",
       "    <tr>\n",
       "      <th>1</th>\n",
       "      <td>/Users/krish/ljmu/1.data/sampletiled/ts/889_0_...</td>\n",
       "      <td>1</td>\n",
       "    </tr>\n",
       "    <tr>\n",
       "      <th>2</th>\n",
       "      <td>/Users/krish/ljmu/1.data/sampletiled/ts/1434_0...</td>\n",
       "      <td>1</td>\n",
       "    </tr>\n",
       "    <tr>\n",
       "      <th>3</th>\n",
       "      <td>/Users/krish/ljmu/1.data/sampletiled/ts/5708_0...</td>\n",
       "      <td>1</td>\n",
       "    </tr>\n",
       "    <tr>\n",
       "      <th>4</th>\n",
       "      <td>/Users/krish/ljmu/1.data/sampletiled/ts/100_0_...</td>\n",
       "      <td>1</td>\n",
       "    </tr>\n",
       "    <tr>\n",
       "      <th>...</th>\n",
       "      <td>...</td>\n",
       "      <td>...</td>\n",
       "    </tr>\n",
       "    <tr>\n",
       "      <th>3870</th>\n",
       "      <td>/Users/krish/ljmu/1.data/sampletiled/false/238...</td>\n",
       "      <td>0</td>\n",
       "    </tr>\n",
       "    <tr>\n",
       "      <th>3871</th>\n",
       "      <td>/Users/krish/ljmu/1.data/sampletiled/false/197...</td>\n",
       "      <td>0</td>\n",
       "    </tr>\n",
       "    <tr>\n",
       "      <th>3872</th>\n",
       "      <td>/Users/krish/ljmu/1.data/sampletiled/false/198...</td>\n",
       "      <td>0</td>\n",
       "    </tr>\n",
       "    <tr>\n",
       "      <th>3873</th>\n",
       "      <td>/Users/krish/ljmu/1.data/sampletiled/false/474...</td>\n",
       "      <td>0</td>\n",
       "    </tr>\n",
       "    <tr>\n",
       "      <th>3874</th>\n",
       "      <td>/Users/krish/ljmu/1.data/sampletiled/false/444...</td>\n",
       "      <td>0</td>\n",
       "    </tr>\n",
       "  </tbody>\n",
       "</table>\n",
       "<p>7090 rows × 2 columns</p>\n",
       "</div>"
      ],
      "text/plain": [
       "                                                   name flag\n",
       "0     /Users/krish/ljmu/1.data/sampletiled/ts/905_0_...    1\n",
       "1     /Users/krish/ljmu/1.data/sampletiled/ts/889_0_...    1\n",
       "2     /Users/krish/ljmu/1.data/sampletiled/ts/1434_0...    1\n",
       "3     /Users/krish/ljmu/1.data/sampletiled/ts/5708_0...    1\n",
       "4     /Users/krish/ljmu/1.data/sampletiled/ts/100_0_...    1\n",
       "...                                                 ...  ...\n",
       "3870  /Users/krish/ljmu/1.data/sampletiled/false/238...    0\n",
       "3871  /Users/krish/ljmu/1.data/sampletiled/false/197...    0\n",
       "3872  /Users/krish/ljmu/1.data/sampletiled/false/198...    0\n",
       "3873  /Users/krish/ljmu/1.data/sampletiled/false/474...    0\n",
       "3874  /Users/krish/ljmu/1.data/sampletiled/false/444...    0\n",
       "\n",
       "[7090 rows x 2 columns]"
      ]
     },
     "execution_count": 5,
     "metadata": {},
     "output_type": "execute_result"
    }
   ],
   "source": [
    "\n",
    "df_true = pd.DataFrame(columns = ['name','flag'])\n",
    "df_false = pd.DataFrame(columns = ['name','flag'])\n",
    "\n",
    "df_true['name'] = glob.glob(root_path+'1.data/sampletiled/ts/*.jpg')\n",
    "df_true.flag = 1\n",
    "\n",
    "df_false['name'] = glob.glob(root_path+'1.data/sampletiled/false/*.jpg')\n",
    "df_false.flag = 0\n",
    "\n",
    "df = df_true.append(df_false)\n",
    "\n",
    "df['flag'] = df.flag.apply(lambda x: str(x)) # used the qubit format\n",
    "df\n",
    "# The number of rows is finally matching with what I had on local => Yebba all data uploaded successfullly"
   ]
  },
  {
   "cell_type": "code",
   "execution_count": 6,
   "id": "042bee20",
   "metadata": {
    "colab": {
     "base_uri": "https://localhost:8080/"
    },
    "executionInfo": {
     "elapsed": 11,
     "status": "ok",
     "timestamp": 1667763846010,
     "user": {
      "displayName": "Krish Ramesh",
      "userId": "00776630855129195029"
     },
     "user_tz": -60
    },
    "id": "042bee20",
    "outputId": "74c427f1-d8b8-4f21-e239-a7ef5235f6e4"
   },
   "outputs": [
    {
     "name": "stdout",
     "output_type": "stream",
     "text": [
      "train 5317 validation 1773\n"
     ]
    }
   ],
   "source": [
    "# Generator\n",
    "import numpy as np # linear algebra\n",
    "import pandas as pd # data processing, CSV file I/O (e.g. pd.read_csv)\n",
    "import matplotlib.pyplot as plt # showing and rendering figures\n",
    "# io related\n",
    "from skimage.io import imread\n",
    "import os\n",
    "from glob import glob\n",
    "# not needed in Kaggle, but required in Jupyter\n",
    "%matplotlib inline \n",
    "from sklearn.model_selection import train_test_split\n",
    "\n",
    "train_df, valid_df = train_test_split(df, \n",
    "                                   test_size = 0.25, \n",
    "                                   random_state = 2018,\n",
    "                                   stratify = df['flag']) # Stratify makes sure that the subset of training and testing data returned keeps the same class propotion of the main dataframe\n",
    "print('train', train_df.shape[0], 'validation', valid_df.shape[0])"
   ]
  },
  {
   "cell_type": "code",
   "execution_count": 7,
   "id": "11e115cf",
   "metadata": {
    "executionInfo": {
     "elapsed": 9,
     "status": "ok",
     "timestamp": 1667763846011,
     "user": {
      "displayName": "Krish Ramesh",
      "userId": "00776630855129195029"
     },
     "user_tz": -60
    },
    "id": "11e115cf"
   },
   "outputs": [],
   "source": [
    "from tensorflow.keras import layers\n",
    "from keras_preprocessing.image import ImageDataGenerator"
   ]
  },
  {
   "cell_type": "code",
   "execution_count": 8,
   "id": "d8052fde",
   "metadata": {
    "colab": {
     "base_uri": "https://localhost:8080/"
    },
    "executionInfo": {
     "elapsed": 471,
     "status": "ok",
     "timestamp": 1667763846473,
     "user": {
      "displayName": "Krish Ramesh",
      "userId": "00776630855129195029"
     },
     "user_tz": -60
    },
    "id": "d8052fde",
    "outputId": "f9cc38b5-e956-42c2-8867-72642d92885c"
   },
   "outputs": [
    {
     "name": "stdout",
     "output_type": "stream",
     "text": [
      "Found 5317 validated image filenames belonging to 2 classes.\n",
      "Found 1773 validated image filenames belonging to 2 classes.\n"
     ]
    }
   ],
   "source": [
    "# Rotation_range - random rotation within the angle mentioned\n",
    "# Random_shifts - shifts 20% at max. to the horizontal and vertical(reduce to 10% as already diverse data)\n",
    "# Random_flip - random flips \n",
    "# fill_mode - fill the blank pixels, when augmenting with the nearest color\n",
    "datagen = ImageDataGenerator(rotation_range = 360,\n",
    "                             width_shift_range=0.1, height_shift_range=0.1,\n",
    "                             #horizontal_flip=True, vertical_flip=True, # Isnt much useful for us\n",
    "                             brightness_range=[0.5,1.5],\n",
    "                             rescale=1./255.,fill_mode='nearest')\n",
    "\n",
    "train_generator = datagen.flow_from_dataframe(dataframe=train_df, x_col = 'name', y_col = 'flag', class_mode='binary', target_size=(224 , 224), batch_size=32)\n",
    "valid_generator = datagen.flow_from_dataframe(dataframe=valid_df, x_col = 'name', y_col = 'flag', class_mode='binary', target_size=(224 , 224), batch_size=32)"
   ]
  },
  {
   "cell_type": "markdown",
   "id": "87debd4c",
   "metadata": {
    "id": "87debd4c"
   },
   "source": [
    "### Strating with vggnet"
   ]
  },
  {
   "cell_type": "code",
   "execution_count": 9,
   "id": "bcc4d7d2",
   "metadata": {
    "executionInfo": {
     "elapsed": 4,
     "status": "ok",
     "timestamp": 1667763846474,
     "user": {
      "displayName": "Krish Ramesh",
      "userId": "00776630855129195029"
     },
     "user_tz": -60
    },
    "id": "bcc4d7d2"
   },
   "outputs": [],
   "source": [
    "import tensorflow as tf\n",
    "from tensorflow.keras.layers import Input , Dense , Flatten , GlobalAveragePooling2D\n",
    "from tensorflow.keras.models import Sequential"
   ]
  },
  {
   "cell_type": "code",
   "execution_count": 10,
   "id": "68b9798a",
   "metadata": {
    "executionInfo": {
     "elapsed": 718,
     "status": "ok",
     "timestamp": 1667763847189,
     "user": {
      "displayName": "Krish Ramesh",
      "userId": "00776630855129195029"
     },
     "user_tz": -60
    },
    "id": "68b9798a"
   },
   "outputs": [
    {
     "name": "stdout",
     "output_type": "stream",
     "text": [
      "Metal device set to: Apple M1\n"
     ]
    },
    {
     "name": "stderr",
     "output_type": "stream",
     "text": [
      "2022-11-08 13:26:29.456925: I tensorflow/core/common_runtime/pluggable_device/pluggable_device_factory.cc:305] Could not identify NUMA node of platform GPU ID 0, defaulting to 0. Your kernel may not have been built with NUMA support.\n",
      "2022-11-08 13:26:29.457137: I tensorflow/core/common_runtime/pluggable_device/pluggable_device_factory.cc:271] Created TensorFlow device (/job:localhost/replica:0/task:0/device:GPU:0 with 0 MB memory) -> physical PluggableDevice (device: 0, name: METAL, pci bus id: <undefined>)\n"
     ]
    }
   ],
   "source": [
    "# Why I have this as false : https://stackoverflow.com/questions/46036522/defining-model-in-keras-include-top-true\n",
    "# So that I can list out the number of classes that I have\n",
    "vgg_16 = tf.keras.applications.vgg16.VGG16(input_shape=(224 , 224, 3),\n",
    "                                           include_top=False, \n",
    "                                           weights='imagenet')\n",
    "\n",
    "model = Sequential()\n",
    "model.add(vgg_16)\n",
    "model.add(GlobalAveragePooling2D())\n",
    "model.add(Flatten())\n",
    "model.add(Dense(1024, activation=\"relu\"))\n",
    "model.add(Dense(512, activation=\"relu\"))\n",
    "\n",
    "model.add(Dense(1024, activation=\"relu\"))\n",
    "model.add(Dense(512, activation=\"relu\"))\n",
    "\n",
    "model.add(Dense(1024, activation=\"relu\"))\n",
    "model.add(Dense(512, activation=\"relu\"))\n",
    "\n",
    "\n",
    "\n",
    "model.add(Dense(1, activation=\"sigmoid\" , name=\"classification\"))"
   ]
  },
  {
   "cell_type": "code",
   "execution_count": 11,
   "id": "2c4ae988",
   "metadata": {
    "colab": {
     "base_uri": "https://localhost:8080/"
    },
    "executionInfo": {
     "elapsed": 12,
     "status": "ok",
     "timestamp": 1667763847189,
     "user": {
      "displayName": "Krish Ramesh",
      "userId": "00776630855129195029"
     },
     "user_tz": -60
    },
    "id": "2c4ae988",
    "outputId": "e8041b35-9f9a-48ff-8cb9-6ddaf627e7a6"
   },
   "outputs": [
    {
     "name": "stdout",
     "output_type": "stream",
     "text": [
      "Model: \"sequential\"\n",
      "_________________________________________________________________\n",
      " Layer (type)                Output Shape              Param #   \n",
      "=================================================================\n",
      " vgg16 (Functional)          (None, 7, 7, 512)         14714688  \n",
      "                                                                 \n",
      " global_average_pooling2d (G  (None, 512)              0         \n",
      " lobalAveragePooling2D)                                          \n",
      "                                                                 \n",
      " flatten (Flatten)           (None, 512)               0         \n",
      "                                                                 \n",
      " dense (Dense)               (None, 1024)              525312    \n",
      "                                                                 \n",
      " dense_1 (Dense)             (None, 512)               524800    \n",
      "                                                                 \n",
      " dense_2 (Dense)             (None, 1024)              525312    \n",
      "                                                                 \n",
      " dense_3 (Dense)             (None, 512)               524800    \n",
      "                                                                 \n",
      " dense_4 (Dense)             (None, 1024)              525312    \n",
      "                                                                 \n",
      " dense_5 (Dense)             (None, 512)               524800    \n",
      "                                                                 \n",
      " classification (Dense)      (None, 1)                 513       \n",
      "                                                                 \n",
      "=================================================================\n",
      "Total params: 17,865,537\n",
      "Trainable params: 17,865,537\n",
      "Non-trainable params: 0\n",
      "_________________________________________________________________\n"
     ]
    }
   ],
   "source": [
    "model.compile(optimizer=tf.keras.optimizers.SGD(learning_rate=0.0001,momentum=0.9), \n",
    "            loss='BinaryCrossentropy',\n",
    "            metrics = ['accuracy'])\n",
    "\n",
    "model.summary()"
   ]
  },
  {
   "cell_type": "code",
   "execution_count": 12,
   "id": "a63fdcea",
   "metadata": {
    "colab": {
     "base_uri": "https://localhost:8080/"
    },
    "executionInfo": {
     "elapsed": 2063319,
     "status": "ok",
     "timestamp": 1667765910505,
     "user": {
      "displayName": "Krish Ramesh",
      "userId": "00776630855129195029"
     },
     "user_tz": -60
    },
    "id": "a63fdcea",
    "outputId": "f4b23381-1d6c-4087-81bd-396d276abc82",
    "scrolled": true
   },
   "outputs": [
    {
     "name": "stdout",
     "output_type": "stream",
     "text": [
      "Epoch 1/30\n"
     ]
    },
    {
     "name": "stderr",
     "output_type": "stream",
     "text": [
      "2022-11-08 13:26:30.266381: W tensorflow/core/platform/profile_utils/cpu_utils.cc:128] Failed to get CPU frequency: 0 Hz\n",
      "2022-11-08 13:26:30.563096: I tensorflow/core/grappler/optimizers/custom_graph_optimizer_registry.cc:113] Plugin optimizer for device_type GPU is enabled.\n"
     ]
    },
    {
     "name": "stdout",
     "output_type": "stream",
     "text": [
      "167/167 [==============================] - ETA: 0s - loss: 0.6907 - accuracy: 0.5245"
     ]
    },
    {
     "name": "stderr",
     "output_type": "stream",
     "text": [
      "2022-11-08 13:32:57.249885: I tensorflow/core/grappler/optimizers/custom_graph_optimizer_registry.cc:113] Plugin optimizer for device_type GPU is enabled.\n"
     ]
    },
    {
     "name": "stdout",
     "output_type": "stream",
     "text": [
      "167/167 [==============================] - 426s 3s/step - loss: 0.6907 - accuracy: 0.5245 - val_loss: 0.6860 - val_accuracy: 0.5465\n",
      "Epoch 2/30\n",
      "167/167 [==============================] - 464s 3s/step - loss: 0.6837 - accuracy: 0.5465 - val_loss: 0.6789 - val_accuracy: 0.5465\n",
      "Epoch 3/30\n",
      "167/167 [==============================] - 479s 3s/step - loss: 0.6763 - accuracy: 0.5522 - val_loss: 0.6693 - val_accuracy: 0.5601\n",
      "Epoch 4/30\n",
      "167/167 [==============================] - 507s 3s/step - loss: 0.6680 - accuracy: 0.6150 - val_loss: 0.6590 - val_accuracy: 0.6650\n",
      "Epoch 5/30\n",
      "167/167 [==============================] - 475s 3s/step - loss: 0.6586 - accuracy: 0.6408 - val_loss: 0.6480 - val_accuracy: 0.6588\n",
      "Epoch 6/30\n",
      "167/167 [==============================] - 459s 3s/step - loss: 0.6486 - accuracy: 0.6455 - val_loss: 0.6366 - val_accuracy: 0.6644\n",
      "Epoch 7/30\n",
      "167/167 [==============================] - 467s 3s/step - loss: 0.6352 - accuracy: 0.6579 - val_loss: 0.6178 - val_accuracy: 0.6830\n",
      "Epoch 8/30\n",
      "167/167 [==============================] - 470s 3s/step - loss: 0.6196 - accuracy: 0.6679 - val_loss: 0.5922 - val_accuracy: 0.6960\n",
      "Epoch 9/30\n",
      "167/167 [==============================] - 474s 3s/step - loss: 0.5932 - accuracy: 0.6808 - val_loss: 0.5572 - val_accuracy: 0.7157\n",
      "Epoch 10/30\n",
      "167/167 [==============================] - 480s 3s/step - loss: 0.5623 - accuracy: 0.7042 - val_loss: 0.5261 - val_accuracy: 0.7468\n",
      "Epoch 11/30\n",
      "167/167 [==============================] - 482s 3s/step - loss: 0.5115 - accuracy: 0.7591 - val_loss: 0.4733 - val_accuracy: 0.7919\n",
      "Epoch 12/30\n",
      "167/167 [==============================] - 483s 3s/step - loss: 0.4793 - accuracy: 0.7809 - val_loss: 0.4526 - val_accuracy: 0.7930\n",
      "Epoch 13/30\n",
      "167/167 [==============================] - 476s 3s/step - loss: 0.4655 - accuracy: 0.7850 - val_loss: 0.4633 - val_accuracy: 0.7857\n",
      "Epoch 14/30\n",
      "167/167 [==============================] - 492s 3s/step - loss: 0.4511 - accuracy: 0.7946 - val_loss: 0.4613 - val_accuracy: 0.7829\n",
      "Epoch 15/30\n",
      "167/167 [==============================] - 490s 3s/step - loss: 0.4178 - accuracy: 0.8144 - val_loss: 0.4038 - val_accuracy: 0.8257\n",
      "Epoch 16/30\n",
      "167/167 [==============================] - 487s 3s/step - loss: 0.3991 - accuracy: 0.8236 - val_loss: 0.3748 - val_accuracy: 0.8438\n",
      "Epoch 17/30\n",
      "167/167 [==============================] - 490s 3s/step - loss: 0.3865 - accuracy: 0.8304 - val_loss: 0.3554 - val_accuracy: 0.8550\n",
      "Epoch 18/30\n",
      "167/167 [==============================] - 487s 3s/step - loss: 0.3786 - accuracy: 0.8377 - val_loss: 0.3681 - val_accuracy: 0.8488\n",
      "Epoch 19/30\n",
      "167/167 [==============================] - 483s 3s/step - loss: 0.3812 - accuracy: 0.8386 - val_loss: 0.3673 - val_accuracy: 0.8505\n",
      "Epoch 20/30\n",
      "167/167 [==============================] - 493s 3s/step - loss: 0.3803 - accuracy: 0.8334 - val_loss: 0.3606 - val_accuracy: 0.8404\n",
      "Epoch 21/30\n",
      "167/167 [==============================] - 487s 3s/step - loss: 0.3511 - accuracy: 0.8512 - val_loss: 0.3302 - val_accuracy: 0.8686\n",
      "Epoch 22/30\n",
      "167/167 [==============================] - 484s 3s/step - loss: 0.3471 - accuracy: 0.8492 - val_loss: 0.3370 - val_accuracy: 0.8590\n",
      "Epoch 23/30\n",
      "167/167 [==============================] - 574s 3s/step - loss: 0.3397 - accuracy: 0.8557 - val_loss: 0.3151 - val_accuracy: 0.8663\n",
      "Epoch 24/30\n",
      "167/167 [==============================] - 639s 4s/step - loss: 0.3354 - accuracy: 0.8578 - val_loss: 0.3229 - val_accuracy: 0.8725\n",
      "Epoch 25/30\n",
      "167/167 [==============================] - 676s 4s/step - loss: 0.3319 - accuracy: 0.8627 - val_loss: 0.3266 - val_accuracy: 0.8652\n",
      "Epoch 26/30\n",
      "167/167 [==============================] - 658s 4s/step - loss: 0.3289 - accuracy: 0.8599 - val_loss: 0.3149 - val_accuracy: 0.8714\n",
      "Epoch 27/30\n",
      "167/167 [==============================] - 614s 4s/step - loss: 0.3178 - accuracy: 0.8674 - val_loss: 0.3022 - val_accuracy: 0.8804\n",
      "Epoch 28/30\n",
      "167/167 [==============================] - 570s 3s/step - loss: 0.3104 - accuracy: 0.8665 - val_loss: 0.3006 - val_accuracy: 0.8720\n",
      "Epoch 29/30\n",
      "167/167 [==============================] - 604s 4s/step - loss: 0.3024 - accuracy: 0.8714 - val_loss: 0.3251 - val_accuracy: 0.8629\n",
      "Epoch 30/30\n",
      "167/167 [==============================] - 690s 4s/step - loss: 0.2998 - accuracy: 0.8746 - val_loss: 0.3236 - val_accuracy: 0.8618\n"
     ]
    }
   ],
   "source": [
    "class_weight = {0:1.,1:1.}\n",
    "history = model.fit(train_generator, validation_data = valid_generator, epochs = 30, class_weight=class_weight)"
   ]
  },
  {
   "cell_type": "code",
   "execution_count": 13,
   "id": "673dee85",
   "metadata": {
    "colab": {
     "base_uri": "https://localhost:8080/"
    },
    "executionInfo": {
     "elapsed": 3892,
     "status": "ok",
     "timestamp": 1667765914375,
     "user": {
      "displayName": "Krish Ramesh",
      "userId": "00776630855129195029"
     },
     "user_tz": -60
    },
    "id": "673dee85",
    "outputId": "e7bb450b-9941-440b-f4f5-393570b3535c"
   },
   "outputs": [
    {
     "name": "stderr",
     "output_type": "stream",
     "text": [
      "WARNING:absl:Found untraced functions such as _jit_compiled_convolution_op, _jit_compiled_convolution_op, _jit_compiled_convolution_op, _jit_compiled_convolution_op, _jit_compiled_convolution_op while saving (showing 5 of 13). These functions will not be directly callable after loading.\n"
     ]
    },
    {
     "name": "stdout",
     "output_type": "stream",
     "text": [
      "INFO:tensorflow:Assets written to: /Users/krish/ljmu/3.results/06112022-tiling+augmentation/vgg16_after_tiling+augmentation_10epochs/assets\n"
     ]
    },
    {
     "name": "stderr",
     "output_type": "stream",
     "text": [
      "INFO:tensorflow:Assets written to: /Users/krish/ljmu/3.results/06112022-tiling+augmentation/vgg16_after_tiling+augmentation_10epochs/assets\n"
     ]
    }
   ],
   "source": [
    "model.save(result_root+'vgg16_after_tiling+augmentation_10epochs')"
   ]
  },
  {
   "cell_type": "code",
   "execution_count": 14,
   "id": "8277ca2d",
   "metadata": {
    "colab": {
     "base_uri": "https://localhost:8080/",
     "height": 301
    },
    "executionInfo": {
     "elapsed": 29186,
     "status": "ok",
     "timestamp": 1667765943558,
     "user": {
      "displayName": "Krish Ramesh",
      "userId": "00776630855129195029"
     },
     "user_tz": -60
    },
    "id": "8277ca2d",
    "outputId": "0d498399-d77b-4096-f0cd-d38da2838873"
   },
   "outputs": [
    {
     "name": "stdout",
     "output_type": "stream",
     "text": [
      "56/56 - 51s - loss: 0.3431 - accuracy: 0.8567 - 51s/epoch - 906ms/step\n"
     ]
    },
    {
     "data": {
      "image/png": "[encoded data removed]",
      "text/plain": [
       "<Figure size 640x480 with 1 Axes>"
      ]
     },
     "metadata": {},
     "output_type": "display_data"
    }
   ],
   "source": [
    "plt.plot(history.history['accuracy'], label='accuracy')\n",
    "plt.plot(history.history['val_accuracy'], label = 'val_accuracy')\n",
    "plt.xlabel('Epoch')\n",
    "plt.ylabel('Accuracy')\n",
    "plt.ylim([0.5, 1])\n",
    "plt.legend(loc='lower right')\n",
    "\n",
    "test_loss, test_acc = model.evaluate(valid_generator, verbose=2)\n",
    "\n",
    "plt.savefig(result_root+'vgg16_accuracy_after_tiling_augmentation.png')"
   ]
  },
  {
   "cell_type": "code",
   "execution_count": null,
   "id": "k5kh9q0DXabQ",
   "metadata": {
    "executionInfo": {
     "elapsed": 17,
     "status": "ok",
     "timestamp": 1667765943559,
     "user": {
      "displayName": "Krish Ramesh",
      "userId": "00776630855129195029"
     },
     "user_tz": -60
    },
    "id": "k5kh9q0DXabQ"
   },
   "outputs": [],
   "source": []
  }
 ],
 "metadata": {
  "accelerator": "GPU",
  "colab": {
   "collapsed_sections": [],
   "provenance": []
  },
  "gpuClass": "standard",
  "kernelspec": {
   "display_name": "Python 3.9 (tensorflow)",
   "language": "python",
   "name": "tensorflow"
  },
  "language_info": {
   "codemirror_mode": {
    "name": "ipython",
    "version": 3
   },
   "file_extension": ".py",
   "mimetype": "text/x-python",
   "name": "python",
   "nbconvert_exporter": "python",
   "pygments_lexer": "ipython3",
   "version": "3.9.13"
  }
 },
 "nbformat": 4,
 "nbformat_minor": 5
}
