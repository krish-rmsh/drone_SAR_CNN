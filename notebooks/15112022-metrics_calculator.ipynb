{
 "cells": [
  {
   "cell_type": "code",
   "execution_count": 8,
   "id": "23101656",
   "metadata": {},
   "outputs": [],
   "source": [
    "# I tried looking at keras pre defined functions for evaluvation but nothing seems simpler than directly finding the metrics\n",
    "# https://yanfengliux.medium.com/the-confusing-metrics-of-ap-and-map-for-object-detection-3113ba0386ef\n",
    "#"
   ]
  },
  {
   "cell_type": "code",
   "execution_count": 9,
   "id": "58456187",
   "metadata": {},
   "outputs": [],
   "source": [
    "# The metric average precision (AP) is used in the papers, and is explained well in: \n",
    "# Recall: \n",
    "# Precision: precision is measuring the percentage of correct positive predictions among all predictions made\n",
    "# Recall: recall is measuring the percentage of correct positive predictions among all positive cases in reality.\n",
    "# In our study recall >> Precision for the class 1. I.e. We cant afford to miss a human debry.\n",
    "# Okay, both recall as well precision are calculated on class basis. \n",
    "# I would suggest, just call the model many times and find the predicted value and the true value.\n",
    "# This is fine for finding the recall and precision, but not sure for AP. Ap is the area under the precision-recall graph\n",
    "# And as per the webpage, in order to get multiple recall and precision values you nee different thresholds"
   ]
  },
  {
   "cell_type": "code",
   "execution_count": 10,
   "id": "bad05367",
   "metadata": {},
   "outputs": [],
   "source": [
    "# IS AP a good metric, but invariably all the papers use it, so have to use it for evaluvating the model.  "
   ]
  },
  {
   "cell_type": "code",
   "execution_count": 11,
   "id": "32671cc3",
   "metadata": {},
   "outputs": [],
   "source": [
    "import pandas as pd\n",
    "from tensorflow import keras\n",
    "import tensorflow as tf\n",
    "from keras import layers\n",
    "\n",
    "import glob\n",
    "from pathlib import Path\n",
    "from PIL import Image\n",
    "import numpy as np"
   ]
  },
  {
   "cell_type": "markdown",
   "id": "d2e1e9ad",
   "metadata": {},
   "source": [
    "### In this notebook, we focus on finding the recall"
   ]
  },
  {
   "cell_type": "code",
   "execution_count": 12,
   "id": "7dd2ce52",
   "metadata": {},
   "outputs": [],
   "source": [
    "#/Users/krish/Library/CloudStorage/GoogleDrive-krishthephysicist@gmail.com/My Drive/ljmu/1.data\n",
    "root_path =  r'/Users/krish/ljmu/'\n",
    "result_root = root_path + '3.results/13112022-ResNet50-afo/'\n",
    "#Path(result_root).mkdir(parents=True, exist_ok=True)"
   ]
  },
  {
   "cell_type": "code",
   "execution_count": 13,
   "id": "dba67174",
   "metadata": {},
   "outputs": [],
   "source": [
    "\n",
    "model = keras.models.load_model(result_root+'15112022-2354-ResNet_after_tiling+augmentation_10epochs_afo')"
   ]
  },
  {
   "cell_type": "code",
   "execution_count": 14,
   "id": "e3282071",
   "metadata": {},
   "outputs": [],
   "source": [
    "test_data = pd.read_csv(root_path + '1.data/afo/tiled/afo_test_df.csv')"
   ]
  },
  {
   "cell_type": "code",
   "execution_count": 15,
   "id": "022d47c5",
   "metadata": {},
   "outputs": [
    {
     "data": {
      "text/plain": [
       "0    11113\n",
       "1     4488\n",
       "Name: humans, dtype: int64"
      ]
     },
     "execution_count": 15,
     "metadata": {},
     "output_type": "execute_result"
    }
   ],
   "source": [
    "test_data['humans'].value_counts()"
   ]
  },
  {
   "cell_type": "code",
   "execution_count": 16,
   "id": "6d910a40",
   "metadata": {},
   "outputs": [],
   "source": [
    "IMG_SIZE = 224\n",
    "\n",
    "resize_and_rescale = tf.keras.Sequential([\n",
    "  layers.Resizing(IMG_SIZE, IMG_SIZE),\n",
    "  layers.Rescaling(1./255)\n",
    "])"
   ]
  },
  {
   "cell_type": "code",
   "execution_count": 17,
   "id": "17cc4bb2",
   "metadata": {},
   "outputs": [],
   "source": [
    "def predicter(file_path):\n",
    "    \n",
    "    #print(file_path)\n",
    "    im = Image.open(file_path)\n",
    "    test_input = np.array(im, dtype=np.uint8)\n",
    "    if len(test_input.shape) == 3:\n",
    "        test_input = resize_and_rescale(test_input)\n",
    "        out = model(tf.reshape(test_input,(1,224,224,3)))\n",
    "\n",
    "        return np.array(out)[0][0] \n",
    "    else:\n",
    "        return 'out_of_shape'"
   ]
  },
  {
   "cell_type": "code",
   "execution_count": 18,
   "id": "db681c4a",
   "metadata": {},
   "outputs": [],
   "source": [
    "test_data['prediction'] = test_data.name.apply(predicter)"
   ]
  },
  {
   "cell_type": "code",
   "execution_count": 19,
   "id": "8d750d72",
   "metadata": {},
   "outputs": [
    {
     "data": {
      "text/html": [
       "<div>\n",
       "<style scoped>\n",
       "    .dataframe tbody tr th:only-of-type {\n",
       "        vertical-align: middle;\n",
       "    }\n",
       "\n",
       "    .dataframe tbody tr th {\n",
       "        vertical-align: top;\n",
       "    }\n",
       "\n",
       "    .dataframe thead th {\n",
       "        text-align: right;\n",
       "    }\n",
       "</style>\n",
       "<table border=\"1\" class=\"dataframe\">\n",
       "  <thead>\n",
       "    <tr style=\"text-align: right;\">\n",
       "      <th></th>\n",
       "      <th>Unnamed: 0</th>\n",
       "      <th>name</th>\n",
       "      <th>humans</th>\n",
       "      <th>number_of_humans</th>\n",
       "      <th>prediction</th>\n",
       "    </tr>\n",
       "  </thead>\n",
       "  <tbody>\n",
       "    <tr>\n",
       "      <th>0</th>\n",
       "      <td>16419</td>\n",
       "      <td>/Users/krish/ljmu/1.data/afo/tiled/ts/f_110_1_...</td>\n",
       "      <td>1</td>\n",
       "      <td>7</td>\n",
       "      <td>0.988440</td>\n",
       "    </tr>\n",
       "    <tr>\n",
       "      <th>1</th>\n",
       "      <td>29033</td>\n",
       "      <td>/Users/krish/ljmu/1.data/afo/tiled/false/r3_17...</td>\n",
       "      <td>0</td>\n",
       "      <td>0</td>\n",
       "      <td>0.042353</td>\n",
       "    </tr>\n",
       "    <tr>\n",
       "      <th>2</th>\n",
       "      <td>3873</td>\n",
       "      <td>/Users/krish/ljmu/1.data/afo/tiled/ts/c_107_0_...</td>\n",
       "      <td>1</td>\n",
       "      <td>3</td>\n",
       "      <td>0.994451</td>\n",
       "    </tr>\n",
       "    <tr>\n",
       "      <th>3</th>\n",
       "      <td>14376</td>\n",
       "      <td>/Users/krish/ljmu/1.data/afo/tiled/ts/a_345_0_...</td>\n",
       "      <td>1</td>\n",
       "      <td>5</td>\n",
       "      <td>0.949421</td>\n",
       "    </tr>\n",
       "    <tr>\n",
       "      <th>4</th>\n",
       "      <td>17601</td>\n",
       "      <td>/Users/krish/ljmu/1.data/afo/tiled/false/a_113...</td>\n",
       "      <td>0</td>\n",
       "      <td>0</td>\n",
       "      <td>0.533144</td>\n",
       "    </tr>\n",
       "    <tr>\n",
       "      <th>...</th>\n",
       "      <td>...</td>\n",
       "      <td>...</td>\n",
       "      <td>...</td>\n",
       "      <td>...</td>\n",
       "      <td>...</td>\n",
       "    </tr>\n",
       "    <tr>\n",
       "      <th>15596</th>\n",
       "      <td>27307</td>\n",
       "      <td>/Users/krish/ljmu/1.data/afo/tiled/false/k9_54...</td>\n",
       "      <td>0</td>\n",
       "      <td>0</td>\n",
       "      <td>0.018900</td>\n",
       "    </tr>\n",
       "    <tr>\n",
       "      <th>15597</th>\n",
       "      <td>6432</td>\n",
       "      <td>/Users/krish/ljmu/1.data/afo/tiled/ts/r3_461_1...</td>\n",
       "      <td>1</td>\n",
       "      <td>1</td>\n",
       "      <td>0.087330</td>\n",
       "    </tr>\n",
       "    <tr>\n",
       "      <th>15598</th>\n",
       "      <td>8555</td>\n",
       "      <td>/Users/krish/ljmu/1.data/afo/tiled/false/a_102...</td>\n",
       "      <td>0</td>\n",
       "      <td>0</td>\n",
       "      <td>0.072634</td>\n",
       "    </tr>\n",
       "    <tr>\n",
       "      <th>15599</th>\n",
       "      <td>36418</td>\n",
       "      <td>/Users/krish/ljmu/1.data/afo/tiled/false/d_444...</td>\n",
       "      <td>0</td>\n",
       "      <td>0</td>\n",
       "      <td>0.430123</td>\n",
       "    </tr>\n",
       "    <tr>\n",
       "      <th>15600</th>\n",
       "      <td>34569</td>\n",
       "      <td>/Users/krish/ljmu/1.data/afo/tiled/false/b1_17...</td>\n",
       "      <td>0</td>\n",
       "      <td>0</td>\n",
       "      <td>0.059614</td>\n",
       "    </tr>\n",
       "  </tbody>\n",
       "</table>\n",
       "<p>15601 rows × 5 columns</p>\n",
       "</div>"
      ],
      "text/plain": [
       "       Unnamed: 0                                               name  humans  \\\n",
       "0           16419  /Users/krish/ljmu/1.data/afo/tiled/ts/f_110_1_...       1   \n",
       "1           29033  /Users/krish/ljmu/1.data/afo/tiled/false/r3_17...       0   \n",
       "2            3873  /Users/krish/ljmu/1.data/afo/tiled/ts/c_107_0_...       1   \n",
       "3           14376  /Users/krish/ljmu/1.data/afo/tiled/ts/a_345_0_...       1   \n",
       "4           17601  /Users/krish/ljmu/1.data/afo/tiled/false/a_113...       0   \n",
       "...           ...                                                ...     ...   \n",
       "15596       27307  /Users/krish/ljmu/1.data/afo/tiled/false/k9_54...       0   \n",
       "15597        6432  /Users/krish/ljmu/1.data/afo/tiled/ts/r3_461_1...       1   \n",
       "15598        8555  /Users/krish/ljmu/1.data/afo/tiled/false/a_102...       0   \n",
       "15599       36418  /Users/krish/ljmu/1.data/afo/tiled/false/d_444...       0   \n",
       "15600       34569  /Users/krish/ljmu/1.data/afo/tiled/false/b1_17...       0   \n",
       "\n",
       "       number_of_humans  prediction  \n",
       "0                     7    0.988440  \n",
       "1                     0    0.042353  \n",
       "2                     3    0.994451  \n",
       "3                     5    0.949421  \n",
       "4                     0    0.533144  \n",
       "...                 ...         ...  \n",
       "15596                 0    0.018900  \n",
       "15597                 1    0.087330  \n",
       "15598                 0    0.072634  \n",
       "15599                 0    0.430123  \n",
       "15600                 0    0.059614  \n",
       "\n",
       "[15601 rows x 5 columns]"
      ]
     },
     "execution_count": 19,
     "metadata": {},
     "output_type": "execute_result"
    }
   ],
   "source": [
    "test_data"
   ]
  },
  {
   "cell_type": "code",
   "execution_count": 20,
   "id": "4ac0c420",
   "metadata": {},
   "outputs": [],
   "source": [
    "result_root = root_path + '3.results/15112022-metrics_calculator/'\n",
    "Path(result_root).mkdir(parents=True, exist_ok=True)"
   ]
  },
  {
   "cell_type": "code",
   "execution_count": 22,
   "id": "51d66911",
   "metadata": {},
   "outputs": [],
   "source": [
    "test_data.to_csv(result_root +'test_output.csv')"
   ]
  },
  {
   "cell_type": "code",
   "execution_count": 23,
   "id": "d68d368d",
   "metadata": {},
   "outputs": [],
   "source": [
    "# https://kawahara.ca/how-to-compute-truefalse-positives-and-truefalse-negatives-in-python-for-binary-classification-problems/"
   ]
  },
  {
   "cell_type": "code",
   "execution_count": 54,
   "id": "63f2b458",
   "metadata": {},
   "outputs": [],
   "source": [
    "tp,fp,tn,fn = 0,0,0,0\n",
    "for i in range(test_data.shape[0]):\n",
    "    if (test_data.iloc[i]['humans'] == int(test_data.iloc[i]['prediction'].round())) and (test_data.iloc[i]['humans']==0):\n",
    "        tn +=1\n",
    "    elif (test_data.iloc[i]['humans'] == int(test_data.iloc[i]['prediction'].round())) and (test_data.iloc[i]['humans']==1):\n",
    "        tp +=1\n",
    "    elif (test_data.iloc[i]['humans'] != int(test_data.iloc[i]['prediction'].round())) and (test_data.iloc[i]['humans']==1):\n",
    "        fp+=1\n",
    "    elif (test_data.iloc[i]['humans'] != int(test_data.iloc[i]['prediction'].round())) and (test_data.iloc[i]['humans']==0):\n",
    "        fn+=1\n",
    "    \n"
   ]
  },
  {
   "cell_type": "code",
   "execution_count": 55,
   "id": "df748148",
   "metadata": {},
   "outputs": [
    {
     "name": "stdout",
     "output_type": "stream",
     "text": [
      "3941 547 10922 191 15601\n"
     ]
    }
   ],
   "source": [
    "print(tp,fp,tn,fn,test_data.shape[0])"
   ]
  },
  {
   "cell_type": "code",
   "execution_count": 56,
   "id": "08a62f4d",
   "metadata": {},
   "outputs": [
    {
     "data": {
      "text/plain": [
       "15601"
      ]
     },
     "execution_count": 56,
     "metadata": {},
     "output_type": "execute_result"
    }
   ],
   "source": [
    "tp+fp+tn+fn"
   ]
  },
  {
   "cell_type": "code",
   "execution_count": 57,
   "id": "81caea83",
   "metadata": {},
   "outputs": [
    {
     "name": "stdout",
     "output_type": "stream",
     "text": [
      "recall: 0.9537754114230397\n",
      "precision 0.8781194295900179\n",
      "accuracy: 0.9526953400423049\n"
     ]
    }
   ],
   "source": [
    "print('recall:',tp/(tp+fn))\n",
    "print('precision',tp/(tp+fp))\n",
    "print('accuracy:',(tp+tn)/test_data.shape[0])"
   ]
  },
  {
   "cell_type": "code",
   "execution_count": 28,
   "id": "c17ed21b",
   "metadata": {},
   "outputs": [
    {
     "data": {
      "text/plain": [
       "1"
      ]
     },
     "execution_count": 28,
     "metadata": {},
     "output_type": "execute_result"
    }
   ],
   "source": [
    "int(test_data.iloc[0]['prediction'].round(1))"
   ]
  },
  {
   "cell_type": "markdown",
   "id": "695d25b7",
   "metadata": {},
   "source": [
    "**After doing this, I feel we can dont need the keras to get the area under the curve, we can vary the threshold in the array of elif statements** "
   ]
  },
  {
   "cell_type": "code",
   "execution_count": null,
   "id": "612409ac",
   "metadata": {},
   "outputs": [],
   "source": [
    "model.predict()"
   ]
  },
  {
   "cell_type": "code",
   "execution_count": null,
   "id": "8bf1ba2b",
   "metadata": {},
   "outputs": [],
   "source": [
    "y_pred_keras = model.predict(X_test).ravel()"
   ]
  },
  {
   "cell_type": "code",
   "execution_count": 29,
   "id": "c43105ad",
   "metadata": {},
   "outputs": [
    {
     "ename": "NameError",
     "evalue": "name 'X_test' is not defined",
     "output_type": "error",
     "traceback": [
      "\u001b[0;31m---------------------------------------------------------------------------\u001b[0m",
      "\u001b[0;31mNameError\u001b[0m                                 Traceback (most recent call last)",
      "Cell \u001b[0;32mIn [29], line 4\u001b[0m\n\u001b[1;32m      1\u001b[0m \u001b[38;5;66;03m# https://www.dlology.com/blog/simple-guide-on-how-to-generate-roc-plot-for-keras-classifier/\u001b[39;00m\n\u001b[1;32m      2\u001b[0m \u001b[38;5;66;03m# Using this we are going to find the AP\u001b[39;00m\n\u001b[1;32m      3\u001b[0m \u001b[38;5;28;01mfrom\u001b[39;00m \u001b[38;5;21;01msklearn\u001b[39;00m\u001b[38;5;21;01m.\u001b[39;00m\u001b[38;5;21;01mmetrics\u001b[39;00m \u001b[38;5;28;01mimport\u001b[39;00m roc_curve\n\u001b[0;32m----> 4\u001b[0m y_pred_keras \u001b[38;5;241m=\u001b[39m model\u001b[38;5;241m.\u001b[39mpredict(\u001b[43mX_test\u001b[49m)\u001b[38;5;241m.\u001b[39mravel()\n\u001b[1;32m      5\u001b[0m fpr_keras, tpr_keras, thresholds_keras \u001b[38;5;241m=\u001b[39m roc_curve(y_test, y_pred_keras)\n",
      "\u001b[0;31mNameError\u001b[0m: name 'X_test' is not defined"
     ]
    }
   ],
   "source": [
    "# https://www.dlology.com/blog/simple-guide-on-how-to-generate-roc-plot-for-keras-classifier/\n",
    "# Using this we are going to find the AP\n",
    "from sklearn.metrics import roc_curve\n",
    "y_pred_keras = model.predict(X_test).ravel()\n",
    "fpr_keras, tpr_keras, thresholds_keras = roc_curve(y_test, y_pred_keras)"
   ]
  },
  {
   "cell_type": "code",
   "execution_count": 30,
   "id": "8ac36a6b",
   "metadata": {},
   "outputs": [],
   "source": [
    "from sklearn.metrics import roc_curve\n"
   ]
  },
  {
   "cell_type": "code",
   "execution_count": 31,
   "id": "2e28bd4d",
   "metadata": {},
   "outputs": [],
   "source": [
    "test_data = pd.read_csv(result_root+'test_output.csv')\n"
   ]
  },
  {
   "cell_type": "code",
   "execution_count": 33,
   "id": "fec6f22c",
   "metadata": {},
   "outputs": [
    {
     "data": {
      "text/plain": [
       "array([0.98844016, 0.04235325, 0.99445117, ..., 0.07263373, 0.43012255,\n",
       "       0.05961371])"
      ]
     },
     "execution_count": 33,
     "metadata": {},
     "output_type": "execute_result"
    }
   ],
   "source": [
    "test_data.iloc[:]['prediction'].values"
   ]
  },
  {
   "cell_type": "code",
   "execution_count": 34,
   "id": "8984a4a7",
   "metadata": {},
   "outputs": [
    {
     "data": {
      "text/plain": [
       "(array([0.       , 0.       , 0.       , ..., 0.9429497, 0.9429497,\n",
       "        1.       ]),\n",
       " array([0.00000000e+00, 2.22816399e-04, 4.23351159e-03, ...,\n",
       "        9.99777184e-01, 1.00000000e+00, 1.00000000e+00]),\n",
       " array([1.99994874e+00, 9.99948740e-01, 9.99856230e-01, ...,\n",
       "        5.24312960e-03, 5.23103540e-03, 1.49001700e-04]))"
      ]
     },
     "execution_count": 34,
     "metadata": {},
     "output_type": "execute_result"
    }
   ],
   "source": [
    "y_true = test_data.iloc[:]['humans'].values\n",
    "y_pred = test_data.iloc[:]['prediction'].values\n",
    "roc_curve(y_true,y_pred)"
   ]
  },
  {
   "cell_type": "code",
   "execution_count": 35,
   "id": "589d8e7c",
   "metadata": {},
   "outputs": [
    {
     "data": {
      "text/plain": [
       "0.9713709297761628"
      ]
     },
     "execution_count": 35,
     "metadata": {},
     "output_type": "execute_result"
    }
   ],
   "source": [
    "from sklearn.metrics import roc_auc_score\n",
    "roc_auc_score(y_true,y_pred)"
   ]
  },
  {
   "cell_type": "code",
   "execution_count": 36,
   "id": "b4b26e38",
   "metadata": {},
   "outputs": [
    {
     "data": {
      "text/plain": [
       "<sklearn.metrics._plot.roc_curve.RocCurveDisplay at 0x29d55ca90>"
      ]
     },
     "execution_count": 36,
     "metadata": {},
     "output_type": "execute_result"
    },
    {
     "data": {
      "image/png": "[encoded data removed]",
      "text/plain": [
       "<Figure size 640x480 with 1 Axes>"
      ]
     },
     "metadata": {},
     "output_type": "display_data"
    }
   ],
   "source": [
    "from sklearn.metrics import RocCurveDisplay\n",
    "RocCurveDisplay.from_predictions(y_true, y_pred)"
   ]
  },
  {
   "cell_type": "code",
   "execution_count": 43,
   "id": "e9446742",
   "metadata": {},
   "outputs": [
    {
     "data": {
      "text/plain": [
       "array([0.98844016, 0.04235325, 0.99445117, ..., 0.07263373, 0.43012255,\n",
       "       0.05961371])"
      ]
     },
     "execution_count": 43,
     "metadata": {},
     "output_type": "execute_result"
    }
   ],
   "source": [
    "y_pred"
   ]
  },
  {
   "cell_type": "code",
   "execution_count": 49,
   "id": "50c1e57f",
   "metadata": {},
   "outputs": [
    {
     "data": {
      "text/plain": [
       "0"
      ]
     },
     "execution_count": 49,
     "metadata": {},
     "output_type": "execute_result"
    }
   ],
   "source": [
    "round(0.05961371,)"
   ]
  },
  {
   "cell_type": "code",
   "execution_count": 50,
   "id": "3771c006",
   "metadata": {},
   "outputs": [
    {
     "data": {
      "text/plain": [
       "array([1., 0., 1., ..., 0., 0., 0.])"
      ]
     },
     "execution_count": 50,
     "metadata": {},
     "output_type": "execute_result"
    }
   ],
   "source": [
    "y_pred.round()"
   ]
  },
  {
   "cell_type": "code",
   "execution_count": 51,
   "id": "dd8cc6ac",
   "metadata": {},
   "outputs": [
    {
     "data": {
      "text/plain": [
       "array([[10922,   191],\n",
       "       [  547,  3941]])"
      ]
     },
     "execution_count": 51,
     "metadata": {},
     "output_type": "execute_result"
    }
   ],
   "source": [
    "from sklearn.metrics import confusion_matrix\n",
    "confusion_matrix(y_true,y_pred.round())"
   ]
  },
  {
   "cell_type": "code",
   "execution_count": 53,
   "id": "0f27d2e7",
   "metadata": {},
   "outputs": [
    {
     "data": {
      "text/plain": [
       "0.8781194295900179"
      ]
     },
     "execution_count": 53,
     "metadata": {},
     "output_type": "execute_result"
    }
   ],
   "source": [
    "from sklearn.metrics import recall_score\n",
    "recall_score(y_true,y_pred.round())"
   ]
  },
  {
   "cell_type": "code",
   "execution_count": 58,
   "id": "56a1c582",
   "metadata": {},
   "outputs": [
    {
     "data": {
      "text/plain": [
       "0.9537754114230397"
      ]
     },
     "execution_count": 58,
     "metadata": {},
     "output_type": "execute_result"
    }
   ],
   "source": [
    "from sklearn.metrics import precision_score\n",
    "precision_score(y_true,y_pred.round())"
   ]
  },
  {
   "cell_type": "code",
   "execution_count": null,
   "id": "715ef3df",
   "metadata": {},
   "outputs": [],
   "source": []
  }
 ],
 "metadata": {
  "kernelspec": {
   "display_name": "Python 3.9 (tensorflow)",
   "language": "python",
   "name": "tensorflow"
  },
  "language_info": {
   "codemirror_mode": {
    "name": "ipython",
    "version": 3
   },
   "file_extension": ".py",
   "mimetype": "text/x-python",
   "name": "python",
   "nbconvert_exporter": "python",
   "pygments_lexer": "ipython3",
   "version": "3.9.13"
  }
 },
 "nbformat": 4,
 "nbformat_minor": 5
}
