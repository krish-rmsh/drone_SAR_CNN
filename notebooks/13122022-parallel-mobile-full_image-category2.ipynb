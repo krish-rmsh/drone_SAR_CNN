{
 "cells": [
  {
   "cell_type": "markdown",
   "id": "2197f682",
   "metadata": {},
   "source": [
    "# Todo:\n",
    "* Parallelise where evr possible\n",
    "* using category2"
   ]
  },
  {
   "cell_type": "markdown",
   "id": "61e57d5e",
   "metadata": {},
   "source": [
    "## Pipeline"
   ]
  },
  {
   "cell_type": "code",
   "execution_count": null,
   "id": "afdf142c",
   "metadata": {},
   "outputs": [],
   "source": []
  },
  {
   "cell_type": "code",
   "execution_count": 21,
   "id": "6058ab75",
   "metadata": {},
   "outputs": [],
   "source": [
    "import pandas as pd \n",
    "import os\n",
    "import glob\n",
    "from sklearn.model_selection import train_test_split\n",
    "from datetime import datetime\n",
    "\n",
    "# Mac local path\n",
    "root_path =  r'/Users/krish/ljmu/1.data/afo/'"
   ]
  },
  {
   "cell_type": "code",
   "execution_count": 22,
   "id": "152ead24",
   "metadata": {},
   "outputs": [
    {
     "data": {
      "text/plain": [
       "3641"
      ]
     },
     "execution_count": 22,
     "metadata": {},
     "output_type": "execute_result"
    }
   ],
   "source": [
    "len(glob.glob(root_path+'images/*.jpg'))"
   ]
  },
  {
   "cell_type": "markdown",
   "id": "0f891944",
   "metadata": {},
   "source": [
    "### Using the train csv to tile and train "
   ]
  },
  {
   "cell_type": "code",
   "execution_count": 23,
   "id": "4607e6bb",
   "metadata": {},
   "outputs": [],
   "source": [
    "from pathlib import Path\n",
    "from PIL import Image\n",
    "import numpy as np\n",
    "from shapely.geometry import Polygon, Point"
   ]
  },
  {
   "cell_type": "code",
   "execution_count": 24,
   "id": "7e73af23",
   "metadata": {},
   "outputs": [],
   "source": [
    "all_images = pd.read_csv(root_path+'images/all_images_category2.csv')"
   ]
  },
  {
   "cell_type": "code",
   "execution_count": 25,
   "id": "38920bc2",
   "metadata": {},
   "outputs": [
    {
     "data": {
      "text/html": [
       "<div>\n",
       "<style scoped>\n",
       "    .dataframe tbody tr th:only-of-type {\n",
       "        vertical-align: middle;\n",
       "    }\n",
       "\n",
       "    .dataframe tbody tr th {\n",
       "        vertical-align: top;\n",
       "    }\n",
       "\n",
       "    .dataframe thead th {\n",
       "        text-align: right;\n",
       "    }\n",
       "</style>\n",
       "<table border=\"1\" class=\"dataframe\">\n",
       "  <thead>\n",
       "    <tr style=\"text-align: right;\">\n",
       "      <th></th>\n",
       "      <th>Unnamed: 0</th>\n",
       "      <th>file_name</th>\n",
       "      <th>humans</th>\n",
       "      <th>number_of_humans</th>\n",
       "    </tr>\n",
       "  </thead>\n",
       "  <tbody>\n",
       "    <tr>\n",
       "      <th>0</th>\n",
       "      <td>0</td>\n",
       "      <td>/Users/krish/ljmu/1.data/afo/images/b1_37.jpg</td>\n",
       "      <td>1</td>\n",
       "      <td>34</td>\n",
       "    </tr>\n",
       "    <tr>\n",
       "      <th>1</th>\n",
       "      <td>1</td>\n",
       "      <td>/Users/krish/ljmu/1.data/afo/images/r2_94.jpg</td>\n",
       "      <td>1</td>\n",
       "      <td>3</td>\n",
       "    </tr>\n",
       "    <tr>\n",
       "      <th>2</th>\n",
       "      <td>2</td>\n",
       "      <td>/Users/krish/ljmu/1.data/afo/images/b1_23.jpg</td>\n",
       "      <td>1</td>\n",
       "      <td>35</td>\n",
       "    </tr>\n",
       "    <tr>\n",
       "      <th>3</th>\n",
       "      <td>3</td>\n",
       "      <td>/Users/krish/ljmu/1.data/afo/images/r2_80.jpg</td>\n",
       "      <td>1</td>\n",
       "      <td>3</td>\n",
       "    </tr>\n",
       "    <tr>\n",
       "      <th>4</th>\n",
       "      <td>4</td>\n",
       "      <td>/Users/krish/ljmu/1.data/afo/images/s5_5.jpg</td>\n",
       "      <td>0</td>\n",
       "      <td>0</td>\n",
       "    </tr>\n",
       "    <tr>\n",
       "      <th>...</th>\n",
       "      <td>...</td>\n",
       "      <td>...</td>\n",
       "      <td>...</td>\n",
       "      <td>...</td>\n",
       "    </tr>\n",
       "    <tr>\n",
       "      <th>3636</th>\n",
       "      <td>3636</td>\n",
       "      <td>/Users/krish/ljmu/1.data/afo/images/a_184.jpg</td>\n",
       "      <td>1</td>\n",
       "      <td>5</td>\n",
       "    </tr>\n",
       "    <tr>\n",
       "      <th>3637</th>\n",
       "      <td>3637</td>\n",
       "      <td>/Users/krish/ljmu/1.data/afo/images/s5_8.jpg</td>\n",
       "      <td>0</td>\n",
       "      <td>0</td>\n",
       "    </tr>\n",
       "    <tr>\n",
       "      <th>3638</th>\n",
       "      <td>3638</td>\n",
       "      <td>/Users/krish/ljmu/1.data/afo/images/s2_107.jpg</td>\n",
       "      <td>1</td>\n",
       "      <td>1</td>\n",
       "    </tr>\n",
       "    <tr>\n",
       "      <th>3639</th>\n",
       "      <td>3639</td>\n",
       "      <td>/Users/krish/ljmu/1.data/afo/images/a_1184.jpg</td>\n",
       "      <td>1</td>\n",
       "      <td>46</td>\n",
       "    </tr>\n",
       "    <tr>\n",
       "      <th>3640</th>\n",
       "      <td>3640</td>\n",
       "      <td>/Users/krish/ljmu/1.data/afo/images/i1_8.jpg</td>\n",
       "      <td>1</td>\n",
       "      <td>22</td>\n",
       "    </tr>\n",
       "  </tbody>\n",
       "</table>\n",
       "<p>3641 rows × 4 columns</p>\n",
       "</div>"
      ],
      "text/plain": [
       "      Unnamed: 0                                       file_name  humans  \\\n",
       "0              0   /Users/krish/ljmu/1.data/afo/images/b1_37.jpg       1   \n",
       "1              1   /Users/krish/ljmu/1.data/afo/images/r2_94.jpg       1   \n",
       "2              2   /Users/krish/ljmu/1.data/afo/images/b1_23.jpg       1   \n",
       "3              3   /Users/krish/ljmu/1.data/afo/images/r2_80.jpg       1   \n",
       "4              4    /Users/krish/ljmu/1.data/afo/images/s5_5.jpg       0   \n",
       "...          ...                                             ...     ...   \n",
       "3636        3636   /Users/krish/ljmu/1.data/afo/images/a_184.jpg       1   \n",
       "3637        3637    /Users/krish/ljmu/1.data/afo/images/s5_8.jpg       0   \n",
       "3638        3638  /Users/krish/ljmu/1.data/afo/images/s2_107.jpg       1   \n",
       "3639        3639  /Users/krish/ljmu/1.data/afo/images/a_1184.jpg       1   \n",
       "3640        3640    /Users/krish/ljmu/1.data/afo/images/i1_8.jpg       1   \n",
       "\n",
       "      number_of_humans  \n",
       "0                   34  \n",
       "1                    3  \n",
       "2                   35  \n",
       "3                    3  \n",
       "4                    0  \n",
       "...                ...  \n",
       "3636                 5  \n",
       "3637                 0  \n",
       "3638                 1  \n",
       "3639                46  \n",
       "3640                22  \n",
       "\n",
       "[3641 rows x 4 columns]"
      ]
     },
     "execution_count": 25,
     "metadata": {},
     "output_type": "execute_result"
    }
   ],
   "source": [
    "all_images"
   ]
  },
  {
   "cell_type": "code",
   "execution_count": 26,
   "id": "61992105",
   "metadata": {},
   "outputs": [
    {
     "name": "stdout",
     "output_type": "stream",
     "text": [
      "train 3276 validation 365\n"
     ]
    }
   ],
   "source": [
    "train_df1, test_df = train_test_split(all_images, \n",
    "                                   test_size = 0.10, \n",
    "                                   random_state = 1998,\n",
    "                                   stratify = all_images['humans']) # Stratify makes sure that the subset of training and testing data returned keeps the same class propotion of the main dataframe\n",
    "print('train', train_df1.shape[0], 'validation', test_df.shape[0])"
   ]
  },
  {
   "cell_type": "code",
   "execution_count": 27,
   "id": "f955bdf8",
   "metadata": {},
   "outputs": [
    {
     "name": "stdout",
     "output_type": "stream",
     "text": [
      "train 2948 validation 328\n"
     ]
    }
   ],
   "source": [
    "train_df, valid_df = train_test_split(train_df1, \n",
    "                                   test_size = 0.10, \n",
    "                                   random_state = 1998,\n",
    "                                   stratify = train_df1['humans']) # Stratify makes sure that the subset of training and testing data returned keeps the same class propotion of the main dataframe\n",
    "print('train', train_df.shape[0], 'validation', valid_df.shape[0])\n",
    "\n",
    "\n"
   ]
  },
  {
   "cell_type": "markdown",
   "id": "b7a96a7d",
   "metadata": {},
   "source": [
    "## Model fitting"
   ]
  },
  {
   "cell_type": "markdown",
   "id": "e7f28a67",
   "metadata": {},
   "source": [
    "**Without tiling**"
   ]
  },
  {
   "cell_type": "code",
   "execution_count": 28,
   "id": "f7af25ac",
   "metadata": {},
   "outputs": [],
   "source": [
    "result_root = r'/Users/krish/ljmu/3.results/13122022-parallel-mobile-full_image-category2/'\n",
    "Path(result_root).mkdir(parents=True, exist_ok=True)"
   ]
  },
  {
   "cell_type": "code",
   "execution_count": 29,
   "id": "92ed3da8",
   "metadata": {},
   "outputs": [],
   "source": [
    "from tensorflow.keras import layers\n",
    "from keras_preprocessing.image import ImageDataGenerator"
   ]
  },
  {
   "cell_type": "code",
   "execution_count": 30,
   "id": "46317a22",
   "metadata": {},
   "outputs": [],
   "source": [
    "# actual_train = pd.read_csv(root_path+'images/train.csv')"
   ]
  },
  {
   "cell_type": "code",
   "execution_count": 31,
   "id": "76371862",
   "metadata": {},
   "outputs": [],
   "source": [
    "# actual_train['humans'] = actual_train.humans.apply(lambda x: str(x))"
   ]
  },
  {
   "cell_type": "code",
   "execution_count": 32,
   "id": "3de49649",
   "metadata": {},
   "outputs": [],
   "source": [
    "import tensorflow as tf\n",
    "\n",
    "from tensorflow.keras.layers import Input , Dense , Flatten , GlobalAveragePooling2D\n",
    "from tensorflow.keras.models import Sequential"
   ]
  },
  {
   "cell_type": "code",
   "execution_count": 33,
   "id": "9b92d52c",
   "metadata": {},
   "outputs": [
    {
     "data": {
      "text/html": [
       "<div>\n",
       "<style scoped>\n",
       "    .dataframe tbody tr th:only-of-type {\n",
       "        vertical-align: middle;\n",
       "    }\n",
       "\n",
       "    .dataframe tbody tr th {\n",
       "        vertical-align: top;\n",
       "    }\n",
       "\n",
       "    .dataframe thead th {\n",
       "        text-align: right;\n",
       "    }\n",
       "</style>\n",
       "<table border=\"1\" class=\"dataframe\">\n",
       "  <thead>\n",
       "    <tr style=\"text-align: right;\">\n",
       "      <th></th>\n",
       "      <th>Unnamed: 0</th>\n",
       "      <th>file_name</th>\n",
       "      <th>humans</th>\n",
       "      <th>number_of_humans</th>\n",
       "    </tr>\n",
       "  </thead>\n",
       "  <tbody>\n",
       "    <tr>\n",
       "      <th>2336</th>\n",
       "      <td>2336</td>\n",
       "      <td>/Users/krish/ljmu/1.data/afo/images/b1_98.jpg</td>\n",
       "      <td>1</td>\n",
       "      <td>21</td>\n",
       "    </tr>\n",
       "    <tr>\n",
       "      <th>1922</th>\n",
       "      <td>1922</td>\n",
       "      <td>/Users/krish/ljmu/1.data/afo/images/k5_12.jpg</td>\n",
       "      <td>1</td>\n",
       "      <td>8</td>\n",
       "    </tr>\n",
       "    <tr>\n",
       "      <th>808</th>\n",
       "      <td>808</td>\n",
       "      <td>/Users/krish/ljmu/1.data/afo/images/k9_531.jpg</td>\n",
       "      <td>1</td>\n",
       "      <td>1</td>\n",
       "    </tr>\n",
       "    <tr>\n",
       "      <th>40</th>\n",
       "      <td>40</td>\n",
       "      <td>/Users/krish/ljmu/1.data/afo/images/s2_334.jpg</td>\n",
       "      <td>1</td>\n",
       "      <td>1</td>\n",
       "    </tr>\n",
       "    <tr>\n",
       "      <th>1895</th>\n",
       "      <td>1895</td>\n",
       "      <td>/Users/krish/ljmu/1.data/afo/images/g_54.jpg</td>\n",
       "      <td>1</td>\n",
       "      <td>2</td>\n",
       "    </tr>\n",
       "    <tr>\n",
       "      <th>...</th>\n",
       "      <td>...</td>\n",
       "      <td>...</td>\n",
       "      <td>...</td>\n",
       "      <td>...</td>\n",
       "    </tr>\n",
       "    <tr>\n",
       "      <th>524</th>\n",
       "      <td>524</td>\n",
       "      <td>/Users/krish/ljmu/1.data/afo/images/s5_207.jpg</td>\n",
       "      <td>0</td>\n",
       "      <td>0</td>\n",
       "    </tr>\n",
       "    <tr>\n",
       "      <th>3392</th>\n",
       "      <td>3392</td>\n",
       "      <td>/Users/krish/ljmu/1.data/afo/images/f_104.jpg</td>\n",
       "      <td>1</td>\n",
       "      <td>46</td>\n",
       "    </tr>\n",
       "    <tr>\n",
       "      <th>2248</th>\n",
       "      <td>2248</td>\n",
       "      <td>/Users/krish/ljmu/1.data/afo/images/w1_108.jpg</td>\n",
       "      <td>1</td>\n",
       "      <td>6</td>\n",
       "    </tr>\n",
       "    <tr>\n",
       "      <th>3509</th>\n",
       "      <td>3509</td>\n",
       "      <td>/Users/krish/ljmu/1.data/afo/images/k6_231.jpg</td>\n",
       "      <td>1</td>\n",
       "      <td>3</td>\n",
       "    </tr>\n",
       "    <tr>\n",
       "      <th>1951</th>\n",
       "      <td>1951</td>\n",
       "      <td>/Users/krish/ljmu/1.data/afo/images/i3_142.jpg</td>\n",
       "      <td>1</td>\n",
       "      <td>1</td>\n",
       "    </tr>\n",
       "  </tbody>\n",
       "</table>\n",
       "<p>2948 rows × 4 columns</p>\n",
       "</div>"
      ],
      "text/plain": [
       "      Unnamed: 0                                       file_name  humans  \\\n",
       "2336        2336   /Users/krish/ljmu/1.data/afo/images/b1_98.jpg       1   \n",
       "1922        1922   /Users/krish/ljmu/1.data/afo/images/k5_12.jpg       1   \n",
       "808          808  /Users/krish/ljmu/1.data/afo/images/k9_531.jpg       1   \n",
       "40            40  /Users/krish/ljmu/1.data/afo/images/s2_334.jpg       1   \n",
       "1895        1895    /Users/krish/ljmu/1.data/afo/images/g_54.jpg       1   \n",
       "...          ...                                             ...     ...   \n",
       "524          524  /Users/krish/ljmu/1.data/afo/images/s5_207.jpg       0   \n",
       "3392        3392   /Users/krish/ljmu/1.data/afo/images/f_104.jpg       1   \n",
       "2248        2248  /Users/krish/ljmu/1.data/afo/images/w1_108.jpg       1   \n",
       "3509        3509  /Users/krish/ljmu/1.data/afo/images/k6_231.jpg       1   \n",
       "1951        1951  /Users/krish/ljmu/1.data/afo/images/i3_142.jpg       1   \n",
       "\n",
       "      number_of_humans  \n",
       "2336                21  \n",
       "1922                 8  \n",
       "808                  1  \n",
       "40                   1  \n",
       "1895                 2  \n",
       "...                ...  \n",
       "524                  0  \n",
       "3392                46  \n",
       "2248                 6  \n",
       "3509                 3  \n",
       "1951                 1  \n",
       "\n",
       "[2948 rows x 4 columns]"
      ]
     },
     "execution_count": 33,
     "metadata": {},
     "output_type": "execute_result"
    }
   ],
   "source": [
    "train_df"
   ]
  },
  {
   "cell_type": "markdown",
   "id": "a04154be",
   "metadata": {},
   "source": [
    "**using tiling data**"
   ]
  },
  {
   "cell_type": "code",
   "execution_count": 34,
   "id": "afa5ce86",
   "metadata": {},
   "outputs": [],
   "source": [
    "# df_true = pd.DataFrame(columns = ['file_name','humans'])\n",
    "# df_false = pd.DataFrame(columns = ['file_name','humans'])\n",
    "\n",
    "# df_true['file_name'] = glob.glob(r'/Users/krish/ljmu/1.data/afo/tiledv4/train/ts/*.jpg')\n",
    "# df_true.humans = 1\n",
    "\n",
    "# df_false['file_name'] = glob.glob(r'/Users/krish/ljmu/1.data/afo/tiledv4/train/false/*.jpg')\n",
    "# df_false.humans = 0\n",
    "\n",
    "# tiled_train = df_true.append(df_false)"
   ]
  },
  {
   "cell_type": "code",
   "execution_count": 35,
   "id": "1395d286",
   "metadata": {},
   "outputs": [],
   "source": [
    "# tiled_train['humans'] = tiled_train.humans.apply(lambda x: str(x))"
   ]
  },
  {
   "cell_type": "code",
   "execution_count": 36,
   "id": "9b8c7044",
   "metadata": {},
   "outputs": [],
   "source": [
    "# tiled_train"
   ]
  },
  {
   "cell_type": "code",
   "execution_count": 37,
   "id": "aaf9ad5e",
   "metadata": {},
   "outputs": [],
   "source": [
    "# train_df, valid_df = train_test_split(tiled_train, \n",
    "#                                    test_size = 0.15, \n",
    "#                                    random_state = 1998,\n",
    "#                                    stratify = tiled_train['humans']) # Stratify makes sure that the subset of training and testing data returned keeps the same class propotion of the main dataframe\n",
    "# print('train', train_df.shape[0], 'validation', valid_df.shape[0])"
   ]
  },
  {
   "cell_type": "code",
   "execution_count": 38,
   "id": "286ce26c",
   "metadata": {},
   "outputs": [],
   "source": [
    "train_df['humans'] = train_df.humans.apply(lambda x: str(x))\n",
    "valid_df['humans'] = valid_df.humans.apply(lambda x: str(x))"
   ]
  },
  {
   "cell_type": "code",
   "execution_count": 39,
   "id": "44173a23",
   "metadata": {},
   "outputs": [
    {
     "name": "stdout",
     "output_type": "stream",
     "text": [
      "Found 2948 validated image filenames belonging to 2 classes.\n",
      "Found 328 validated image filenames belonging to 2 classes.\n"
     ]
    }
   ],
   "source": [
    "# Rotation_range - random rotation within the angle mentioned\n",
    "# Random_shifts - shifts 20% at max. to the horizontal and vertical(reduce to 10% as already diverse data)\n",
    "# Random_flip - random flips \n",
    "# fill_mode - fill the blank pixels, when augmenting with the nearest color\n",
    "datagen = ImageDataGenerator(rotation_range = 360,\n",
    "                             width_shift_range=0.1, height_shift_range=0.1,\n",
    "                             #horizontal_flip=True, vertical_flip=True, # Isnt much useful for us\n",
    "                             brightness_range=[0.5,1.5],\n",
    "                             rescale=1./255.,fill_mode='nearest')\n",
    "\n",
    "train_generator = datagen.flow_from_dataframe(dataframe=train_df, x_col = 'file_name', y_col = 'humans', class_mode='binary', target_size=(224 , 224), batch_size=24)\n",
    "valid_generator = datagen.flow_from_dataframe(dataframe=valid_df, x_col = 'file_name', y_col = 'humans', class_mode='binary', target_size=(224 , 224), batch_size=24)"
   ]
  },
  {
   "cell_type": "code",
   "execution_count": 40,
   "id": "2d22f163",
   "metadata": {},
   "outputs": [
    {
     "name": "stdout",
     "output_type": "stream",
     "text": [
      "Metal device set to: Apple M1\n"
     ]
    },
    {
     "name": "stderr",
     "output_type": "stream",
     "text": [
      "2022-12-13 12:20:34.010978: I tensorflow/core/common_runtime/pluggable_device/pluggable_device_factory.cc:305] Could not identify NUMA node of platform GPU ID 0, defaulting to 0. Your kernel may not have been built with NUMA support.\n",
      "2022-12-13 12:20:34.011469: I tensorflow/core/common_runtime/pluggable_device/pluggable_device_factory.cc:271] Created TensorFlow device (/job:localhost/replica:0/task:0/device:GPU:0 with 0 MB memory) -> physical PluggableDevice (device: 0, name: METAL, pci bus id: <undefined>)\n"
     ]
    }
   ],
   "source": [
    "# i'll be using inception_v3 for this model , along with 2 extra dense layers and the output layer\n",
    "# (224,224,3) is the default shape for imagent and that actually cant bechanged\n",
    "mobilenet = tf.keras.applications.mobilenet.MobileNet(input_shape=(224 , 224, 3),\n",
    "                                           include_top=False, \n",
    "                                           weights='imagenet')\n",
    "\n",
    "model = Sequential()\n",
    "model.add(mobilenet)\n",
    "model.add(GlobalAveragePooling2D())\n",
    "model.add(Flatten())\n",
    "model.add(Dense(1024, activation=\"relu\"))\n",
    "model.add(Dense(512, activation=\"relu\"))\n",
    "\n",
    "model.add(Dense(1024, activation=\"relu\"))\n",
    "model.add(Dense(512, activation=\"relu\"))\n",
    "\n",
    "model.add(Dense(1024, activation=\"relu\"))\n",
    "model.add(Dense(512, activation=\"relu\"))\n",
    "\n",
    "\n",
    "\n",
    "model.add(Dense(1, activation=\"sigmoid\" , name=\"classification\"))"
   ]
  },
  {
   "cell_type": "code",
   "execution_count": 41,
   "id": "914747fc",
   "metadata": {},
   "outputs": [
    {
     "name": "stdout",
     "output_type": "stream",
     "text": [
      "Model: \"sequential\"\n",
      "_________________________________________________________________\n",
      " Layer (type)                Output Shape              Param #   \n",
      "=================================================================\n",
      " mobilenet_1.00_224 (Functio  (None, 7, 7, 1024)       3228864   \n",
      " nal)                                                            \n",
      "                                                                 \n",
      " global_average_pooling2d (G  (None, 1024)             0         \n",
      " lobalAveragePooling2D)                                          \n",
      "                                                                 \n",
      " flatten (Flatten)           (None, 1024)              0         \n",
      "                                                                 \n",
      " dense (Dense)               (None, 1024)              1049600   \n",
      "                                                                 \n",
      " dense_1 (Dense)             (None, 512)               524800    \n",
      "                                                                 \n",
      " dense_2 (Dense)             (None, 1024)              525312    \n",
      "                                                                 \n",
      " dense_3 (Dense)             (None, 512)               524800    \n",
      "                                                                 \n",
      " dense_4 (Dense)             (None, 1024)              525312    \n",
      "                                                                 \n",
      " dense_5 (Dense)             (None, 512)               524800    \n",
      "                                                                 \n",
      " classification (Dense)      (None, 1)                 513       \n",
      "                                                                 \n",
      "=================================================================\n",
      "Total params: 6,904,001\n",
      "Trainable params: 6,882,113\n",
      "Non-trainable params: 21,888\n",
      "_________________________________________________________________\n"
     ]
    }
   ],
   "source": [
    "model.compile(optimizer=tf.keras.optimizers.SGD(learning_rate=0.004,momentum=0.9), \n",
    "            loss='BinaryCrossentropy',\n",
    "            metrics = ['accuracy'])\n",
    "\n",
    "model.summary()"
   ]
  },
  {
   "cell_type": "code",
   "execution_count": 42,
   "id": "d2bfc802",
   "metadata": {},
   "outputs": [],
   "source": [
    "es = tf.keras.callbacks.EarlyStopping(monitor='val_loss', patience=3, min_delta = 0.5)"
   ]
  },
  {
   "cell_type": "code",
   "execution_count": 43,
   "id": "292c0bed",
   "metadata": {},
   "outputs": [],
   "source": [
    "class_weight = {0:train_df['humans'].value_counts()[0]/train_df.shape[0],1:train_df['humans'].value_counts()[1]/train_df.shape[0],}"
   ]
  },
  {
   "cell_type": "code",
   "execution_count": 44,
   "id": "08fccb95",
   "metadata": {},
   "outputs": [
    {
     "name": "stdout",
     "output_type": "stream",
     "text": [
      "Epoch 1/10\n"
     ]
    },
    {
     "name": "stderr",
     "output_type": "stream",
     "text": [
      "2022-12-13 12:20:38.384097: W tensorflow/core/platform/profile_utils/cpu_utils.cc:128] Failed to get CPU frequency: 0 Hz\n",
      "2022-12-13 12:20:39.006725: I tensorflow/core/grappler/optimizers/custom_graph_optimizer_registry.cc:113] Plugin optimizer for device_type GPU is enabled.\n"
     ]
    },
    {
     "name": "stdout",
     "output_type": "stream",
     "text": [
      "123/123 [==============================] - ETA: 0s - loss: 0.1590 - accuracy: 0.7771"
     ]
    },
    {
     "name": "stderr",
     "output_type": "stream",
     "text": [
      "2022-12-13 12:22:57.768253: I tensorflow/core/grappler/optimizers/custom_graph_optimizer_registry.cc:113] Plugin optimizer for device_type GPU is enabled.\n"
     ]
    },
    {
     "name": "stdout",
     "output_type": "stream",
     "text": [
      "123/123 [==============================] - 155s 1s/step - loss: 0.1590 - accuracy: 0.7771 - val_loss: 0.3321 - val_accuracy: 0.8415\n",
      "Epoch 2/10\n",
      "123/123 [==============================] - 152s 1s/step - loss: 0.0898 - accuracy: 0.8562 - val_loss: 0.2976 - val_accuracy: 0.8537\n",
      "Epoch 3/10\n",
      "123/123 [==============================] - 156s 1s/step - loss: 0.0733 - accuracy: 0.8721 - val_loss: 0.3355 - val_accuracy: 0.8415\n",
      "Epoch 4/10\n",
      "123/123 [==============================] - 153s 1s/step - loss: 0.0693 - accuracy: 0.8816 - val_loss: 0.3318 - val_accuracy: 0.8323\n"
     ]
    }
   ],
   "source": [
    "history = model.fit(train_generator, validation_data = valid_generator, epochs = 10, class_weight=class_weight,callbacks=[es])\n"
   ]
  },
  {
   "cell_type": "code",
   "execution_count": 45,
   "id": "e7a71320",
   "metadata": {},
   "outputs": [
    {
     "name": "stderr",
     "output_type": "stream",
     "text": [
      "WARNING:absl:Function `_wrapped_model` contains input name(s) mobilenet_1.00_224_input with unsupported characters which will be renamed to mobilenet_1_00_224_input in the SavedModel.\n",
      "WARNING:absl:Found untraced functions such as _jit_compiled_convolution_op, _jit_compiled_convolution_op, _jit_compiled_convolution_op, _jit_compiled_convolution_op, _jit_compiled_convolution_op while saving (showing 5 of 27). These functions will not be directly callable after loading.\n"
     ]
    },
    {
     "name": "stdout",
     "output_type": "stream",
     "text": [
      "INFO:tensorflow:Assets written to: /Users/krish/ljmu/3.results/13122022-parallel-mobile-full_image-category2/13122022-1230-mobilenet+notile+augmentation_10epochs_afo_500X500_category2/assets\n"
     ]
    },
    {
     "name": "stderr",
     "output_type": "stream",
     "text": [
      "INFO:tensorflow:Assets written to: /Users/krish/ljmu/3.results/13122022-parallel-mobile-full_image-category2/13122022-1230-mobilenet+notile+augmentation_10epochs_afo_500X500_category2/assets\n"
     ]
    }
   ],
   "source": [
    "now = datetime.now()\n",
    "date_time = now.strftime(\"%d%m%Y-%H%M\")\n",
    "model_save_dir = result_root+date_time+'-mobilenet+notile+augmentation_10epochs_afo_500X500_category2'\n",
    "model.save(model_save_dir)"
   ]
  },
  {
   "cell_type": "markdown",
   "id": "10dc2710",
   "metadata": {},
   "source": [
    "**I am not sure how I got 75 auc score for model 1. The paper got only 40ish. maybe is it because of any augmentation at all** \n",
    "#### Model3 without any augmentation"
   ]
  },
  {
   "cell_type": "markdown",
   "id": "b0bf40da",
   "metadata": {},
   "source": [
    "## Metrics\n"
   ]
  },
  {
   "cell_type": "code",
   "execution_count": 46,
   "id": "5103a5b7",
   "metadata": {},
   "outputs": [],
   "source": [
    "import multiprocessing\n",
    "from joblib import Parallel, delayed\n",
    "num_cores = multiprocessing.cpu_count()\n",
    "import matplotlib.pyplot as plt"
   ]
  },
  {
   "cell_type": "code",
   "execution_count": 47,
   "id": "56abbca7",
   "metadata": {},
   "outputs": [],
   "source": [
    "# slice_size = 500\n",
    "# newpath = '/Users/krish/ljmu/1.data/afo/tiledv4/test/ts/'\n",
    "\n",
    "# falsepath = '/Users/krish/ljmu/1.data/afo/tiledv4/test/false/'\n",
    "# #creating a new directory called pythondirectory\n",
    "# Path(newpath).mkdir(parents=True, exist_ok=True)\n",
    "# Path(falsepath).mkdir(parents=True, exist_ok=True)\n",
    "\n",
    "# def tiler3(imname):\n",
    "#     im = Image.open(imname)\n",
    "#     imr = np.array(im, dtype=np.uint8)\n",
    "#     height = imr.shape[0]\n",
    "#     width = imr.shape[1]\n",
    "#     labname = imname.split('/')[-1].replace('.jpg', '.txt')\n",
    "#     labels = pd.read_csv(root_path+'2categories/'+labname, sep=' ', names=['class', 'x1', 'y1', 'w', 'h'])\n",
    "#     labels = labels[labels['class']==0] # Only taking into consideration small objects\n",
    "    \n",
    "#     # we need to rescale coordinates from 0-1 to real image height and width\n",
    "#     labels[['x1', 'w']] = labels[['x1', 'w']] * width\n",
    "#     labels[['y1', 'h']] = labels[['y1', 'h']] * height\n",
    "    \n",
    "#     boxes = []\n",
    "#     #print(labels)\n",
    "#     # convert bounding boxes to shapely polygons. We need to invert Y and find polygon vertices from center points\n",
    "#     for row in labels.iterrows():\n",
    "#         x1 = row[1]['x1'] - row[1]['w']/2\n",
    "#         y1 = (height - row[1]['y1']) - row[1]['h']/2\n",
    "#         x2 = row[1]['x1'] + row[1]['w']/2\n",
    "#         y2 = (height - row[1]['y1']) + row[1]['h']/2\n",
    "\n",
    "#         boxes.append((int(row[1]['class']), Polygon([(x1, y1), (x2, y1), (x2, y2), (x1, y2)])))\n",
    "    \n",
    "#     counter = 0\n",
    "#     print('Image:', imname)\n",
    "#     # create tiles and find intersection with bounding boxes for each tile\n",
    "#     fig, axs = plt.subplots((height // slice_size)+int(bool(height%slice_size)),(width // slice_size)+int(bool(width%slice_size)))    \n",
    "#     for i in range((height // slice_size)+int(bool(height%slice_size))):\n",
    "#         for j in range((width // slice_size)+int(bool(width%slice_size))):\n",
    "            \n",
    "#             if (i == (height // slice_size)) and (j != (width//slice_size)):\n",
    "#                 sliced = imr[height - slice_size:height, j*slice_size:(j+1)*slice_size]\n",
    "#                 x1 = width - slice_size\n",
    "#                 y1 = height - (i*slice_size)\n",
    "#                 x2 = width\n",
    "#                 y2 = (height - (i+1)*slice_size) + 1\n",
    "                \n",
    "#             elif (i != (height // slice_size)) and (j == (width//slice_size)):\n",
    "#                 sliced = imr[i*slice_size:(i+1)*slice_size, width - slice_size:width]\n",
    "#                 x1 = j*slice_size\n",
    "#                 y1 = height - (height - slice_size)\n",
    "#                 x2 = ((j+1)*slice_size) - 1\n",
    "#                 y2 = 0\n",
    "                \n",
    "#             elif (i == (height // slice_size)) and (j == (width//slice_size)):\n",
    "#                 sliced = imr[height - slice_size:height, width - slice_size:width]\n",
    "#                 x1 = width - slice_size\n",
    "#                 y1 = height - (height - slice_size)\n",
    "#                 x2 = width\n",
    "#                 y2 = 0\n",
    "            \n",
    "#             elif (i != (height // slice_size)) and (j != (width//slice_size)) :\n",
    "#                 sliced = imr[i*slice_size:(i+1)*slice_size, j*slice_size:(j+1)*slice_size]\n",
    "#                 x1 = j*slice_size\n",
    "#                 y1 = height - (i*slice_size)\n",
    "#                 x2 = ((j+1)*slice_size) - 1\n",
    "#                 y2 = (height - (i+1)*slice_size) + 1\n",
    "            \n",
    "#             pol = Polygon([(x1, y1), (x2, y1), (x2, y2), (x1, y2)])\n",
    "#             imsaved = False\n",
    "#             slice_labels = []\n",
    "            \n",
    "            \n",
    "            \n",
    "#             for box in boxes:\n",
    "#                 if pol.intersects(box[1]):\n",
    "#                     inter = pol.intersection(box[1])        \n",
    "                    \n",
    "#                     if not imsaved:\n",
    "                      \n",
    "#                         sliced_im = Image.fromarray(sliced)\n",
    "#                         filename = imname.split('/')[-1]\n",
    "#                         ##filename = imname\n",
    "#                         slice_path = newpath + filename.replace('.jpg', f'_{i}_{j}.jpg')\n",
    "                        \n",
    "#                         slice_labels_path = newpath + filename.replace('.jpg', f'_{i}_{j}.txt')\n",
    "                        \n",
    "#                         print(slice_path)\n",
    "#                         #print('hi')\n",
    "#                         sliced_im.save(slice_path)\n",
    "#                         imsaved = True                    \n",
    "                    \n",
    "#                     # get the smallest polygon (with sides parallel to the coordinate axes) that contains the intersection\n",
    "#                     new_box = inter.envelope \n",
    "                    \n",
    "#                     # get central point for the new bounding box \n",
    "#                     centre = new_box.centroid\n",
    "                    \n",
    "#                     # get coordinates of polygon vertices\n",
    "#                     x, y = new_box.exterior.coords.xy\n",
    "                    \n",
    "#                     # get bounding box width and height normalized to slice size\n",
    "#                     new_width = (max(x) - min(x)) / slice_size\n",
    "#                     new_height = (max(y) - min(y)) / slice_size\n",
    "                    \n",
    "#                     # we have to normalize central x and invert y for yolo format\n",
    "#                     new_x = (centre.coords.xy[0][0] - x1) / slice_size\n",
    "#                     new_y = (y1 - centre.coords.xy[1][0]) / slice_size\n",
    "                    \n",
    "#                     counter += 1\n",
    "\n",
    "#                     slice_labels.append([box[0], new_x, new_y, new_width, new_height])\n",
    "                    \n",
    "#             if len(slice_labels) > 0:\n",
    "#                 slice_df = pd.DataFrame(slice_labels, columns=['class', 'x1', 'y1', 'w', 'h'])\n",
    "#                 #print(slice_df)\n",
    "#                 slice_df.to_csv(slice_labels_path, sep=' ', index=False, header=False, float_format='%.6f')\n",
    "            \n",
    "#             # if there are no bounding boxes intersect current tile, save this tile to a separate folder \n",
    "#             if not imsaved:\n",
    "#                 sliced = imr[i*slice_size:(i+1)*slice_size, j*slice_size:(j+1)*slice_size]\n",
    "#                 sliced_im = Image.fromarray(sliced)\n",
    "#                 filename = imname.split('/')[-1]\n",
    "#                 #filename = imname\n",
    "#                 slice_path = falsepath + filename.replace('.jpg', f'_{i}_{j}.jpg')                \n",
    "\n",
    "#                 sliced_im.save(slice_path)\n",
    "#                 print('Slice without boxes saved')\n",
    "#                 imsaved = True\n",
    "#     plt.close()"
   ]
  },
  {
   "cell_type": "code",
   "execution_count": 48,
   "id": "da1fd124",
   "metadata": {
    "scrolled": true
   },
   "outputs": [],
   "source": [
    "# # Test data prep\n",
    "# dont run # Long run tume prevents from running by accident\n",
    "\n",
    "# ### Not sure what size should I tile to ..... The images are of better quality, so the objects are much smaller in size\n",
    "# # get all image names\n",
    "# #imnames = glob.glob('/Users/krish/ljmu/1.data/afo/images/*.jpg')\n",
    "# #imnames = glob.glob('/content/drive/MyDrive/ljmu/1.data/swimmers_dataset/krish_train/*.jpg')\n",
    "# # specify path for a new tiled dataset\n",
    "# newpath = '/Users/krish/ljmu/1.data/afo/tiledv3/test/ts/'\n",
    "# #newpath = '/content/drive/MyDrive/ljmu/1.data/sampletiled/ts'\n",
    "# falsepath = '/Users/krish/ljmu/1.data/afo/tiledv3/test/false/'\n",
    "# #falsepath = '/content/drive/MyDrive/ljmu/1.data/sampletiled/false'\n",
    "# # python program to check if a path exists\n",
    "# #if path doesn’t exist we create a new path\n",
    "\n",
    "# #creating a new directory called pythondirectory\n",
    "# Path(newpath).mkdir(parents=True, exist_ok=True)\n",
    "# Path(falsepath).mkdir(parents=True, exist_ok=True)\n",
    "\n",
    "# # specify slice width=height\n",
    "# slice_size = 300\n",
    "\n",
    "# # tile all images in a loop\n",
    "# test_df = pd.read_csv(root_path+'images/test.csv')\n",
    "# for imname in list(test_df['file_name']):\n",
    "#     im = Image.open(imname)\n",
    "#     imr = np.array(im, dtype=np.uint8)\n",
    "#     height = imr.shape[0]\n",
    "#     width = imr.shape[1]\n",
    "#     labname = imname.split('/')[-1].replace('.jpg', '.txt')\n",
    "#     labels = pd.read_csv(root_path+'1category_labels/'+labname, sep=' ', names=['class', 'x1', 'y1', 'w', 'h'])\n",
    "    \n",
    "#     # we need to rescale coordinates from 0-1 to real image height and width\n",
    "#     labels[['x1', 'w']] = labels[['x1', 'w']] * width\n",
    "#     labels[['y1', 'h']] = labels[['y1', 'h']] * height\n",
    "    \n",
    "#     boxes = []\n",
    "#     #print(labels)\n",
    "#     # convert bounding boxes to shapely polygons. We need to invert Y and find polygon vertices from center points\n",
    "#     for row in labels.iterrows():\n",
    "#         x1 = row[1]['x1'] - row[1]['w']/2\n",
    "#         y1 = (height - row[1]['y1']) - row[1]['h']/2\n",
    "#         x2 = row[1]['x1'] + row[1]['w']/2\n",
    "#         y2 = (height - row[1]['y1']) + row[1]['h']/2\n",
    "\n",
    "#         boxes.append((int(row[1]['class']), Polygon([(x1, y1), (x2, y1), (x2, y2), (x1, y2)])))\n",
    "    \n",
    "#     counter = 0\n",
    "#     print('Image:', imname)\n",
    "#     # create tiles and find intersection with bounding boxes for each tile\n",
    "#     for i in range((height // slice_size)):\n",
    "#         for j in range((width // slice_size)):\n",
    "#             x1 = j*slice_size\n",
    "#             y1 = height - (i*slice_size)\n",
    "#             x2 = ((j+1)*slice_size) - 1\n",
    "#             y2 = (height - (i+1)*slice_size) + 1\n",
    "\n",
    "#             pol = Polygon([(x1, y1), (x2, y1), (x2, y2), (x1, y2)])\n",
    "#             imsaved = False\n",
    "#             slice_labels = []\n",
    "\n",
    "#             for box in boxes:\n",
    "#                 if pol.intersects(box[1]):\n",
    "#                     inter = pol.intersection(box[1])        \n",
    "                    \n",
    "#                     if not imsaved:\n",
    "#                         sliced = imr[i*slice_size:(i+1)*slice_size, j*slice_size:(j+1)*slice_size]\n",
    "#                         sliced_im = Image.fromarray(sliced)\n",
    "#                         filename = imname.split('/')[-1]\n",
    "#                         ##filename = imname\n",
    "#                         slice_path = newpath + filename.replace('.jpg', f'_{i}_{j}.jpg')\n",
    "                        \n",
    "#                         slice_labels_path = newpath + filename.replace('.jpg', f'_{i}_{j}.txt')\n",
    "                        \n",
    "#                         print(slice_path)\n",
    "#                         #print('hi')\n",
    "#                         sliced_im.save(slice_path)\n",
    "#                         imsaved = True                    \n",
    "                    \n",
    "#                     # get the smallest polygon (with sides parallel to the coordinate axes) that contains the intersection\n",
    "#                     new_box = inter.envelope \n",
    "                    \n",
    "#                     # get central point for the new bounding box \n",
    "#                     centre = new_box.centroid\n",
    "                    \n",
    "#                     # get coordinates of polygon vertices\n",
    "#                     x, y = new_box.exterior.coords.xy\n",
    "                    \n",
    "#                     # get bounding box width and height normalized to slice size\n",
    "#                     new_width = (max(x) - min(x)) / slice_size\n",
    "#                     new_height = (max(y) - min(y)) / slice_size\n",
    "                    \n",
    "#                     # we have to normalize central x and invert y for yolo format\n",
    "#                     new_x = (centre.coords.xy[0][0] - x1) / slice_size\n",
    "#                     new_y = (y1 - centre.coords.xy[1][0]) / slice_size\n",
    "                    \n",
    "#                     counter += 1\n",
    "\n",
    "#                     slice_labels.append([box[0], new_x, new_y, new_width, new_height])\n",
    "            \n",
    "#             # save txt with labels for the current tile\n",
    "#             if len(slice_labels) > 0:\n",
    "#                 slice_df = pd.DataFrame(slice_labels, columns=['class', 'x1', 'y1', 'w', 'h'])\n",
    "#                 #print(slice_df)\n",
    "#                 slice_df.to_csv(slice_labels_path, sep=' ', index=False, header=False, float_format='%.6f')\n",
    "            \n",
    "#             # if there are no bounding boxes intersect current tile, save this tile to a separate folder \n",
    "#             if not imsaved:\n",
    "#                 sliced = imr[i*slice_size:(i+1)*slice_size, j*slice_size:(j+1)*slice_size]\n",
    "#                 sliced_im = Image.fromarray(sliced)\n",
    "#                 filename = imname.split('/')[-1]\n",
    "#                 #filename = imname\n",
    "#                 slice_path = falsepath + filename.replace('.jpg', f'_{i}_{j}.jpg')                \n",
    "\n",
    "#                 sliced_im.save(slice_path)\n",
    "#                 #print('Slice without boxes saved')\n",
    "#                 imsaved = True\n",
    "# #     if counter == 100:\n",
    "# #         break"
   ]
  },
  {
   "cell_type": "code",
   "execution_count": null,
   "id": "25995c46",
   "metadata": {},
   "outputs": [],
   "source": []
  },
  {
   "cell_type": "code",
   "execution_count": 49,
   "id": "80d53007",
   "metadata": {},
   "outputs": [],
   "source": [
    "# %%time\n",
    "# #dont run\n",
    "# test_df = pd.read_csv(root_path+'images/test.csv')\n",
    "# Parallel(n_jobs=num_cores)(delayed(tiler3)(imname) for imname in list(test_df['file_name']))"
   ]
  },
  {
   "cell_type": "code",
   "execution_count": 64,
   "id": "7f0d984c",
   "metadata": {},
   "outputs": [],
   "source": [
    "# df_true = pd.DataFrame(columns = ['file_name','humans'])\n",
    "# df_false = pd.DataFrame(columns = ['file_name','humans'])\n",
    "\n",
    "# df_true['file_name'] = glob.glob(r'/Users/krish/ljmu/1.data/afo/tiledv4/test/ts/*.jpg')\n",
    "# df_true['humans'] = 1\n",
    "\n",
    "# df_false['file_name'] = glob.glob(r'/Users/krish/ljmu/1.data/afo/tiledv4/test/false/*.jpg')\n",
    "# df_false['humans'] = 0\n",
    "\n",
    "# tiled_test = df_true.append(df_false)\n",
    "\n",
    "test_df['humans'] = test_df['humans'].apply(lambda x: str(x))\n",
    "\n",
    "IMG_SIZE = 224\n",
    "\n",
    "resize_and_rescale = tf.keras.Sequential([layers.Resizing(IMG_SIZE, IMG_SIZE),layers.Rescaling(1./255)])\n",
    "\n",
    "model = tf.keras.models.load_model(model_save_dir)\n",
    "\n",
    "\n",
    "def predicter(file_path):\n",
    "    \n",
    "    #print(file_path)\n",
    "    im = Image.open(file_path)\n",
    "    test_input = np.array(im, dtype=np.uint8)\n",
    "    if len(test_input.shape) == 3:\n",
    "        test_input = resize_and_rescale(test_input)\n",
    "        out = model(tf.reshape(test_input,(1,224,224,3)))\n",
    "\n",
    "        return np.array(out)[0][0] \n",
    "    else:\n",
    "        return 'out_of_shape'\n",
    "    \n",
    "#"
   ]
  },
  {
   "cell_type": "code",
   "execution_count": 65,
   "id": "9a1f457b",
   "metadata": {},
   "outputs": [],
   "source": [
    "# https://stackoverflow.com/questions/45545110/make-pandas-dataframe-apply-use-all-cores\n",
    "import swifter"
   ]
  },
  {
   "cell_type": "code",
   "execution_count": 66,
   "id": "97f17898",
   "metadata": {},
   "outputs": [
    {
     "name": "stdout",
     "output_type": "stream",
     "text": [
      "Metal device set to: Apple M1\n",
      "Metal device set to: Apple M1\n",
      "Metal device set to: Apple M1\n"
     ]
    },
    {
     "name": "stderr",
     "output_type": "stream",
     "text": [
      "2022-12-13 21:27:51.700018: I tensorflow/core/common_runtime/pluggable_device/pluggable_device_factory.cc:305] Could not identify NUMA node of platform GPU ID 0, defaulting to 0. Your kernel may not have been built with NUMA support.\n",
      "2022-12-13 21:27:51.700018: I tensorflow/core/common_runtime/pluggable_device/pluggable_device_factory.cc:305] Could not identify NUMA node of platform GPU ID 0, defaulting to 0. Your kernel may not have been built with NUMA support.\n",
      "2022-12-13 21:27:51.700019: I tensorflow/core/common_runtime/pluggable_device/pluggable_device_factory.cc:305] Could not identify NUMA node of platform GPU ID 0, defaulting to 0. Your kernel may not have been built with NUMA support.\n",
      "2022-12-13 21:27:51.700219: I tensorflow/core/common_runtime/pluggable_device/pluggable_device_factory.cc:271] Created TensorFlow device (/job:localhost/replica:0/task:0/device:GPU:0 with 0 MB memory) -> physical PluggableDevice (device: 0, name: METAL, pci bus id: <undefined>)\n",
      "2022-12-13 21:27:51.700268: I tensorflow/core/common_runtime/pluggable_device/pluggable_device_factory.cc:271] Created TensorFlow device (/job:localhost/replica:0/task:0/device:GPU:0 with 0 MB memory) -> physical PluggableDevice (device: 0, name: METAL, pci bus id: <undefined>)\n",
      "2022-12-13 21:27:51.700288: I tensorflow/core/common_runtime/pluggable_device/pluggable_device_factory.cc:271] Created TensorFlow device (/job:localhost/replica:0/task:0/device:GPU:0 with 0 MB memory) -> physical PluggableDevice (device: 0, name: METAL, pci bus id: <undefined>)\n",
      "WARNING:tensorflow:No training configuration found in save file, so the model was *not* compiled. Compile it manually.\n",
      "WARNING:tensorflow:No training configuration found in save file, so the model was *not* compiled. Compile it manually.\n",
      "WARNING:tensorflow:No training configuration found in save file, so the model was *not* compiled. Compile it manually.\n",
      "WARNING:tensorflow:No training configuration found in save file, so the model was *not* compiled. Compile it manually.\n",
      "WARNING:tensorflow:No training configuration found in save file, so the model was *not* compiled. Compile it manually.\n",
      "WARNING:tensorflow:No training configuration found in save file, so the model was *not* compiled. Compile it manually.\n",
      "WARNING:tensorflow:No training configuration found in save file, so the model was *not* compiled. Compile it manually.\n",
      "WARNING:tensorflow:No training configuration found in save file, so the model was *not* compiled. Compile it manually.\n",
      "WARNING:tensorflow:No training configuration found in save file, so the model was *not* compiled. Compile it manually.\n",
      "WARNING:tensorflow:No training configuration found in save file, so the model was *not* compiled. Compile it manually.\n",
      "WARNING:tensorflow:No training configuration found in save file, so the model was *not* compiled. Compile it manually.\n",
      "WARNING:tensorflow:No training configuration found in save file, so the model was *not* compiled. Compile it manually.\n",
      "WARNING:tensorflow:No training configuration found in save file, so the model was *not* compiled. Compile it manually.\n",
      "WARNING:tensorflow:No training configuration found in save file, so the model was *not* compiled. Compile it manually.\n",
      "WARNING:tensorflow:No training configuration found in save file, so the model was *not* compiled. Compile it manually.\n"
     ]
    },
    {
     "name": "stdout",
     "output_type": "stream",
     "text": [
      "\n",
      "systemMemory: 8.00 GB\n",
      "maxCacheSize: 2.67 GB\n",
      "\n",
      "\n",
      "systemMemory: 8.00 GB\n",
      "maxCacheSize: 2.67 GB\n",
      "\n",
      "\n",
      "systemMemory: 8.00 GB\n",
      "maxCacheSize: 2.67 GB\n",
      "\n",
      "WARNING:tensorflow:Compiled the loaded model, but the compiled metrics have yet to be built. `model.compile_metrics` will be empty until you train or evaluate the model.\n"
     ]
    },
    {
     "name": "stderr",
     "output_type": "stream",
     "text": [
      "WARNING:tensorflow:Compiled the loaded model, but the compiled metrics have yet to be built. `model.compile_metrics` will be empty until you train or evaluate the model.\n"
     ]
    },
    {
     "name": "stdout",
     "output_type": "stream",
     "text": [
      "INFO:tensorflow:Assets written to: ram://93e7a1c9-aadb-415d-83bf-d023bec723a6/assets\n"
     ]
    },
    {
     "name": "stderr",
     "output_type": "stream",
     "text": [
      "INFO:tensorflow:Assets written to: ram://93e7a1c9-aadb-415d-83bf-d023bec723a6/assets\n",
      "WARNING:absl:Function `_wrapped_model` contains input name(s) mobilenet_1.00_224_input with unsupported characters which will be renamed to mobilenet_1_00_224_input in the SavedModel.\n",
      "WARNING:absl:Found untraced functions such as _jit_compiled_convolution_op, _jit_compiled_convolution_op, _jit_compiled_convolution_op, _jit_compiled_convolution_op, _jit_compiled_convolution_op while saving (showing 5 of 27). These functions will not be directly callable after loading.\n"
     ]
    },
    {
     "name": "stdout",
     "output_type": "stream",
     "text": [
      "INFO:tensorflow:Assets written to: ram://995d4995-c939-456e-be0a-e50b7187fc83/assets\n"
     ]
    },
    {
     "name": "stderr",
     "output_type": "stream",
     "text": [
      "INFO:tensorflow:Assets written to: ram://995d4995-c939-456e-be0a-e50b7187fc83/assets\n"
     ]
    },
    {
     "data": {
      "application/vnd.jupyter.widget-view+json": {
       "model_id": "50daaa8e48574e34a548bf179c3a97e6",
       "version_major": 2,
       "version_minor": 0
      },
      "text/plain": [
       "Dask Apply:   0%|          | 0/16 [00:00<?, ?it/s]"
      ]
     },
     "metadata": {},
     "output_type": "display_data"
    },
    {
     "name": "stdout",
     "output_type": "stream",
     "text": [
      "WARNING:tensorflow:Compiled the loaded model, but the compiled metrics have yet to be built. `model.compile_metrics` will be empty until you train or evaluate the model.\n"
     ]
    },
    {
     "name": "stderr",
     "output_type": "stream",
     "text": [
      "WARNING:tensorflow:Compiled the loaded model, but the compiled metrics have yet to be built. `model.compile_metrics` will be empty until you train or evaluate the model.\n"
     ]
    },
    {
     "name": "stdout",
     "output_type": "stream",
     "text": [
      "INFO:tensorflow:Assets written to: ram://46bbcc91-ab66-4701-b0a2-c8b7afab2b1e/assets\n"
     ]
    },
    {
     "name": "stderr",
     "output_type": "stream",
     "text": [
      "INFO:tensorflow:Assets written to: ram://46bbcc91-ab66-4701-b0a2-c8b7afab2b1e/assets\n",
      "WARNING:absl:Function `_wrapped_model` contains input name(s) mobilenet_1.00_224_input with unsupported characters which will be renamed to mobilenet_1_00_224_input in the SavedModel.\n",
      "WARNING:absl:Found untraced functions such as _jit_compiled_convolution_op, _jit_compiled_convolution_op, _jit_compiled_convolution_op, _jit_compiled_convolution_op, _jit_compiled_convolution_op while saving (showing 5 of 27). These functions will not be directly callable after loading.\n"
     ]
    },
    {
     "name": "stdout",
     "output_type": "stream",
     "text": [
      "INFO:tensorflow:Assets written to: ram://3ea926c9-db88-4dfd-a4a7-54c729f1abc5/assets\n"
     ]
    },
    {
     "name": "stderr",
     "output_type": "stream",
     "text": [
      "INFO:tensorflow:Assets written to: ram://3ea926c9-db88-4dfd-a4a7-54c729f1abc5/assets\n"
     ]
    },
    {
     "name": "stdout",
     "output_type": "stream",
     "text": [
      "WARNING:tensorflow:Compiled the loaded model, but the compiled metrics have yet to be built. `model.compile_metrics` will be empty until you train or evaluate the model.\n"
     ]
    },
    {
     "name": "stderr",
     "output_type": "stream",
     "text": [
      "WARNING:tensorflow:Compiled the loaded model, but the compiled metrics have yet to be built. `model.compile_metrics` will be empty until you train or evaluate the model.\n"
     ]
    },
    {
     "name": "stdout",
     "output_type": "stream",
     "text": [
      "INFO:tensorflow:Assets written to: ram://d0753fba-1dfb-41cb-a642-49e2330f92b1/assets\n"
     ]
    },
    {
     "name": "stderr",
     "output_type": "stream",
     "text": [
      "INFO:tensorflow:Assets written to: ram://d0753fba-1dfb-41cb-a642-49e2330f92b1/assets\n",
      "WARNING:absl:Function `_wrapped_model` contains input name(s) mobilenet_1.00_224_input with unsupported characters which will be renamed to mobilenet_1_00_224_input in the SavedModel.\n",
      "WARNING:absl:Found untraced functions such as _jit_compiled_convolution_op, _jit_compiled_convolution_op, _jit_compiled_convolution_op, _jit_compiled_convolution_op, _jit_compiled_convolution_op while saving (showing 5 of 27). These functions will not be directly callable after loading.\n"
     ]
    },
    {
     "name": "stdout",
     "output_type": "stream",
     "text": [
      "INFO:tensorflow:Assets written to: ram://f47fcf81-85c6-4d77-ae4a-48ef66356c3b/assets\n"
     ]
    },
    {
     "name": "stderr",
     "output_type": "stream",
     "text": [
      "INFO:tensorflow:Assets written to: ram://f47fcf81-85c6-4d77-ae4a-48ef66356c3b/assets\n"
     ]
    },
    {
     "name": "stdout",
     "output_type": "stream",
     "text": [
      "WARNING:tensorflow:Compiled the loaded model, but the compiled metrics have yet to be built. `model.compile_metrics` will be empty until you train or evaluate the model.\n"
     ]
    },
    {
     "name": "stderr",
     "output_type": "stream",
     "text": [
      "WARNING:tensorflow:Compiled the loaded model, but the compiled metrics have yet to be built. `model.compile_metrics` will be empty until you train or evaluate the model.\n"
     ]
    },
    {
     "name": "stdout",
     "output_type": "stream",
     "text": [
      "INFO:tensorflow:Assets written to: ram://8ef9652b-3f4d-4111-b440-0e9525b44974/assets\n"
     ]
    },
    {
     "name": "stderr",
     "output_type": "stream",
     "text": [
      "INFO:tensorflow:Assets written to: ram://8ef9652b-3f4d-4111-b440-0e9525b44974/assets\n",
      "WARNING:absl:Function `_wrapped_model` contains input name(s) mobilenet_1.00_224_input with unsupported characters which will be renamed to mobilenet_1_00_224_input in the SavedModel.\n",
      "WARNING:absl:Found untraced functions such as _jit_compiled_convolution_op, _jit_compiled_convolution_op, _jit_compiled_convolution_op, _jit_compiled_convolution_op, _jit_compiled_convolution_op while saving (showing 5 of 27). These functions will not be directly callable after loading.\n"
     ]
    },
    {
     "name": "stdout",
     "output_type": "stream",
     "text": [
      "INFO:tensorflow:Assets written to: ram://96799968-94d5-4003-8426-d21aa4a8afec/assets\n"
     ]
    },
    {
     "name": "stderr",
     "output_type": "stream",
     "text": [
      "INFO:tensorflow:Assets written to: ram://96799968-94d5-4003-8426-d21aa4a8afec/assets\n"
     ]
    },
    {
     "name": "stdout",
     "output_type": "stream",
     "text": [
      "WARNING:tensorflow:Compiled the loaded model, but the compiled metrics have yet to be built. `model.compile_metrics` will be empty until you train or evaluate the model.\n"
     ]
    },
    {
     "name": "stderr",
     "output_type": "stream",
     "text": [
      "WARNING:tensorflow:Compiled the loaded model, but the compiled metrics have yet to be built. `model.compile_metrics` will be empty until you train or evaluate the model.\n"
     ]
    },
    {
     "name": "stdout",
     "output_type": "stream",
     "text": [
      "INFO:tensorflow:Assets written to: ram://df492dd0-0e9a-486f-aa2f-27196a11ea97/assets\n"
     ]
    },
    {
     "name": "stderr",
     "output_type": "stream",
     "text": [
      "INFO:tensorflow:Assets written to: ram://df492dd0-0e9a-486f-aa2f-27196a11ea97/assets\n",
      "WARNING:absl:Function `_wrapped_model` contains input name(s) mobilenet_1.00_224_input with unsupported characters which will be renamed to mobilenet_1_00_224_input in the SavedModel.\n",
      "WARNING:absl:Found untraced functions such as _jit_compiled_convolution_op, _jit_compiled_convolution_op, _jit_compiled_convolution_op, _jit_compiled_convolution_op, _jit_compiled_convolution_op while saving (showing 5 of 27). These functions will not be directly callable after loading.\n"
     ]
    },
    {
     "name": "stdout",
     "output_type": "stream",
     "text": [
      "INFO:tensorflow:Assets written to: ram://cdb60295-34ef-4594-8f3a-a6a1b03408f9/assets\n"
     ]
    },
    {
     "name": "stderr",
     "output_type": "stream",
     "text": [
      "INFO:tensorflow:Assets written to: ram://cdb60295-34ef-4594-8f3a-a6a1b03408f9/assets\n"
     ]
    },
    {
     "name": "stdout",
     "output_type": "stream",
     "text": [
      "WARNING:tensorflow:Compiled the loaded model, but the compiled metrics have yet to be built. `model.compile_metrics` will be empty until you train or evaluate the model.\n"
     ]
    },
    {
     "name": "stderr",
     "output_type": "stream",
     "text": [
      "WARNING:tensorflow:Compiled the loaded model, but the compiled metrics have yet to be built. `model.compile_metrics` will be empty until you train or evaluate the model.\n"
     ]
    },
    {
     "name": "stdout",
     "output_type": "stream",
     "text": [
      "INFO:tensorflow:Assets written to: ram://78e24d22-d010-4b09-a0e7-33a1599e3356/assets\n"
     ]
    },
    {
     "name": "stderr",
     "output_type": "stream",
     "text": [
      "INFO:tensorflow:Assets written to: ram://78e24d22-d010-4b09-a0e7-33a1599e3356/assets\n",
      "WARNING:absl:Function `_wrapped_model` contains input name(s) mobilenet_1.00_224_input with unsupported characters which will be renamed to mobilenet_1_00_224_input in the SavedModel.\n",
      "WARNING:absl:Found untraced functions such as _jit_compiled_convolution_op, _jit_compiled_convolution_op, _jit_compiled_convolution_op, _jit_compiled_convolution_op, _jit_compiled_convolution_op while saving (showing 5 of 27). These functions will not be directly callable after loading.\n"
     ]
    },
    {
     "name": "stdout",
     "output_type": "stream",
     "text": [
      "INFO:tensorflow:Assets written to: ram://c6c157d3-15d5-4724-ad9e-b7c777254762/assets\n"
     ]
    },
    {
     "name": "stderr",
     "output_type": "stream",
     "text": [
      "INFO:tensorflow:Assets written to: ram://c6c157d3-15d5-4724-ad9e-b7c777254762/assets\n"
     ]
    },
    {
     "name": "stdout",
     "output_type": "stream",
     "text": [
      "WARNING:tensorflow:Compiled the loaded model, but the compiled metrics have yet to be built. `model.compile_metrics` will be empty until you train or evaluate the model.\n"
     ]
    },
    {
     "name": "stderr",
     "output_type": "stream",
     "text": [
      "WARNING:tensorflow:Compiled the loaded model, but the compiled metrics have yet to be built. `model.compile_metrics` will be empty until you train or evaluate the model.\n"
     ]
    },
    {
     "name": "stdout",
     "output_type": "stream",
     "text": [
      "INFO:tensorflow:Assets written to: ram://6a69bf77-78e1-43f2-a64e-9c69d664a807/assets\n"
     ]
    },
    {
     "name": "stderr",
     "output_type": "stream",
     "text": [
      "INFO:tensorflow:Assets written to: ram://6a69bf77-78e1-43f2-a64e-9c69d664a807/assets\n",
      "WARNING:absl:Function `_wrapped_model` contains input name(s) mobilenet_1.00_224_input with unsupported characters which will be renamed to mobilenet_1_00_224_input in the SavedModel.\n",
      "WARNING:absl:Found untraced functions such as _jit_compiled_convolution_op, _jit_compiled_convolution_op, _jit_compiled_convolution_op, _jit_compiled_convolution_op, _jit_compiled_convolution_op while saving (showing 5 of 27). These functions will not be directly callable after loading.\n"
     ]
    },
    {
     "name": "stdout",
     "output_type": "stream",
     "text": [
      "INFO:tensorflow:Assets written to: ram://87936337-2f36-47db-9bad-7edb7a2c31bf/assets\n"
     ]
    },
    {
     "name": "stderr",
     "output_type": "stream",
     "text": [
      "INFO:tensorflow:Assets written to: ram://87936337-2f36-47db-9bad-7edb7a2c31bf/assets\n"
     ]
    },
    {
     "name": "stdout",
     "output_type": "stream",
     "text": [
      "WARNING:tensorflow:Compiled the loaded model, but the compiled metrics have yet to be built. `model.compile_metrics` will be empty until you train or evaluate the model.\n"
     ]
    },
    {
     "name": "stderr",
     "output_type": "stream",
     "text": [
      "WARNING:tensorflow:Compiled the loaded model, but the compiled metrics have yet to be built. `model.compile_metrics` will be empty until you train or evaluate the model.\n"
     ]
    },
    {
     "name": "stdout",
     "output_type": "stream",
     "text": [
      "INFO:tensorflow:Assets written to: ram://dd8d202c-e5fb-4d78-8e80-60ff226379a7/assets\n"
     ]
    },
    {
     "name": "stderr",
     "output_type": "stream",
     "text": [
      "INFO:tensorflow:Assets written to: ram://dd8d202c-e5fb-4d78-8e80-60ff226379a7/assets\n",
      "WARNING:absl:Function `_wrapped_model` contains input name(s) mobilenet_1.00_224_input with unsupported characters which will be renamed to mobilenet_1_00_224_input in the SavedModel.\n",
      "WARNING:absl:Found untraced functions such as _jit_compiled_convolution_op, _jit_compiled_convolution_op, _jit_compiled_convolution_op, _jit_compiled_convolution_op, _jit_compiled_convolution_op while saving (showing 5 of 27). These functions will not be directly callable after loading.\n"
     ]
    },
    {
     "name": "stdout",
     "output_type": "stream",
     "text": [
      "INFO:tensorflow:Assets written to: ram://f9945ad8-3ba9-4a6e-a9b4-23e9a0723c3e/assets\n"
     ]
    },
    {
     "name": "stderr",
     "output_type": "stream",
     "text": [
      "INFO:tensorflow:Assets written to: ram://f9945ad8-3ba9-4a6e-a9b4-23e9a0723c3e/assets\n"
     ]
    },
    {
     "name": "stdout",
     "output_type": "stream",
     "text": [
      "WARNING:tensorflow:Compiled the loaded model, but the compiled metrics have yet to be built. `model.compile_metrics` will be empty until you train or evaluate the model.\n"
     ]
    },
    {
     "name": "stderr",
     "output_type": "stream",
     "text": [
      "WARNING:tensorflow:Compiled the loaded model, but the compiled metrics have yet to be built. `model.compile_metrics` will be empty until you train or evaluate the model.\n"
     ]
    },
    {
     "name": "stdout",
     "output_type": "stream",
     "text": [
      "INFO:tensorflow:Assets written to: ram://70a1b82a-aba9-4c43-af2b-ac12f471a7d4/assets\n"
     ]
    },
    {
     "name": "stderr",
     "output_type": "stream",
     "text": [
      "INFO:tensorflow:Assets written to: ram://70a1b82a-aba9-4c43-af2b-ac12f471a7d4/assets\n",
      "WARNING:absl:Function `_wrapped_model` contains input name(s) mobilenet_1.00_224_input with unsupported characters which will be renamed to mobilenet_1_00_224_input in the SavedModel.\n",
      "WARNING:absl:Found untraced functions such as _jit_compiled_convolution_op, _jit_compiled_convolution_op, _jit_compiled_convolution_op, _jit_compiled_convolution_op, _jit_compiled_convolution_op while saving (showing 5 of 27). These functions will not be directly callable after loading.\n"
     ]
    },
    {
     "name": "stdout",
     "output_type": "stream",
     "text": [
      "INFO:tensorflow:Assets written to: ram://772a8371-a350-4011-8929-e101d7a6b050/assets\n"
     ]
    },
    {
     "name": "stderr",
     "output_type": "stream",
     "text": [
      "INFO:tensorflow:Assets written to: ram://772a8371-a350-4011-8929-e101d7a6b050/assets\n"
     ]
    },
    {
     "name": "stdout",
     "output_type": "stream",
     "text": [
      "WARNING:tensorflow:Compiled the loaded model, but the compiled metrics have yet to be built. `model.compile_metrics` will be empty until you train or evaluate the model.\n"
     ]
    },
    {
     "name": "stderr",
     "output_type": "stream",
     "text": [
      "WARNING:tensorflow:Compiled the loaded model, but the compiled metrics have yet to be built. `model.compile_metrics` will be empty until you train or evaluate the model.\n"
     ]
    },
    {
     "name": "stdout",
     "output_type": "stream",
     "text": [
      "INFO:tensorflow:Assets written to: ram://a8b4a723-a4c1-417d-971f-ce766001be2e/assets\n"
     ]
    },
    {
     "name": "stderr",
     "output_type": "stream",
     "text": [
      "INFO:tensorflow:Assets written to: ram://a8b4a723-a4c1-417d-971f-ce766001be2e/assets\n",
      "WARNING:absl:Function `_wrapped_model` contains input name(s) mobilenet_1.00_224_input with unsupported characters which will be renamed to mobilenet_1_00_224_input in the SavedModel.\n",
      "WARNING:absl:Found untraced functions such as _jit_compiled_convolution_op, _jit_compiled_convolution_op, _jit_compiled_convolution_op, _jit_compiled_convolution_op, _jit_compiled_convolution_op while saving (showing 5 of 27). These functions will not be directly callable after loading.\n"
     ]
    },
    {
     "name": "stdout",
     "output_type": "stream",
     "text": [
      "INFO:tensorflow:Assets written to: ram://eda80f21-a1b1-45cc-92d1-028bed77712e/assets\n"
     ]
    },
    {
     "name": "stderr",
     "output_type": "stream",
     "text": [
      "INFO:tensorflow:Assets written to: ram://eda80f21-a1b1-45cc-92d1-028bed77712e/assets\n"
     ]
    },
    {
     "name": "stdout",
     "output_type": "stream",
     "text": [
      "WARNING:tensorflow:Compiled the loaded model, but the compiled metrics have yet to be built. `model.compile_metrics` will be empty until you train or evaluate the model.\n"
     ]
    },
    {
     "name": "stderr",
     "output_type": "stream",
     "text": [
      "WARNING:tensorflow:Compiled the loaded model, but the compiled metrics have yet to be built. `model.compile_metrics` will be empty until you train or evaluate the model.\n"
     ]
    },
    {
     "name": "stdout",
     "output_type": "stream",
     "text": [
      "INFO:tensorflow:Assets written to: ram://5ce159bb-3463-4cc7-b19b-d10fae78a250/assets\n"
     ]
    },
    {
     "name": "stderr",
     "output_type": "stream",
     "text": [
      "INFO:tensorflow:Assets written to: ram://5ce159bb-3463-4cc7-b19b-d10fae78a250/assets\n",
      "WARNING:absl:Function `_wrapped_model` contains input name(s) mobilenet_1.00_224_input with unsupported characters which will be renamed to mobilenet_1_00_224_input in the SavedModel.\n",
      "WARNING:absl:Found untraced functions such as _jit_compiled_convolution_op, _jit_compiled_convolution_op, _jit_compiled_convolution_op, _jit_compiled_convolution_op, _jit_compiled_convolution_op while saving (showing 5 of 27). These functions will not be directly callable after loading.\n"
     ]
    },
    {
     "name": "stdout",
     "output_type": "stream",
     "text": [
      "INFO:tensorflow:Assets written to: ram://0c994deb-05e8-455d-876c-72d5c2eaa61b/assets\n"
     ]
    },
    {
     "name": "stderr",
     "output_type": "stream",
     "text": [
      "INFO:tensorflow:Assets written to: ram://0c994deb-05e8-455d-876c-72d5c2eaa61b/assets\n"
     ]
    },
    {
     "name": "stdout",
     "output_type": "stream",
     "text": [
      "WARNING:tensorflow:Compiled the loaded model, but the compiled metrics have yet to be built. `model.compile_metrics` will be empty until you train or evaluate the model.\n"
     ]
    },
    {
     "name": "stderr",
     "output_type": "stream",
     "text": [
      "WARNING:tensorflow:Compiled the loaded model, but the compiled metrics have yet to be built. `model.compile_metrics` will be empty until you train or evaluate the model.\n"
     ]
    },
    {
     "name": "stdout",
     "output_type": "stream",
     "text": [
      "INFO:tensorflow:Assets written to: ram://300f5e76-4695-4af9-b149-2cfb7945ca8d/assets\n"
     ]
    },
    {
     "name": "stderr",
     "output_type": "stream",
     "text": [
      "INFO:tensorflow:Assets written to: ram://300f5e76-4695-4af9-b149-2cfb7945ca8d/assets\n",
      "WARNING:absl:Function `_wrapped_model` contains input name(s) mobilenet_1.00_224_input with unsupported characters which will be renamed to mobilenet_1_00_224_input in the SavedModel.\n",
      "WARNING:absl:Found untraced functions such as _jit_compiled_convolution_op, _jit_compiled_convolution_op, _jit_compiled_convolution_op, _jit_compiled_convolution_op, _jit_compiled_convolution_op while saving (showing 5 of 27). These functions will not be directly callable after loading.\n"
     ]
    },
    {
     "name": "stdout",
     "output_type": "stream",
     "text": [
      "INFO:tensorflow:Assets written to: ram://4e5b7470-6256-4c23-878b-956f4119b0f5/assets\n"
     ]
    },
    {
     "name": "stderr",
     "output_type": "stream",
     "text": [
      "INFO:tensorflow:Assets written to: ram://4e5b7470-6256-4c23-878b-956f4119b0f5/assets\n"
     ]
    },
    {
     "name": "stdout",
     "output_type": "stream",
     "text": [
      "WARNING:tensorflow:Compiled the loaded model, but the compiled metrics have yet to be built. `model.compile_metrics` will be empty until you train or evaluate the model.\n"
     ]
    },
    {
     "name": "stderr",
     "output_type": "stream",
     "text": [
      "WARNING:tensorflow:Compiled the loaded model, but the compiled metrics have yet to be built. `model.compile_metrics` will be empty until you train or evaluate the model.\n"
     ]
    },
    {
     "name": "stdout",
     "output_type": "stream",
     "text": [
      "INFO:tensorflow:Assets written to: ram://6cc5f3b0-5413-4f9c-87de-75f3f5dd35ae/assets\n"
     ]
    },
    {
     "name": "stderr",
     "output_type": "stream",
     "text": [
      "INFO:tensorflow:Assets written to: ram://6cc5f3b0-5413-4f9c-87de-75f3f5dd35ae/assets\n",
      "WARNING:absl:Function `_wrapped_model` contains input name(s) mobilenet_1.00_224_input with unsupported characters which will be renamed to mobilenet_1_00_224_input in the SavedModel.\n",
      "WARNING:absl:Found untraced functions such as _jit_compiled_convolution_op, _jit_compiled_convolution_op, _jit_compiled_convolution_op, _jit_compiled_convolution_op, _jit_compiled_convolution_op while saving (showing 5 of 27). These functions will not be directly callable after loading.\n"
     ]
    },
    {
     "name": "stdout",
     "output_type": "stream",
     "text": [
      "INFO:tensorflow:Assets written to: ram://e4b8f2aa-bdfc-471f-b97d-d47fa54448b2/assets\n"
     ]
    },
    {
     "name": "stderr",
     "output_type": "stream",
     "text": [
      "INFO:tensorflow:Assets written to: ram://e4b8f2aa-bdfc-471f-b97d-d47fa54448b2/assets\n"
     ]
    },
    {
     "name": "stdout",
     "output_type": "stream",
     "text": [
      "WARNING:tensorflow:Compiled the loaded model, but the compiled metrics have yet to be built. `model.compile_metrics` will be empty until you train or evaluate the model.\n"
     ]
    },
    {
     "name": "stderr",
     "output_type": "stream",
     "text": [
      "WARNING:tensorflow:Compiled the loaded model, but the compiled metrics have yet to be built. `model.compile_metrics` will be empty until you train or evaluate the model.\n"
     ]
    },
    {
     "name": "stdout",
     "output_type": "stream",
     "text": [
      "INFO:tensorflow:Assets written to: ram://798743b9-d4bc-4ac9-819a-9e84e6036fc1/assets\n"
     ]
    },
    {
     "name": "stderr",
     "output_type": "stream",
     "text": [
      "INFO:tensorflow:Assets written to: ram://798743b9-d4bc-4ac9-819a-9e84e6036fc1/assets\n",
      "WARNING:absl:Function `_wrapped_model` contains input name(s) mobilenet_1.00_224_input with unsupported characters which will be renamed to mobilenet_1_00_224_input in the SavedModel.\n",
      "WARNING:absl:Found untraced functions such as _jit_compiled_convolution_op, _jit_compiled_convolution_op, _jit_compiled_convolution_op, _jit_compiled_convolution_op, _jit_compiled_convolution_op while saving (showing 5 of 27). These functions will not be directly callable after loading.\n"
     ]
    },
    {
     "name": "stdout",
     "output_type": "stream",
     "text": [
      "INFO:tensorflow:Assets written to: ram://d869cb78-70a4-4f81-9a23-c7e8bad7eaf7/assets\n"
     ]
    },
    {
     "name": "stderr",
     "output_type": "stream",
     "text": [
      "INFO:tensorflow:Assets written to: ram://d869cb78-70a4-4f81-9a23-c7e8bad7eaf7/assets\n"
     ]
    },
    {
     "name": "stdout",
     "output_type": "stream",
     "text": [
      "WARNING:tensorflow:Compiled the loaded model, but the compiled metrics have yet to be built. `model.compile_metrics` will be empty until you train or evaluate the model.\n"
     ]
    },
    {
     "name": "stderr",
     "output_type": "stream",
     "text": [
      "WARNING:tensorflow:Compiled the loaded model, but the compiled metrics have yet to be built. `model.compile_metrics` will be empty until you train or evaluate the model.\n"
     ]
    },
    {
     "name": "stdout",
     "output_type": "stream",
     "text": [
      "INFO:tensorflow:Assets written to: ram://e350f380-5f8f-42fe-a866-938a94262893/assets\n"
     ]
    },
    {
     "name": "stderr",
     "output_type": "stream",
     "text": [
      "INFO:tensorflow:Assets written to: ram://e350f380-5f8f-42fe-a866-938a94262893/assets\n",
      "WARNING:absl:Function `_wrapped_model` contains input name(s) mobilenet_1.00_224_input with unsupported characters which will be renamed to mobilenet_1_00_224_input in the SavedModel.\n",
      "WARNING:absl:Found untraced functions such as _jit_compiled_convolution_op, _jit_compiled_convolution_op, _jit_compiled_convolution_op, _jit_compiled_convolution_op, _jit_compiled_convolution_op while saving (showing 5 of 27). These functions will not be directly callable after loading.\n"
     ]
    },
    {
     "name": "stdout",
     "output_type": "stream",
     "text": [
      "INFO:tensorflow:Assets written to: ram://efff29ef-2a63-44c9-a730-e3b040273b72/assets\n"
     ]
    },
    {
     "name": "stderr",
     "output_type": "stream",
     "text": [
      "INFO:tensorflow:Assets written to: ram://efff29ef-2a63-44c9-a730-e3b040273b72/assets\n"
     ]
    },
    {
     "name": "stdout",
     "output_type": "stream",
     "text": [
      "WARNING:tensorflow:Compiled the loaded model, but the compiled metrics have yet to be built. `model.compile_metrics` will be empty until you train or evaluate the model.\n"
     ]
    },
    {
     "name": "stderr",
     "output_type": "stream",
     "text": [
      "WARNING:tensorflow:Compiled the loaded model, but the compiled metrics have yet to be built. `model.compile_metrics` will be empty until you train or evaluate the model.\n"
     ]
    },
    {
     "name": "stdout",
     "output_type": "stream",
     "text": [
      "INFO:tensorflow:Assets written to: ram://f0668d7a-d914-44c2-b728-255a12c4ae80/assets\n"
     ]
    },
    {
     "name": "stderr",
     "output_type": "stream",
     "text": [
      "INFO:tensorflow:Assets written to: ram://f0668d7a-d914-44c2-b728-255a12c4ae80/assets\n",
      "WARNING:absl:Function `_wrapped_model` contains input name(s) mobilenet_1.00_224_input with unsupported characters which will be renamed to mobilenet_1_00_224_input in the SavedModel.\n",
      "WARNING:absl:Found untraced functions such as _jit_compiled_convolution_op, _jit_compiled_convolution_op, _jit_compiled_convolution_op, _jit_compiled_convolution_op, _jit_compiled_convolution_op while saving (showing 5 of 27). These functions will not be directly callable after loading.\n"
     ]
    },
    {
     "name": "stdout",
     "output_type": "stream",
     "text": [
      "INFO:tensorflow:Assets written to: ram://91c2638a-c707-4a52-9d88-89aa0fac2752/assets\n"
     ]
    },
    {
     "name": "stderr",
     "output_type": "stream",
     "text": [
      "INFO:tensorflow:Assets written to: ram://91c2638a-c707-4a52-9d88-89aa0fac2752/assets\n"
     ]
    },
    {
     "name": "stdout",
     "output_type": "stream",
     "text": [
      "WARNING:tensorflow:Compiled the loaded model, but the compiled metrics have yet to be built. `model.compile_metrics` will be empty until you train or evaluate the model.\n"
     ]
    },
    {
     "name": "stderr",
     "output_type": "stream",
     "text": [
      "WARNING:tensorflow:Compiled the loaded model, but the compiled metrics have yet to be built. `model.compile_metrics` will be empty until you train or evaluate the model.\n"
     ]
    },
    {
     "name": "stdout",
     "output_type": "stream",
     "text": [
      "INFO:tensorflow:Assets written to: ram://c38cff71-7cac-49a1-bdf1-3e3f860c99cc/assets\n"
     ]
    },
    {
     "name": "stderr",
     "output_type": "stream",
     "text": [
      "INFO:tensorflow:Assets written to: ram://c38cff71-7cac-49a1-bdf1-3e3f860c99cc/assets\n",
      "WARNING:absl:Function `_wrapped_model` contains input name(s) mobilenet_1.00_224_input with unsupported characters which will be renamed to mobilenet_1_00_224_input in the SavedModel.\n",
      "WARNING:absl:Found untraced functions such as _jit_compiled_convolution_op, _jit_compiled_convolution_op, _jit_compiled_convolution_op, _jit_compiled_convolution_op, _jit_compiled_convolution_op while saving (showing 5 of 27). These functions will not be directly callable after loading.\n"
     ]
    },
    {
     "name": "stdout",
     "output_type": "stream",
     "text": [
      "INFO:tensorflow:Assets written to: ram://2210f974-16d4-49dc-a209-47a1be966f55/assets\n"
     ]
    },
    {
     "name": "stderr",
     "output_type": "stream",
     "text": [
      "INFO:tensorflow:Assets written to: ram://2210f974-16d4-49dc-a209-47a1be966f55/assets\n"
     ]
    },
    {
     "name": "stdout",
     "output_type": "stream",
     "text": [
      "Metal device set to: Apple M1\n",
      "Metal device set to: Apple M1\n",
      "Metal device set to: Apple M1\n"
     ]
    },
    {
     "name": "stderr",
     "output_type": "stream",
     "text": [
      "2022-12-13 21:29:15.264550: I tensorflow/core/common_runtime/pluggable_device/pluggable_device_factory.cc:305] Could not identify NUMA node of platform GPU ID 0, defaulting to 0. Your kernel may not have been built with NUMA support.\n",
      "2022-12-13 21:29:15.264549: I tensorflow/core/common_runtime/pluggable_device/pluggable_device_factory.cc:305] Could not identify NUMA node of platform GPU ID 0, defaulting to 0. Your kernel may not have been built with NUMA support.\n",
      "2022-12-13 21:29:15.264550: I tensorflow/core/common_runtime/pluggable_device/pluggable_device_factory.cc:305] Could not identify NUMA node of platform GPU ID 0, defaulting to 0. Your kernel may not have been built with NUMA support.\n",
      "2022-12-13 21:29:15.264670: I tensorflow/core/common_runtime/pluggable_device/pluggable_device_factory.cc:271] Created TensorFlow device (/job:localhost/replica:0/task:0/device:GPU:0 with 0 MB memory) -> physical PluggableDevice (device: 0, name: METAL, pci bus id: <undefined>)\n",
      "2022-12-13 21:29:15.264675: I tensorflow/core/common_runtime/pluggable_device/pluggable_device_factory.cc:271] Created TensorFlow device (/job:localhost/replica:0/task:0/device:GPU:0 with 0 MB memory) -> physical PluggableDevice (device: 0, name: METAL, pci bus id: <undefined>)\n",
      "2022-12-13 21:29:15.264701: I tensorflow/core/common_runtime/pluggable_device/pluggable_device_factory.cc:271] Created TensorFlow device (/job:localhost/replica:0/task:0/device:GPU:0 with 0 MB memory) -> physical PluggableDevice (device: 0, name: METAL, pci bus id: <undefined>)\n",
      "WARNING:tensorflow:No training configuration found in save file, so the model was *not* compiled. Compile it manually.\n",
      "WARNING:tensorflow:No training configuration found in save file, so the model was *not* compiled. Compile it manually.\n",
      "WARNING:tensorflow:No training configuration found in save file, so the model was *not* compiled. Compile it manually.\n",
      "WARNING:tensorflow:No training configuration found in save file, so the model was *not* compiled. Compile it manually.\n",
      "WARNING:tensorflow:No training configuration found in save file, so the model was *not* compiled. Compile it manually.\n",
      "WARNING:tensorflow:No training configuration found in save file, so the model was *not* compiled. Compile it manually.\n",
      "WARNING:tensorflow:No training configuration found in save file, so the model was *not* compiled. Compile it manually.\n",
      "WARNING:tensorflow:No training configuration found in save file, so the model was *not* compiled. Compile it manually.\n",
      "WARNING:tensorflow:No training configuration found in save file, so the model was *not* compiled. Compile it manually.\n",
      "WARNING:tensorflow:No training configuration found in save file, so the model was *not* compiled. Compile it manually.\n",
      "WARNING:tensorflow:No training configuration found in save file, so the model was *not* compiled. Compile it manually.\n",
      "WARNING:tensorflow:No training configuration found in save file, so the model was *not* compiled. Compile it manually.\n",
      "WARNING:tensorflow:No training configuration found in save file, so the model was *not* compiled. Compile it manually.\n",
      "WARNING:tensorflow:No training configuration found in save file, so the model was *not* compiled. Compile it manually.\n",
      "WARNING:tensorflow:No training configuration found in save file, so the model was *not* compiled. Compile it manually.\n",
      "WARNING:tensorflow:No training configuration found in save file, so the model was *not* compiled. Compile it manually.\n"
     ]
    },
    {
     "name": "stdout",
     "output_type": "stream",
     "text": [
      "\n",
      "systemMemory: 8.00 GB\n",
      "maxCacheSize: 2.67 GB\n",
      "\n",
      "\n",
      "systemMemory: 8.00 GB\n",
      "maxCacheSize: 2.67 GB\n",
      "\n",
      "\n",
      "systemMemory: 8.00 GB\n",
      "maxCacheSize: 2.67 GB\n",
      "\n",
      "CPU times: user 2min 3s, sys: 8.37 s, total: 2min 11s\n",
      "Wall time: 3min 6s\n"
     ]
    }
   ],
   "source": [
    "%%time\n",
    "# if os.path.exists(model_save_dir+'test_prediction.csv'):\n",
    "#     test_df=pd.read_csv(model_save_dir+'test_prediction.csv')\n",
    "#     y_true = test_df.iloc[:]['humans'].values\n",
    "#     y_pred = test_df.iloc[:]['prediction'].values\n",
    "\n",
    "# else:   \n",
    "test_df = test_df.reset_index(drop = True)\n",
    "test_df['prediction'] = test_df['file_name'].swifter.allow_dask_on_strings(enable=True).apply(predicter)\n",
    "test_df['humans'] = test_df.humans.apply(lambda x:int(x)) \n",
    "test_df.to_csv(model_save_dir+'test_prediction.csv')\n",
    "y_true = test_df.iloc[:]['humans'].values\n",
    "y_pred = test_df.iloc[:]['prediction'].values"
   ]
  },
  {
   "cell_type": "code",
   "execution_count": 67,
   "id": "5f12c1b7",
   "metadata": {},
   "outputs": [
    {
     "data": {
      "text/html": [
       "<div>\n",
       "<style scoped>\n",
       "    .dataframe tbody tr th:only-of-type {\n",
       "        vertical-align: middle;\n",
       "    }\n",
       "\n",
       "    .dataframe tbody tr th {\n",
       "        vertical-align: top;\n",
       "    }\n",
       "\n",
       "    .dataframe thead th {\n",
       "        text-align: right;\n",
       "    }\n",
       "</style>\n",
       "<table border=\"1\" class=\"dataframe\">\n",
       "  <thead>\n",
       "    <tr style=\"text-align: right;\">\n",
       "      <th></th>\n",
       "      <th>Unnamed: 0</th>\n",
       "      <th>file_name</th>\n",
       "      <th>humans</th>\n",
       "      <th>number_of_humans</th>\n",
       "      <th>prediction</th>\n",
       "    </tr>\n",
       "  </thead>\n",
       "  <tbody>\n",
       "    <tr>\n",
       "      <th>0</th>\n",
       "      <td>1694</td>\n",
       "      <td>/Users/krish/ljmu/1.data/afo/images/s1_118.jpg</td>\n",
       "      <td>1</td>\n",
       "      <td>2</td>\n",
       "      <td>0.060291</td>\n",
       "    </tr>\n",
       "    <tr>\n",
       "      <th>1</th>\n",
       "      <td>1781</td>\n",
       "      <td>/Users/krish/ljmu/1.data/afo/images/r2_30.jpg</td>\n",
       "      <td>1</td>\n",
       "      <td>3</td>\n",
       "      <td>0.999218</td>\n",
       "    </tr>\n",
       "    <tr>\n",
       "      <th>2</th>\n",
       "      <td>1244</td>\n",
       "      <td>/Users/krish/ljmu/1.data/afo/images/w1_101.jpg</td>\n",
       "      <td>1</td>\n",
       "      <td>2</td>\n",
       "      <td>0.999401</td>\n",
       "    </tr>\n",
       "    <tr>\n",
       "      <th>3</th>\n",
       "      <td>1552</td>\n",
       "      <td>/Users/krish/ljmu/1.data/afo/images/r4_117.jpg</td>\n",
       "      <td>1</td>\n",
       "      <td>2</td>\n",
       "      <td>0.999861</td>\n",
       "    </tr>\n",
       "    <tr>\n",
       "      <th>4</th>\n",
       "      <td>996</td>\n",
       "      <td>/Users/krish/ljmu/1.data/afo/images/k4_164.jpg</td>\n",
       "      <td>1</td>\n",
       "      <td>3</td>\n",
       "      <td>0.906697</td>\n",
       "    </tr>\n",
       "    <tr>\n",
       "      <th>...</th>\n",
       "      <td>...</td>\n",
       "      <td>...</td>\n",
       "      <td>...</td>\n",
       "      <td>...</td>\n",
       "      <td>...</td>\n",
       "    </tr>\n",
       "    <tr>\n",
       "      <th>360</th>\n",
       "      <td>3609</td>\n",
       "      <td>/Users/krish/ljmu/1.data/afo/images/r3_102.jpg</td>\n",
       "      <td>1</td>\n",
       "      <td>1</td>\n",
       "      <td>0.997552</td>\n",
       "    </tr>\n",
       "    <tr>\n",
       "      <th>361</th>\n",
       "      <td>1777</td>\n",
       "      <td>/Users/krish/ljmu/1.data/afo/images/a_139.jpg</td>\n",
       "      <td>0</td>\n",
       "      <td>0</td>\n",
       "      <td>0.057554</td>\n",
       "    </tr>\n",
       "    <tr>\n",
       "      <th>362</th>\n",
       "      <td>2763</td>\n",
       "      <td>/Users/krish/ljmu/1.data/afo/images/w2_191.jpg</td>\n",
       "      <td>1</td>\n",
       "      <td>6</td>\n",
       "      <td>0.999704</td>\n",
       "    </tr>\n",
       "    <tr>\n",
       "      <th>363</th>\n",
       "      <td>294</td>\n",
       "      <td>/Users/krish/ljmu/1.data/afo/images/s1_182.jpg</td>\n",
       "      <td>1</td>\n",
       "      <td>2</td>\n",
       "      <td>0.135711</td>\n",
       "    </tr>\n",
       "    <tr>\n",
       "      <th>364</th>\n",
       "      <td>709</td>\n",
       "      <td>/Users/krish/ljmu/1.data/afo/images/a_1239.jpg</td>\n",
       "      <td>1</td>\n",
       "      <td>46</td>\n",
       "      <td>0.999891</td>\n",
       "    </tr>\n",
       "  </tbody>\n",
       "</table>\n",
       "<p>365 rows × 5 columns</p>\n",
       "</div>"
      ],
      "text/plain": [
       "     Unnamed: 0                                       file_name  humans  \\\n",
       "0          1694  /Users/krish/ljmu/1.data/afo/images/s1_118.jpg       1   \n",
       "1          1781   /Users/krish/ljmu/1.data/afo/images/r2_30.jpg       1   \n",
       "2          1244  /Users/krish/ljmu/1.data/afo/images/w1_101.jpg       1   \n",
       "3          1552  /Users/krish/ljmu/1.data/afo/images/r4_117.jpg       1   \n",
       "4           996  /Users/krish/ljmu/1.data/afo/images/k4_164.jpg       1   \n",
       "..          ...                                             ...     ...   \n",
       "360        3609  /Users/krish/ljmu/1.data/afo/images/r3_102.jpg       1   \n",
       "361        1777   /Users/krish/ljmu/1.data/afo/images/a_139.jpg       0   \n",
       "362        2763  /Users/krish/ljmu/1.data/afo/images/w2_191.jpg       1   \n",
       "363         294  /Users/krish/ljmu/1.data/afo/images/s1_182.jpg       1   \n",
       "364         709  /Users/krish/ljmu/1.data/afo/images/a_1239.jpg       1   \n",
       "\n",
       "     number_of_humans  prediction  \n",
       "0                   2    0.060291  \n",
       "1                   3    0.999218  \n",
       "2                   2    0.999401  \n",
       "3                   2    0.999861  \n",
       "4                   3    0.906697  \n",
       "..                ...         ...  \n",
       "360                 1    0.997552  \n",
       "361                 0    0.057554  \n",
       "362                 6    0.999704  \n",
       "363                 2    0.135711  \n",
       "364                46    0.999891  \n",
       "\n",
       "[365 rows x 5 columns]"
      ]
     },
     "execution_count": 67,
     "metadata": {},
     "output_type": "execute_result"
    }
   ],
   "source": [
    "test_df#.reset_index(drop = True)"
   ]
  },
  {
   "cell_type": "code",
   "execution_count": 68,
   "id": "fa780964",
   "metadata": {},
   "outputs": [
    {
     "name": "stdout",
     "output_type": "stream",
     "text": [
      "confusion [[ 73   0]\n",
      " [ 53 239]]\n",
      "recall 0.8184931506849316\n",
      "precision 1.0\n"
     ]
    }
   ],
   "source": [
    "from sklearn.metrics import confusion_matrix\n",
    "print('confusion',confusion_matrix(y_true,y_pred.round()))\n",
    "\n",
    "from sklearn.metrics import recall_score\n",
    "print('recall',recall_score(y_true,y_pred.round()))\n",
    "\n",
    "from sklearn.metrics import precision_score\n",
    "print('precision',precision_score(y_true,y_pred.round()))"
   ]
  },
  {
   "cell_type": "code",
   "execution_count": 69,
   "id": "d80cf072",
   "metadata": {},
   "outputs": [
    {
     "data": {
      "text/plain": [
       "<sklearn.metrics._plot.precision_recall_curve.PrecisionRecallDisplay at 0x34e7d28b0>"
      ]
     },
     "execution_count": 69,
     "metadata": {},
     "output_type": "execute_result"
    },
    {
     "data": {
      "image/png": "[encoded data removed]",
      "text/plain": [
       "<Figure size 640x480 with 1 Axes>"
      ]
     },
     "metadata": {},
     "output_type": "display_data"
    }
   ],
   "source": [
    "from sklearn.metrics import PrecisionRecallDisplay\n",
    "PrecisionRecallDisplay.from_predictions(y_true,y_pred)"
   ]
  },
  {
   "cell_type": "code",
   "execution_count": 70,
   "id": "bbc8e8e0",
   "metadata": {},
   "outputs": [
    {
     "data": {
      "text/plain": [
       "<AxesSubplot: >"
      ]
     },
     "execution_count": 70,
     "metadata": {},
     "output_type": "execute_result"
    },
    {
     "data": {
      "image/png": "[encoded data removed]",
      "text/plain": [
       "<Figure size 640x480 with 2 Axes>"
      ]
     },
     "metadata": {},
     "output_type": "display_data"
    }
   ],
   "source": [
    "import seaborn as sns\n",
    "cf_matrix = confusion_matrix(y_true,y_pred.round())\n",
    "\n",
    "group_names = ['True Neg','False Pos','False Neg','True Pos']\n",
    "group_counts = [\"{0:0.0f}\".format(value) for value in\n",
    "                cf_matrix.flatten()]\n",
    "group_percentages = [\"{0:.2%}\".format(value) for value in\n",
    "                     cf_matrix.flatten()/np.sum(cf_matrix)]\n",
    "labels = [f\"{v1}\\n{v2}\\n{v3}\" for v1, v2, v3 in\n",
    "          zip(group_names,group_counts,group_percentages)]\n",
    "labels = np.asarray(labels).reshape(2,2)\n",
    "sns.heatmap(cf_matrix, annot=labels, fmt='', cmap='Blues')"
   ]
  },
  {
   "cell_type": "code",
   "execution_count": null,
   "id": "1baaae2e",
   "metadata": {},
   "outputs": [],
   "source": []
  },
  {
   "cell_type": "code",
   "execution_count": null,
   "id": "42bc5c22",
   "metadata": {},
   "outputs": [],
   "source": []
  },
  {
   "cell_type": "code",
   "execution_count": null,
   "id": "c80cb3b8",
   "metadata": {},
   "outputs": [],
   "source": []
  },
  {
   "cell_type": "code",
   "execution_count": null,
   "id": "59ddf981",
   "metadata": {},
   "outputs": [],
   "source": []
  },
  {
   "cell_type": "code",
   "execution_count": null,
   "id": "941c4056",
   "metadata": {},
   "outputs": [],
   "source": []
  },
  {
   "cell_type": "code",
   "execution_count": 93,
   "id": "d0490d5d",
   "metadata": {},
   "outputs": [
    {
     "name": "stderr",
     "output_type": "stream",
     "text": [
      "/var/folders/zk/p2gyqg915639vx6xr9xbs9cm0000gn/T/ipykernel_39050/2701866335.py:10: FutureWarning: The frame.append method is deprecated and will be removed from pandas in a future version. Use pandas.concat instead.\n",
      "  tiled_test = df_true.append(df_false)\n"
     ]
    }
   ],
   "source": [
    "df_true = pd.DataFrame(columns = ['file_name','humans'])\n",
    "df_false = pd.DataFrame(columns = ['file_name','humans'])\n",
    "\n",
    "df_true['file_name'] = glob.glob(r'/Users/krish/ljmu/1.data/afo/tiledv3/test/ts/*.jpg')\n",
    "df_true.humans = 1\n",
    "\n",
    "df_false['file_name'] = glob.glob(r'/Users/krish/ljmu/1.data/afo/tiledv3/test/false/*.jpg')\n",
    "df_false.humans = 0\n",
    "\n",
    "tiled_test = df_true.append(df_false)"
   ]
  },
  {
   "cell_type": "code",
   "execution_count": 94,
   "id": "86b8f390",
   "metadata": {},
   "outputs": [],
   "source": [
    "tiled_test['humans'] = tiled_test.humans.apply(lambda x: str(x))"
   ]
  },
  {
   "cell_type": "code",
   "execution_count": 95,
   "id": "3e3e3ef1",
   "metadata": {},
   "outputs": [],
   "source": [
    "IMG_SIZE = 224\n",
    "\n",
    "resize_and_rescale = tf.keras.Sequential([\n",
    "  layers.Resizing(IMG_SIZE, IMG_SIZE),\n",
    "  layers.Rescaling(1./255)\n",
    "])"
   ]
  },
  {
   "cell_type": "code",
   "execution_count": 96,
   "id": "7f96f2f0",
   "metadata": {},
   "outputs": [],
   "source": [
    "def predicter(file_path):\n",
    "    \n",
    "    #print(file_path)\n",
    "    im = Image.open(file_path)\n",
    "    test_input = np.array(im, dtype=np.uint8)\n",
    "    if len(test_input.shape) == 3:\n",
    "        test_input = resize_and_rescale(test_input)\n",
    "        out = model(tf.reshape(test_input,(1,224,224,3)))\n",
    "\n",
    "        return np.array(out)[0][0] \n",
    "    else:\n",
    "        return 'out_of_shape'"
   ]
  },
  {
   "cell_type": "code",
   "execution_count": 97,
   "id": "1fca4225",
   "metadata": {},
   "outputs": [
    {
     "data": {
      "text/html": [
       "<div>\n",
       "<style scoped>\n",
       "    .dataframe tbody tr th:only-of-type {\n",
       "        vertical-align: middle;\n",
       "    }\n",
       "\n",
       "    .dataframe tbody tr th {\n",
       "        vertical-align: top;\n",
       "    }\n",
       "\n",
       "    .dataframe thead th {\n",
       "        text-align: right;\n",
       "    }\n",
       "</style>\n",
       "<table border=\"1\" class=\"dataframe\">\n",
       "  <thead>\n",
       "    <tr style=\"text-align: right;\">\n",
       "      <th></th>\n",
       "      <th>file_name</th>\n",
       "      <th>humans</th>\n",
       "    </tr>\n",
       "  </thead>\n",
       "  <tbody>\n",
       "    <tr>\n",
       "      <th>0</th>\n",
       "      <td>/Users/krish/ljmu/1.data/afo/tiledv2/test/ts/a...</td>\n",
       "      <td>1</td>\n",
       "    </tr>\n",
       "    <tr>\n",
       "      <th>1</th>\n",
       "      <td>/Users/krish/ljmu/1.data/afo/tiledv2/test/ts/r...</td>\n",
       "      <td>1</td>\n",
       "    </tr>\n",
       "    <tr>\n",
       "      <th>2</th>\n",
       "      <td>/Users/krish/ljmu/1.data/afo/tiledv2/test/ts/c...</td>\n",
       "      <td>1</td>\n",
       "    </tr>\n",
       "    <tr>\n",
       "      <th>3</th>\n",
       "      <td>/Users/krish/ljmu/1.data/afo/tiledv2/test/ts/d...</td>\n",
       "      <td>1</td>\n",
       "    </tr>\n",
       "    <tr>\n",
       "      <th>4</th>\n",
       "      <td>/Users/krish/ljmu/1.data/afo/tiledv2/test/ts/a...</td>\n",
       "      <td>1</td>\n",
       "    </tr>\n",
       "    <tr>\n",
       "      <th>...</th>\n",
       "      <td>...</td>\n",
       "      <td>...</td>\n",
       "    </tr>\n",
       "    <tr>\n",
       "      <th>11210</th>\n",
       "      <td>/Users/krish/ljmu/1.data/afo/tiledv2/test/fals...</td>\n",
       "      <td>0</td>\n",
       "    </tr>\n",
       "    <tr>\n",
       "      <th>11211</th>\n",
       "      <td>/Users/krish/ljmu/1.data/afo/tiledv2/test/fals...</td>\n",
       "      <td>0</td>\n",
       "    </tr>\n",
       "    <tr>\n",
       "      <th>11212</th>\n",
       "      <td>/Users/krish/ljmu/1.data/afo/tiledv2/test/fals...</td>\n",
       "      <td>0</td>\n",
       "    </tr>\n",
       "    <tr>\n",
       "      <th>11213</th>\n",
       "      <td>/Users/krish/ljmu/1.data/afo/tiledv2/test/fals...</td>\n",
       "      <td>0</td>\n",
       "    </tr>\n",
       "    <tr>\n",
       "      <th>11214</th>\n",
       "      <td>/Users/krish/ljmu/1.data/afo/tiledv2/test/fals...</td>\n",
       "      <td>0</td>\n",
       "    </tr>\n",
       "  </tbody>\n",
       "</table>\n",
       "<p>15703 rows × 2 columns</p>\n",
       "</div>"
      ],
      "text/plain": [
       "                                               file_name humans\n",
       "0      /Users/krish/ljmu/1.data/afo/tiledv2/test/ts/a...      1\n",
       "1      /Users/krish/ljmu/1.data/afo/tiledv2/test/ts/r...      1\n",
       "2      /Users/krish/ljmu/1.data/afo/tiledv2/test/ts/c...      1\n",
       "3      /Users/krish/ljmu/1.data/afo/tiledv2/test/ts/d...      1\n",
       "4      /Users/krish/ljmu/1.data/afo/tiledv2/test/ts/a...      1\n",
       "...                                                  ...    ...\n",
       "11210  /Users/krish/ljmu/1.data/afo/tiledv2/test/fals...      0\n",
       "11211  /Users/krish/ljmu/1.data/afo/tiledv2/test/fals...      0\n",
       "11212  /Users/krish/ljmu/1.data/afo/tiledv2/test/fals...      0\n",
       "11213  /Users/krish/ljmu/1.data/afo/tiledv2/test/fals...      0\n",
       "11214  /Users/krish/ljmu/1.data/afo/tiledv2/test/fals...      0\n",
       "\n",
       "[15703 rows x 2 columns]"
      ]
     },
     "execution_count": 97,
     "metadata": {},
     "output_type": "execute_result"
    }
   ],
   "source": [
    "tiled_test"
   ]
  },
  {
   "cell_type": "code",
   "execution_count": 98,
   "id": "1ec442d1",
   "metadata": {},
   "outputs": [],
   "source": [
    "tiled_test['prediction'] = tiled_test.file_name.apply(predicter)"
   ]
  },
  {
   "cell_type": "code",
   "execution_count": 112,
   "id": "4371a9a9",
   "metadata": {},
   "outputs": [],
   "source": [
    "tiled_test['humans'] = tiled_test.humans.apply(lambda x:int(x)) "
   ]
  },
  {
   "cell_type": "code",
   "execution_count": 113,
   "id": "16aa006c",
   "metadata": {},
   "outputs": [],
   "source": [
    "y_true = tiled_test.iloc[:]['humans'].values\n",
    "y_pred = tiled_test.iloc[:]['prediction'].values"
   ]
  },
  {
   "cell_type": "code",
   "execution_count": null,
   "id": "df18b8b0",
   "metadata": {},
   "outputs": [],
   "source": []
  },
  {
   "cell_type": "code",
   "execution_count": 114,
   "id": "2964bce4",
   "metadata": {},
   "outputs": [
    {
     "data": {
      "text/plain": [
       "<sklearn.metrics._plot.roc_curve.RocCurveDisplay at 0x16a520820>"
      ]
     },
     "execution_count": 114,
     "metadata": {},
     "output_type": "execute_result"
    },
    {
     "data": {
      "image/png": "[encoded data removed]",
      "text/plain": [
       "<Figure size 640x480 with 1 Axes>"
      ]
     },
     "metadata": {},
     "output_type": "display_data"
    }
   ],
   "source": [
    "from sklearn.metrics import RocCurveDisplay\n",
    "RocCurveDisplay.from_predictions(y_true, y_pred)"
   ]
  },
  {
   "cell_type": "code",
   "execution_count": 115,
   "id": "e121af35",
   "metadata": {},
   "outputs": [
    {
     "name": "stdout",
     "output_type": "stream",
     "text": [
      "confusion [[8372 2843]\n",
      " [1614 2874]]\n",
      "recall 0.6403743315508021\n",
      "precision 0.5027112121742172\n"
     ]
    }
   ],
   "source": [
    "from sklearn.metrics import confusion_matrix\n",
    "print('confusion',confusion_matrix(y_true,y_pred.round()))\n",
    "\n",
    "from sklearn.metrics import recall_score\n",
    "print('recall',recall_score(y_true,y_pred.round()))\n",
    "\n",
    "from sklearn.metrics import precision_score\n",
    "print('precision',precision_score(y_true,y_pred.round()))"
   ]
  },
  {
   "cell_type": "markdown",
   "id": "18cb9bbb",
   "metadata": {},
   "source": [
    "**model2**"
   ]
  },
  {
   "cell_type": "code",
   "execution_count": 147,
   "id": "3457776b",
   "metadata": {},
   "outputs": [
    {
     "name": "stderr",
     "output_type": "stream",
     "text": [
      "/var/folders/zk/p2gyqg915639vx6xr9xbs9cm0000gn/T/ipykernel_39050/1000422756.py:10: FutureWarning: The frame.append method is deprecated and will be removed from pandas in a future version. Use pandas.concat instead.\n",
      "  tiled_test = df_true.append(df_false)\n"
     ]
    }
   ],
   "source": [
    "df_true = pd.DataFrame(columns = ['file_name','humans'])\n",
    "df_false = pd.DataFrame(columns = ['file_name','humans'])\n",
    "\n",
    "df_true['file_name'] = glob.glob(r'/Users/krish/ljmu/1.data/afo/tiledv2/test/ts/*.jpg')\n",
    "df_true.humans = 1\n",
    "\n",
    "df_false['file_name'] = glob.glob(r'/Users/krish/ljmu/1.data/afo/tiledv2/test/false/*.jpg')\n",
    "df_false.humans = 0\n",
    "\n",
    "tiled_test = df_true.append(df_false)\n",
    "\n",
    "tiled_test['humans'] = tiled_test.humans.apply(lambda x: str(x))\n",
    "\n",
    "model2 = tf.keras.models.load_model(result_root+'19112022-1728-ResNet+tile+augmentation_10epochs_afo')\n",
    "\n",
    "def predicter(file_path):\n",
    "    \n",
    "    #print(file_path)\n",
    "    im = Image.open(file_path)\n",
    "    test_input = np.array(im, dtype=np.uint8)\n",
    "    if len(test_input.shape) == 3:\n",
    "        test_input = resize_and_rescale(test_input)\n",
    "        out = model2(tf.reshape(test_input,(1,224,224,3)))\n",
    "\n",
    "        return np.array(out)[0][0] \n",
    "    else:\n",
    "        return 'out_of_shape'\n",
    "    \n",
    "tiled_test['prediction'] = tiled_test.file_name.apply(predicter)\n",
    "\n",
    "tiled_test['humans'] = tiled_test.humans.apply(lambda x:int(x)) \n",
    "tiled_test.to_csv(result_root+'19112022-1728-ResNet+tile+augmentation_10epochs_afo/test_prediction.csv')\n",
    "y_true = tiled_test.iloc[:]['humans'].values\n",
    "y_pred = tiled_test.iloc[:]['prediction'].values"
   ]
  },
  {
   "cell_type": "code",
   "execution_count": 118,
   "id": "dfc73ca8",
   "metadata": {},
   "outputs": [
    {
     "data": {
      "text/plain": [
       "<sklearn.metrics._plot.roc_curve.RocCurveDisplay at 0x17dda08e0>"
      ]
     },
     "execution_count": 118,
     "metadata": {},
     "output_type": "execute_result"
    },
    {
     "data": {
      "image/png": "[encoded data removed]",
      "text/plain": [
       "<Figure size 640x480 with 1 Axes>"
      ]
     },
     "metadata": {},
     "output_type": "display_data"
    }
   ],
   "source": [
    "from sklearn.metrics import RocCurveDisplay\n",
    "RocCurveDisplay.from_predictions(y_true, y_pred)"
   ]
  },
  {
   "cell_type": "code",
   "execution_count": 119,
   "id": "c2f4d6af",
   "metadata": {},
   "outputs": [
    {
     "name": "stdout",
     "output_type": "stream",
     "text": [
      "confusion [[11076   139]\n",
      " [  620  3868]]\n",
      "recall 0.8618538324420677\n",
      "precision 0.9653107062640379\n"
     ]
    }
   ],
   "source": [
    "from sklearn.metrics import confusion_matrix\n",
    "print('confusion',confusion_matrix(y_true,y_pred.round()))\n",
    "\n",
    "from sklearn.metrics import recall_score\n",
    "print('recall',recall_score(y_true,y_pred.round()))\n",
    "\n",
    "from sklearn.metrics import precision_score\n",
    "print('precision',precision_score(y_true,y_pred.round()))"
   ]
  },
  {
   "cell_type": "code",
   "execution_count": 148,
   "id": "dca4db23",
   "metadata": {},
   "outputs": [
    {
     "data": {
      "text/plain": [
       "<sklearn.metrics._plot.precision_recall_curve.PrecisionRecallDisplay at 0x2909385b0>"
      ]
     },
     "execution_count": 148,
     "metadata": {},
     "output_type": "execute_result"
    },
    {
     "data": {
      "image/png": "[encoded data removed]",
      "text/plain": [
       "<Figure size 640x480 with 1 Axes>"
      ]
     },
     "metadata": {},
     "output_type": "display_data"
    }
   ],
   "source": [
    "from sklearn.metrics import PrecisionRecallDisplay\n",
    "PrecisionRecallDisplay.from_predictions(y_true,y_pred)"
   ]
  },
  {
   "cell_type": "markdown",
   "id": "dd7385a7",
   "metadata": {},
   "source": [
    "**model3**\n"
   ]
  },
  {
   "cell_type": "code",
   "execution_count": 128,
   "id": "dc53023b",
   "metadata": {},
   "outputs": [
    {
     "name": "stderr",
     "output_type": "stream",
     "text": [
      "/var/folders/zk/p2gyqg915639vx6xr9xbs9cm0000gn/T/ipykernel_39050/2701866335.py:10: FutureWarning: The frame.append method is deprecated and will be removed from pandas in a future version. Use pandas.concat instead.\n",
      "  tiled_test = df_true.append(df_false)\n"
     ]
    }
   ],
   "source": [
    "df_true = pd.DataFrame(columns = ['file_name','humans'])\n",
    "df_false = pd.DataFrame(columns = ['file_name','humans'])\n",
    "\n",
    "df_true['file_name'] = glob.glob(r'/Users/krish/ljmu/1.data/afo/tiledv2/test/ts/*.jpg')\n",
    "df_true.humans = 1\n",
    "\n",
    "df_false['file_name'] = glob.glob(r'/Users/krish/ljmu/1.data/afo/tiledv2/test/false/*.jpg')\n",
    "df_false.humans = 0\n",
    "\n",
    "tiled_test = df_true.append(df_false)"
   ]
  },
  {
   "cell_type": "code",
   "execution_count": 129,
   "id": "d8d39818",
   "metadata": {},
   "outputs": [],
   "source": [
    "tiled_test['humans'] = tiled_test.humans.apply(lambda x: str(x))"
   ]
  },
  {
   "cell_type": "code",
   "execution_count": 130,
   "id": "d6d37b01",
   "metadata": {},
   "outputs": [],
   "source": [
    "IMG_SIZE = 224\n",
    "\n",
    "resize_and_rescale = tf.keras.Sequential([\n",
    "  layers.Resizing(IMG_SIZE, IMG_SIZE),\n",
    "  layers.Rescaling(1./255)\n",
    "])"
   ]
  },
  {
   "cell_type": "code",
   "execution_count": 131,
   "id": "b2da3573",
   "metadata": {},
   "outputs": [],
   "source": [
    "def predicter(file_path):\n",
    "    \n",
    "    #print(file_path)\n",
    "    im = Image.open(file_path)\n",
    "    test_input = np.array(im, dtype=np.uint8)\n",
    "    if len(test_input.shape) == 3:\n",
    "        test_input = resize_and_rescale(test_input)\n",
    "        out = model3(tf.reshape(test_input,(1,224,224,3)))\n",
    "\n",
    "        return np.array(out)[0][0] \n",
    "    else:\n",
    "        return 'out_of_shape'"
   ]
  },
  {
   "cell_type": "code",
   "execution_count": 132,
   "id": "33485de4",
   "metadata": {},
   "outputs": [
    {
     "data": {
      "text/html": [
       "<div>\n",
       "<style scoped>\n",
       "    .dataframe tbody tr th:only-of-type {\n",
       "        vertical-align: middle;\n",
       "    }\n",
       "\n",
       "    .dataframe tbody tr th {\n",
       "        vertical-align: top;\n",
       "    }\n",
       "\n",
       "    .dataframe thead th {\n",
       "        text-align: right;\n",
       "    }\n",
       "</style>\n",
       "<table border=\"1\" class=\"dataframe\">\n",
       "  <thead>\n",
       "    <tr style=\"text-align: right;\">\n",
       "      <th></th>\n",
       "      <th>file_name</th>\n",
       "      <th>humans</th>\n",
       "    </tr>\n",
       "  </thead>\n",
       "  <tbody>\n",
       "    <tr>\n",
       "      <th>0</th>\n",
       "      <td>/Users/krish/ljmu/1.data/afo/tiledv2/test/ts/a...</td>\n",
       "      <td>1</td>\n",
       "    </tr>\n",
       "    <tr>\n",
       "      <th>1</th>\n",
       "      <td>/Users/krish/ljmu/1.data/afo/tiledv2/test/ts/r...</td>\n",
       "      <td>1</td>\n",
       "    </tr>\n",
       "    <tr>\n",
       "      <th>2</th>\n",
       "      <td>/Users/krish/ljmu/1.data/afo/tiledv2/test/ts/c...</td>\n",
       "      <td>1</td>\n",
       "    </tr>\n",
       "    <tr>\n",
       "      <th>3</th>\n",
       "      <td>/Users/krish/ljmu/1.data/afo/tiledv2/test/ts/d...</td>\n",
       "      <td>1</td>\n",
       "    </tr>\n",
       "    <tr>\n",
       "      <th>4</th>\n",
       "      <td>/Users/krish/ljmu/1.data/afo/tiledv2/test/ts/a...</td>\n",
       "      <td>1</td>\n",
       "    </tr>\n",
       "    <tr>\n",
       "      <th>...</th>\n",
       "      <td>...</td>\n",
       "      <td>...</td>\n",
       "    </tr>\n",
       "    <tr>\n",
       "      <th>11210</th>\n",
       "      <td>/Users/krish/ljmu/1.data/afo/tiledv2/test/fals...</td>\n",
       "      <td>0</td>\n",
       "    </tr>\n",
       "    <tr>\n",
       "      <th>11211</th>\n",
       "      <td>/Users/krish/ljmu/1.data/afo/tiledv2/test/fals...</td>\n",
       "      <td>0</td>\n",
       "    </tr>\n",
       "    <tr>\n",
       "      <th>11212</th>\n",
       "      <td>/Users/krish/ljmu/1.data/afo/tiledv2/test/fals...</td>\n",
       "      <td>0</td>\n",
       "    </tr>\n",
       "    <tr>\n",
       "      <th>11213</th>\n",
       "      <td>/Users/krish/ljmu/1.data/afo/tiledv2/test/fals...</td>\n",
       "      <td>0</td>\n",
       "    </tr>\n",
       "    <tr>\n",
       "      <th>11214</th>\n",
       "      <td>/Users/krish/ljmu/1.data/afo/tiledv2/test/fals...</td>\n",
       "      <td>0</td>\n",
       "    </tr>\n",
       "  </tbody>\n",
       "</table>\n",
       "<p>15703 rows × 2 columns</p>\n",
       "</div>"
      ],
      "text/plain": [
       "                                               file_name humans\n",
       "0      /Users/krish/ljmu/1.data/afo/tiledv2/test/ts/a...      1\n",
       "1      /Users/krish/ljmu/1.data/afo/tiledv2/test/ts/r...      1\n",
       "2      /Users/krish/ljmu/1.data/afo/tiledv2/test/ts/c...      1\n",
       "3      /Users/krish/ljmu/1.data/afo/tiledv2/test/ts/d...      1\n",
       "4      /Users/krish/ljmu/1.data/afo/tiledv2/test/ts/a...      1\n",
       "...                                                  ...    ...\n",
       "11210  /Users/krish/ljmu/1.data/afo/tiledv2/test/fals...      0\n",
       "11211  /Users/krish/ljmu/1.data/afo/tiledv2/test/fals...      0\n",
       "11212  /Users/krish/ljmu/1.data/afo/tiledv2/test/fals...      0\n",
       "11213  /Users/krish/ljmu/1.data/afo/tiledv2/test/fals...      0\n",
       "11214  /Users/krish/ljmu/1.data/afo/tiledv2/test/fals...      0\n",
       "\n",
       "[15703 rows x 2 columns]"
      ]
     },
     "execution_count": 132,
     "metadata": {},
     "output_type": "execute_result"
    }
   ],
   "source": [
    "tiled_test"
   ]
  },
  {
   "cell_type": "code",
   "execution_count": 133,
   "id": "de3cf7ce",
   "metadata": {},
   "outputs": [],
   "source": [
    "tiled_test['prediction'] = tiled_test.file_name.apply(predicter)"
   ]
  },
  {
   "cell_type": "code",
   "execution_count": 134,
   "id": "bd6ab8cf",
   "metadata": {},
   "outputs": [],
   "source": [
    "tiled_test['humans'] = tiled_test.humans.apply(lambda x:int(x)) "
   ]
  },
  {
   "cell_type": "code",
   "execution_count": 135,
   "id": "2a2a88fe",
   "metadata": {},
   "outputs": [],
   "source": [
    "y_true = tiled_test.iloc[:]['humans'].values\n",
    "y_pred = tiled_test.iloc[:]['prediction'].values"
   ]
  },
  {
   "cell_type": "code",
   "execution_count": null,
   "id": "d7a0ee17",
   "metadata": {},
   "outputs": [],
   "source": []
  },
  {
   "cell_type": "code",
   "execution_count": 136,
   "id": "c15d0e60",
   "metadata": {},
   "outputs": [
    {
     "data": {
      "text/plain": [
       "<sklearn.metrics._plot.roc_curve.RocCurveDisplay at 0x125c964c0>"
      ]
     },
     "execution_count": 136,
     "metadata": {},
     "output_type": "execute_result"
    },
    {
     "data": {
      "image/png": "[encoded data removed]",
      "text/plain": [
       "<Figure size 640x480 with 1 Axes>"
      ]
     },
     "metadata": {},
     "output_type": "display_data"
    }
   ],
   "source": [
    "from sklearn.metrics import RocCurveDisplay\n",
    "RocCurveDisplay.from_predictions(y_true, y_pred)"
   ]
  },
  {
   "cell_type": "code",
   "execution_count": 137,
   "id": "97e40e66",
   "metadata": {},
   "outputs": [
    {
     "name": "stdout",
     "output_type": "stream",
     "text": [
      "confusion [[3472 7743]\n",
      " [ 764 3724]]\n",
      "recall 0.8297682709447415\n",
      "precision 0.32475800122089477\n"
     ]
    }
   ],
   "source": [
    "from sklearn.metrics import confusion_matrix\n",
    "print('confusion',confusion_matrix(y_true,y_pred.round()))\n",
    "\n",
    "from sklearn.metrics import recall_score\n",
    "print('recall',recall_score(y_true,y_pred.round()))\n",
    "\n",
    "from sklearn.metrics import precision_score\n",
    "print('precision',precision_score(y_true,y_pred.round()))"
   ]
  },
  {
   "cell_type": "code",
   "execution_count": 140,
   "id": "5751ccb0",
   "metadata": {},
   "outputs": [
    {
     "data": {
      "text/plain": [
       "(array([0.28580526, 0.28582346, 0.28584167, ..., 1.        , 1.        ,\n",
       "        1.        ]),\n",
       " array([1.00000000e+00, 1.00000000e+00, 1.00000000e+00, ...,\n",
       "        4.45632799e-04, 2.22816399e-04, 0.00000000e+00]),\n",
       " array([6.9604104e-04, 1.6842517e-03, 1.7123807e-03, ..., 9.9910921e-01,\n",
       "        9.9926418e-01, 9.9952912e-01], dtype=float32))"
      ]
     },
     "execution_count": 140,
     "metadata": {},
     "output_type": "execute_result"
    }
   ],
   "source": [
    "from sklearn.metrics import precision_recall_curve\n",
    "precision_recall_curve(y_true,y_pred)"
   ]
  },
  {
   "cell_type": "code",
   "execution_count": 145,
   "id": "eb2ec568",
   "metadata": {},
   "outputs": [
    {
     "data": {
      "text/plain": [
       "<sklearn.metrics._plot.precision_recall_curve.PrecisionRecallDisplay at 0x316da3b50>"
      ]
     },
     "execution_count": 145,
     "metadata": {},
     "output_type": "execute_result"
    },
    {
     "data": {
      "image/png": "[encoded data removed]",
      "text/plain": [
       "<Figure size 640x480 with 1 Axes>"
      ]
     },
     "metadata": {},
     "output_type": "display_data"
    }
   ],
   "source": [
    "from sklearn.metrics import PrecisionRecallDisplay\n",
    "PrecisionRecallDisplay.from_predictions(y_true,y_pred)"
   ]
  },
  {
   "cell_type": "code",
   "execution_count": null,
   "id": "9c918c1d",
   "metadata": {},
   "outputs": [],
   "source": [
    "# https://stats.stackexchange.com/questions/360017/when-is-an-auc-score-misleadingly-high\n",
    "When to Use ROC vs. Precision-Recall Curves?\n",
    "Generally, the use of ROC curves and precision-recall curves are as follows:\n",
    "\n",
    "ROC curves should be used when there are roughly equal numbers of observations for each class.\n",
    "Precision-Recall curves should be used when there is a moderate to large class imbalance.\n",
    "# https://machinelearningmastery.com/roc-curves-and-precision-recall-curves-for-classification-in-python/#:~:text=ROC%20curves%20are%20appropriate%20when,are%20appropriate%20for%20imbalanced%20datasets."
   ]
  },
  {
   "cell_type": "code",
   "execution_count": 6,
   "id": "20401efa",
   "metadata": {},
   "outputs": [],
   "source": [
    "import sys  \n",
    "sys.path.insert(0, r'/Users/krish/ljmu/2.code')\n",
    "\n",
    "import test_modular as th"
   ]
  },
  {
   "cell_type": "code",
   "execution_count": 8,
   "id": "e1c9980e",
   "metadata": {},
   "outputs": [
    {
     "name": "stdout",
     "output_type": "stream",
     "text": [
      "hi da\n"
     ]
    }
   ],
   "source": [
    "th.tester()"
   ]
  },
  {
   "cell_type": "code",
   "execution_count": null,
   "id": "44a5d304",
   "metadata": {},
   "outputs": [],
   "source": []
  }
 ],
 "metadata": {
  "kernelspec": {
   "display_name": "Python 3.9 (tensorflow)",
   "language": "python",
   "name": "tensorflow"
  },
  "language_info": {
   "codemirror_mode": {
    "name": "ipython",
    "version": 3
   },
   "file_extension": ".py",
   "mimetype": "text/x-python",
   "name": "python",
   "nbconvert_exporter": "python",
   "pygments_lexer": "ipython3",
   "version": "3.9.13"
  }
 },
 "nbformat": 4,
 "nbformat_minor": 5
}
