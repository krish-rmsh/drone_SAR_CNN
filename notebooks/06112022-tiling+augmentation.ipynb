{
 "cells": [
  {
   "cell_type": "code",
   "execution_count": 1,
   "id": "7ef19bc8",
   "metadata": {},
   "outputs": [],
   "source": [
    "# In this notebook along to the tiling I am also going to add the standard augmentation techniques such as rot. / shift."
   ]
  },
  {
   "cell_type": "markdown",
   "id": "f71b558e",
   "metadata": {},
   "source": [
    "### Preparing the dataframe "
   ]
  },
  {
   "cell_type": "code",
   "execution_count": 2,
   "id": "95173433",
   "metadata": {},
   "outputs": [],
   "source": [
    "import pandas as pd\n",
    "import glob\n",
    "from pathlib import Path\n",
    "import matplotlib.pyplot as plt "
   ]
  },
  {
   "cell_type": "code",
   "execution_count": 3,
   "id": "0162b779",
   "metadata": {},
   "outputs": [],
   "source": [
    "# Gdrive shit path\n",
    "# #/Users/krish/Library/CloudStorage/GoogleDrive-krishthephysicist@gmail.com/My Drive/ljmu/1.data\n",
    "# root_path =  r'/Users/krish/Library/CloudStorage/GoogleDrive-krishthephysicist@gmail.com/My Drive/ljmu/'\n",
    "# result_root = root_path + '3.results/06112022-tiling+augmentation/'\n",
    "# Path(result_root).mkdir(parents=True, exist_ok=True)"
   ]
  },
  {
   "cell_type": "code",
   "execution_count": 4,
   "id": "cad0c93c",
   "metadata": {},
   "outputs": [],
   "source": [
    "# Mac local path\n",
    "root_path =  r'/Users/krish/ljmu/'\n",
    "result_root = root_path + '3.results/06112022-tiling+augmentation/'\n",
    "Path(result_root).mkdir(parents=True, exist_ok=True)"
   ]
  },
  {
   "cell_type": "code",
   "execution_count": 5,
   "id": "f41fcad3",
   "metadata": {},
   "outputs": [
    {
     "name": "stderr",
     "output_type": "stream",
     "text": [
      "/var/folders/zk/p2gyqg915639vx6xr9xbs9cm0000gn/T/ipykernel_23397/487420066.py:10: FutureWarning: The frame.append method is deprecated and will be removed from pandas in a future version. Use pandas.concat instead.\n",
      "  df = df_true.append(df_false)\n"
     ]
    }
   ],
   "source": [
    "df_true = pd.DataFrame(columns = ['name','flag'])\n",
    "df_false = pd.DataFrame(columns = ['name','flag'])\n",
    "\n",
    "df_true['name'] = glob.glob(root_path+'1.data/sampletiled/ts/*.jpg')\n",
    "df_true.flag = 1\n",
    "\n",
    "df_false['name'] = glob.glob(root_path+'1.data/sampletiled/false/*.jpg')\n",
    "df_false.flag = 0\n",
    "\n",
    "df = df_true.append(df_false)"
   ]
  },
  {
   "cell_type": "code",
   "execution_count": 6,
   "id": "90211c18",
   "metadata": {},
   "outputs": [
    {
     "data": {
      "text/plain": [
       "(3215, 2)"
      ]
     },
     "execution_count": 6,
     "metadata": {},
     "output_type": "execute_result"
    }
   ],
   "source": [
    "df_true.shape"
   ]
  },
  {
   "cell_type": "code",
   "execution_count": 7,
   "id": "17c94f88",
   "metadata": {},
   "outputs": [
    {
     "data": {
      "text/plain": [
       "(3875, 2)"
      ]
     },
     "execution_count": 7,
     "metadata": {},
     "output_type": "execute_result"
    }
   ],
   "source": [
    "df_false.shape"
   ]
  },
  {
   "cell_type": "code",
   "execution_count": 8,
   "id": "e8927498",
   "metadata": {},
   "outputs": [
    {
     "data": {
      "text/html": [
       "<div>\n",
       "<style scoped>\n",
       "    .dataframe tbody tr th:only-of-type {\n",
       "        vertical-align: middle;\n",
       "    }\n",
       "\n",
       "    .dataframe tbody tr th {\n",
       "        vertical-align: top;\n",
       "    }\n",
       "\n",
       "    .dataframe thead th {\n",
       "        text-align: right;\n",
       "    }\n",
       "</style>\n",
       "<table border=\"1\" class=\"dataframe\">\n",
       "  <thead>\n",
       "    <tr style=\"text-align: right;\">\n",
       "      <th></th>\n",
       "      <th>name</th>\n",
       "      <th>flag</th>\n",
       "    </tr>\n",
       "  </thead>\n",
       "  <tbody>\n",
       "    <tr>\n",
       "      <th>0</th>\n",
       "      <td>/Users/krish/ljmu/1.data/sampletiled/ts/905_0_...</td>\n",
       "      <td>1</td>\n",
       "    </tr>\n",
       "    <tr>\n",
       "      <th>1</th>\n",
       "      <td>/Users/krish/ljmu/1.data/sampletiled/ts/889_0_...</td>\n",
       "      <td>1</td>\n",
       "    </tr>\n",
       "    <tr>\n",
       "      <th>2</th>\n",
       "      <td>/Users/krish/ljmu/1.data/sampletiled/ts/1434_0...</td>\n",
       "      <td>1</td>\n",
       "    </tr>\n",
       "    <tr>\n",
       "      <th>3</th>\n",
       "      <td>/Users/krish/ljmu/1.data/sampletiled/ts/5708_0...</td>\n",
       "      <td>1</td>\n",
       "    </tr>\n",
       "    <tr>\n",
       "      <th>4</th>\n",
       "      <td>/Users/krish/ljmu/1.data/sampletiled/ts/100_0_...</td>\n",
       "      <td>1</td>\n",
       "    </tr>\n",
       "    <tr>\n",
       "      <th>...</th>\n",
       "      <td>...</td>\n",
       "      <td>...</td>\n",
       "    </tr>\n",
       "    <tr>\n",
       "      <th>3870</th>\n",
       "      <td>/Users/krish/ljmu/1.data/sampletiled/false/238...</td>\n",
       "      <td>0</td>\n",
       "    </tr>\n",
       "    <tr>\n",
       "      <th>3871</th>\n",
       "      <td>/Users/krish/ljmu/1.data/sampletiled/false/197...</td>\n",
       "      <td>0</td>\n",
       "    </tr>\n",
       "    <tr>\n",
       "      <th>3872</th>\n",
       "      <td>/Users/krish/ljmu/1.data/sampletiled/false/198...</td>\n",
       "      <td>0</td>\n",
       "    </tr>\n",
       "    <tr>\n",
       "      <th>3873</th>\n",
       "      <td>/Users/krish/ljmu/1.data/sampletiled/false/474...</td>\n",
       "      <td>0</td>\n",
       "    </tr>\n",
       "    <tr>\n",
       "      <th>3874</th>\n",
       "      <td>/Users/krish/ljmu/1.data/sampletiled/false/444...</td>\n",
       "      <td>0</td>\n",
       "    </tr>\n",
       "  </tbody>\n",
       "</table>\n",
       "<p>7090 rows × 2 columns</p>\n",
       "</div>"
      ],
      "text/plain": [
       "                                                   name  flag\n",
       "0     /Users/krish/ljmu/1.data/sampletiled/ts/905_0_...     1\n",
       "1     /Users/krish/ljmu/1.data/sampletiled/ts/889_0_...     1\n",
       "2     /Users/krish/ljmu/1.data/sampletiled/ts/1434_0...     1\n",
       "3     /Users/krish/ljmu/1.data/sampletiled/ts/5708_0...     1\n",
       "4     /Users/krish/ljmu/1.data/sampletiled/ts/100_0_...     1\n",
       "...                                                 ...   ...\n",
       "3870  /Users/krish/ljmu/1.data/sampletiled/false/238...     0\n",
       "3871  /Users/krish/ljmu/1.data/sampletiled/false/197...     0\n",
       "3872  /Users/krish/ljmu/1.data/sampletiled/false/198...     0\n",
       "3873  /Users/krish/ljmu/1.data/sampletiled/false/474...     0\n",
       "3874  /Users/krish/ljmu/1.data/sampletiled/false/444...     0\n",
       "\n",
       "[7090 rows x 2 columns]"
      ]
     },
     "execution_count": 8,
     "metadata": {},
     "output_type": "execute_result"
    }
   ],
   "source": [
    "df"
   ]
  },
  {
   "cell_type": "code",
   "execution_count": 9,
   "id": "db365ecb",
   "metadata": {},
   "outputs": [
    {
     "data": {
      "text/plain": [
       "[]"
      ]
     },
     "execution_count": 9,
     "metadata": {},
     "output_type": "execute_result"
    }
   ],
   "source": [
    "import os\n",
    "os.getcwd()\n",
    "glob.glob(\"\")"
   ]
  },
  {
   "cell_type": "markdown",
   "id": "d00bef5a",
   "metadata": {},
   "source": [
    "### Training as before"
   ]
  },
  {
   "cell_type": "code",
   "execution_count": 10,
   "id": "3348cfdb",
   "metadata": {},
   "outputs": [],
   "source": [
    "#!pip install skimage"
   ]
  },
  {
   "cell_type": "code",
   "execution_count": 11,
   "id": "961ae8f1",
   "metadata": {},
   "outputs": [],
   "source": [
    "import numpy as np # linear algebra\n",
    "import pandas as pd # data processing, CSV file I/O (e.g. pd.read_csv)\n",
    "import matplotlib.pyplot as plt # showing and rendering figures\n",
    "# io related\n",
    "from skimage.io import imread\n",
    "import os\n",
    "from glob import glob\n",
    "# not needed in Kaggle, but required in Jupyter\n",
    "%matplotlib inline "
   ]
  },
  {
   "cell_type": "code",
   "execution_count": 12,
   "id": "ebedcc56",
   "metadata": {},
   "outputs": [],
   "source": [
    "#!pip install scikit-image"
   ]
  },
  {
   "cell_type": "code",
   "execution_count": 13,
   "id": "af7225ce",
   "metadata": {},
   "outputs": [],
   "source": [
    "#!pip install tensorflow"
   ]
  },
  {
   "cell_type": "code",
   "execution_count": 14,
   "id": "6586a76e",
   "metadata": {},
   "outputs": [],
   "source": [
    "df['flag'] = df.flag.apply(lambda x: str(x)) # used the qubit format"
   ]
  },
  {
   "cell_type": "code",
   "execution_count": 15,
   "id": "1ac4aa01",
   "metadata": {},
   "outputs": [],
   "source": [
    "from sklearn.model_selection import train_test_split"
   ]
  },
  {
   "cell_type": "code",
   "execution_count": 16,
   "id": "17e880e3",
   "metadata": {},
   "outputs": [],
   "source": [
    "#!pip install sklearn"
   ]
  },
  {
   "cell_type": "code",
   "execution_count": 17,
   "id": "8a45caaa",
   "metadata": {},
   "outputs": [
    {
     "name": "stdout",
     "output_type": "stream",
     "text": [
      "train 5317 validation 1773\n"
     ]
    }
   ],
   "source": [
    "train_df, valid_df = train_test_split(df, \n",
    "                                   test_size = 0.25, \n",
    "                                   random_state = 2018,\n",
    "                                   stratify = df['flag']) # Stratify makes sure that the subset of training and testing data returned keeps the same class propotion of the main dataframe\n",
    "print('train', train_df.shape[0], 'validation', valid_df.shape[0])"
   ]
  },
  {
   "cell_type": "code",
   "execution_count": 18,
   "id": "a95cb6a4",
   "metadata": {},
   "outputs": [],
   "source": [
    "from tensorflow.keras import layers\n",
    "from keras_preprocessing.image import ImageDataGenerator"
   ]
  },
  {
   "cell_type": "code",
   "execution_count": 19,
   "id": "efae81a3",
   "metadata": {},
   "outputs": [
    {
     "name": "stdout",
     "output_type": "stream",
     "text": [
      "Found 5317 validated image filenames belonging to 2 classes.\n",
      "Found 1773 validated image filenames belonging to 2 classes.\n"
     ]
    }
   ],
   "source": [
    "datagen = ImageDataGenerator(rescale=1./255.)\n",
    "\n",
    "train_generator = datagen.flow_from_dataframe(dataframe=train_df, x_col = 'name', y_col = 'flag', class_mode='binary', target_size=(224 , 224), batch_size=32)\n",
    "valid_generator = datagen.flow_from_dataframe(dataframe=valid_df, x_col = 'name', y_col = 'flag', class_mode='binary', target_size=(224 , 224), batch_size=32)"
   ]
  },
  {
   "cell_type": "markdown",
   "id": "cc8b47f1",
   "metadata": {},
   "source": [
    "### Bring in the model"
   ]
  },
  {
   "cell_type": "code",
   "execution_count": 23,
   "id": "decf414f",
   "metadata": {},
   "outputs": [],
   "source": [
    "import tensorflow as tf\n",
    "from tensorflow.keras.layers import Input , Dense , Flatten , GlobalAveragePooling2D\n",
    "from tensorflow.keras.models import Sequential"
   ]
  },
  {
   "cell_type": "code",
   "execution_count": 30,
   "id": "82da535c",
   "metadata": {},
   "outputs": [
    {
     "name": "stdout",
     "output_type": "stream",
     "text": [
      "Metal device set to: Apple M1\n"
     ]
    },
    {
     "name": "stderr",
     "output_type": "stream",
     "text": [
      "2022-11-07 17:22:45.945145: I tensorflow/core/common_runtime/pluggable_device/pluggable_device_factory.cc:305] Could not identify NUMA node of platform GPU ID 0, defaulting to 0. Your kernel may not have been built with NUMA support.\n",
      "2022-11-07 17:22:45.945475: I tensorflow/core/common_runtime/pluggable_device/pluggable_device_factory.cc:271] Created TensorFlow device (/job:localhost/replica:0/task:0/device:GPU:0 with 0 MB memory) -> physical PluggableDevice (device: 0, name: METAL, pci bus id: <undefined>)\n"
     ]
    }
   ],
   "source": [
    "# i'll be using inception_v3 for this model , along with 2 extra dense layers and the output layer\n",
    "# (224,224,3) is the default shape for imagent and that actually cant bechanged\n",
    "mobilenet = tf.keras.applications.mobilenet.MobileNet(input_shape=(224 , 224, 3),\n",
    "                                           include_top=False, \n",
    "                                           weights='imagenet')\n",
    "\n",
    "model = Sequential()\n",
    "model.add(mobilenet)\n",
    "model.add(GlobalAveragePooling2D())\n",
    "model.add(Flatten())\n",
    "model.add(Dense(1024, activation=\"relu\"))\n",
    "model.add(Dense(512, activation=\"relu\"))\n",
    "\n",
    "model.add(Dense(1024, activation=\"relu\"))\n",
    "model.add(Dense(512, activation=\"relu\"))\n",
    "\n",
    "model.add(Dense(1024, activation=\"relu\"))\n",
    "model.add(Dense(512, activation=\"relu\"))\n",
    "\n",
    "\n",
    "\n",
    "model.add(Dense(1, activation=\"sigmoid\" , name=\"classification\"))"
   ]
  },
  {
   "cell_type": "code",
   "execution_count": 31,
   "id": "8ccd5102",
   "metadata": {},
   "outputs": [],
   "source": [
    "# model.compile(optimizer=tf.keras.optimizers.SGD(learning_rate=0.0001,momentum=0.9), \n",
    "#             loss='categorical_crossentropy',\n",
    "#             metrics = ['accuracy'])\n",
    "\n",
    "# model.summary()"
   ]
  },
  {
   "cell_type": "code",
   "execution_count": 32,
   "id": "a586346a",
   "metadata": {},
   "outputs": [
    {
     "name": "stdout",
     "output_type": "stream",
     "text": [
      "Model: \"sequential\"\n",
      "_________________________________________________________________\n",
      " Layer (type)                Output Shape              Param #   \n",
      "=================================================================\n",
      " mobilenet_1.00_224 (Functio  (None, 7, 7, 1024)       3228864   \n",
      " nal)                                                            \n",
      "                                                                 \n",
      " global_average_pooling2d (G  (None, 1024)             0         \n",
      " lobalAveragePooling2D)                                          \n",
      "                                                                 \n",
      " flatten (Flatten)           (None, 1024)              0         \n",
      "                                                                 \n",
      " dense (Dense)               (None, 1024)              1049600   \n",
      "                                                                 \n",
      " dense_1 (Dense)             (None, 512)               524800    \n",
      "                                                                 \n",
      " dense_2 (Dense)             (None, 1024)              525312    \n",
      "                                                                 \n",
      " dense_3 (Dense)             (None, 512)               524800    \n",
      "                                                                 \n",
      " dense_4 (Dense)             (None, 1024)              525312    \n",
      "                                                                 \n",
      " dense_5 (Dense)             (None, 512)               524800    \n",
      "                                                                 \n",
      " classification (Dense)      (None, 1)                 513       \n",
      "                                                                 \n",
      "=================================================================\n",
      "Total params: 6,904,001\n",
      "Trainable params: 6,882,113\n",
      "Non-trainable params: 21,888\n",
      "_________________________________________________________________\n"
     ]
    }
   ],
   "source": [
    "model.compile(optimizer=tf.keras.optimizers.SGD(learning_rate=0.0001,momentum=0.9), \n",
    "            loss='BinaryCrossentropy',\n",
    "            metrics = ['accuracy'])\n",
    "\n",
    "model.summary()"
   ]
  },
  {
   "cell_type": "code",
   "execution_count": 33,
   "id": "1c62ff87",
   "metadata": {
    "scrolled": true
   },
   "outputs": [
    {
     "name": "stdout",
     "output_type": "stream",
     "text": [
      "Epoch 1/20\n"
     ]
    },
    {
     "name": "stderr",
     "output_type": "stream",
     "text": [
      "2022-11-07 17:22:47.068574: W tensorflow/core/platform/profile_utils/cpu_utils.cc:128] Failed to get CPU frequency: 0 Hz\n",
      "2022-11-07 17:22:48.085224: I tensorflow/core/grappler/optimizers/custom_graph_optimizer_registry.cc:113] Plugin optimizer for device_type GPU is enabled.\n"
     ]
    },
    {
     "name": "stdout",
     "output_type": "stream",
     "text": [
      "167/167 [==============================] - ETA: 0s - loss: 0.8224 - accuracy: 0.4553"
     ]
    },
    {
     "name": "stderr",
     "output_type": "stream",
     "text": [
      "2022-11-07 17:24:45.458290: I tensorflow/core/grappler/optimizers/custom_graph_optimizer_registry.cc:113] Plugin optimizer for device_type GPU is enabled.\n"
     ]
    },
    {
     "name": "stdout",
     "output_type": "stream",
     "text": [
      "167/167 [==============================] - 132s 773ms/step - loss: 0.8224 - accuracy: 0.4553 - val_loss: 0.6811 - val_accuracy: 0.4738\n",
      "Epoch 2/20\n",
      "167/167 [==============================] - 138s 827ms/step - loss: 0.7825 - accuracy: 0.5112 - val_loss: 0.6364 - val_accuracy: 0.6142\n",
      "Epoch 3/20\n",
      "167/167 [==============================] - 91s 542ms/step - loss: 0.7221 - accuracy: 0.6468 - val_loss: 0.5719 - val_accuracy: 0.7039\n",
      "Epoch 4/20\n",
      "167/167 [==============================] - 77s 460ms/step - loss: 0.6389 - accuracy: 0.7470 - val_loss: 0.4923 - val_accuracy: 0.7862\n",
      "Epoch 5/20\n",
      "167/167 [==============================] - 76s 453ms/step - loss: 0.5440 - accuracy: 0.8119 - val_loss: 0.4065 - val_accuracy: 0.8347\n",
      "Epoch 6/20\n",
      "167/167 [==============================] - 78s 466ms/step - loss: 0.4576 - accuracy: 0.8458 - val_loss: 0.3515 - val_accuracy: 0.8607\n",
      "Epoch 7/20\n",
      "167/167 [==============================] - 77s 459ms/step - loss: 0.4039 - accuracy: 0.8650 - val_loss: 0.3153 - val_accuracy: 0.8793\n",
      "Epoch 8/20\n",
      "167/167 [==============================] - 78s 463ms/step - loss: 0.3575 - accuracy: 0.8813 - val_loss: 0.3060 - val_accuracy: 0.8799\n",
      "Epoch 9/20\n",
      "167/167 [==============================] - 76s 457ms/step - loss: 0.3191 - accuracy: 0.8941 - val_loss: 0.2774 - val_accuracy: 0.8883\n",
      "Epoch 10/20\n",
      "167/167 [==============================] - 85s 509ms/step - loss: 0.2993 - accuracy: 0.9003 - val_loss: 0.2720 - val_accuracy: 0.8889\n",
      "Epoch 11/20\n",
      "167/167 [==============================] - 82s 487ms/step - loss: 0.2778 - accuracy: 0.9058 - val_loss: 0.2593 - val_accuracy: 0.8928\n",
      "Epoch 12/20\n",
      "167/167 [==============================] - 81s 487ms/step - loss: 0.2565 - accuracy: 0.9157 - val_loss: 0.2474 - val_accuracy: 0.8973\n",
      "Epoch 13/20\n",
      "167/167 [==============================] - 86s 517ms/step - loss: 0.2328 - accuracy: 0.9246 - val_loss: 0.2450 - val_accuracy: 0.8996\n",
      "Epoch 14/20\n",
      "167/167 [==============================] - 81s 487ms/step - loss: 0.2092 - accuracy: 0.9364 - val_loss: 0.2462 - val_accuracy: 0.9002\n",
      "Epoch 15/20\n",
      "167/167 [==============================] - 75s 446ms/step - loss: 0.1924 - accuracy: 0.9423 - val_loss: 0.2434 - val_accuracy: 0.9041\n",
      "Epoch 16/20\n",
      "167/167 [==============================] - 74s 443ms/step - loss: 0.1790 - accuracy: 0.9443 - val_loss: 0.2363 - val_accuracy: 0.9069\n",
      "Epoch 17/20\n",
      "167/167 [==============================] - 75s 449ms/step - loss: 0.1674 - accuracy: 0.9470 - val_loss: 0.2400 - val_accuracy: 0.9058\n",
      "Epoch 18/20\n",
      "167/167 [==============================] - 77s 462ms/step - loss: 0.1514 - accuracy: 0.9537 - val_loss: 0.2401 - val_accuracy: 0.9120\n",
      "Epoch 19/20\n",
      "167/167 [==============================] - 82s 486ms/step - loss: 0.1378 - accuracy: 0.9573 - val_loss: 0.2474 - val_accuracy: 0.9064\n",
      "Epoch 20/20\n",
      "167/167 [==============================] - 82s 493ms/step - loss: 0.1236 - accuracy: 0.9652 - val_loss: 0.2448 - val_accuracy: 0.9052\n"
     ]
    }
   ],
   "source": [
    "class_weight = {0:1.,1:1.5}\n",
    "history = model.fit(train_generator, validation_data = valid_generator, epochs = 20, class_weight=class_weight)"
   ]
  },
  {
   "cell_type": "code",
   "execution_count": 34,
   "id": "3009202b",
   "metadata": {},
   "outputs": [
    {
     "name": "stderr",
     "output_type": "stream",
     "text": [
      "WARNING:absl:Function `_wrapped_model` contains input name(s) mobilenet_1.00_224_input with unsupported characters which will be renamed to mobilenet_1_00_224_input in the SavedModel.\n",
      "WARNING:absl:Found untraced functions such as _jit_compiled_convolution_op, _jit_compiled_convolution_op, _jit_compiled_convolution_op, _jit_compiled_convolution_op, _jit_compiled_convolution_op while saving (showing 5 of 27). These functions will not be directly callable after loading.\n"
     ]
    },
    {
     "name": "stdout",
     "output_type": "stream",
     "text": [
      "INFO:tensorflow:Assets written to: /Users/krish/ljmu/3.results/06112022-tiling+augmentation/mobilenet_after_tiling_10epochs/assets\n"
     ]
    },
    {
     "name": "stderr",
     "output_type": "stream",
     "text": [
      "INFO:tensorflow:Assets written to: /Users/krish/ljmu/3.results/06112022-tiling+augmentation/mobilenet_after_tiling_10epochs/assets\n"
     ]
    }
   ],
   "source": [
    "model.save(result_root+'mobilenet_after_tiling_20epochs')"
   ]
  },
  {
   "cell_type": "code",
   "execution_count": 35,
   "id": "c5fb77a6",
   "metadata": {},
   "outputs": [],
   "source": [
    "from tensorflow import keras\n",
    "model = keras.models.load_model(result_root+'mobilenet_after_tiling_20epochs')"
   ]
  },
  {
   "cell_type": "code",
   "execution_count": 36,
   "id": "003dcbbd",
   "metadata": {},
   "outputs": [
    {
     "name": "stderr",
     "output_type": "stream",
     "text": [
      "2022-11-07 17:51:18.347117: I tensorflow/core/grappler/optimizers/custom_graph_optimizer_registry.cc:113] Plugin optimizer for device_type GPU is enabled.\n"
     ]
    },
    {
     "name": "stdout",
     "output_type": "stream",
     "text": [
      "56/56 - 7s - loss: 0.2448 - accuracy: 0.9052 - 7s/epoch - 131ms/step\n"
     ]
    },
    {
     "data": {
      "image/png": "[encoded data removed]",
      "text/plain": [
       "<Figure size 640x480 with 1 Axes>"
      ]
     },
     "metadata": {},
     "output_type": "display_data"
    }
   ],
   "source": [
    "plt.plot(history.history['accuracy'], label='accuracy')\n",
    "plt.plot(history.history['val_accuracy'], label = 'val_accuracy')\n",
    "plt.xlabel('Epoch')\n",
    "plt.ylabel('Accuracy')\n",
    "plt.ylim([0.5, 1])\n",
    "plt.legend(loc='lower right')\n",
    "\n",
    "test_loss, test_acc = model.evaluate(valid_generator, verbose=2)\n",
    "\n",
    "plt.savefig(result_root+'accuracy_after_tiling.png')"
   ]
  },
  {
   "cell_type": "code",
   "execution_count": 37,
   "id": "c131291a",
   "metadata": {},
   "outputs": [],
   "source": [
    "# Spoke with sharma, this validation is basically the test score, as it does not feedback into the model training phase.\n",
    "# class_weight = {0:1.,1:2.}\n",
    "# history = model.fit(train_generator, epochs = 6, class_weight=class_weight)"
   ]
  },
  {
   "cell_type": "markdown",
   "id": "3c0edf92",
   "metadata": {},
   "source": [
    "## Adding other augmentation techniques"
   ]
  },
  {
   "cell_type": "code",
   "execution_count": 20,
   "id": "830ffb92",
   "metadata": {},
   "outputs": [],
   "source": [
    "# https://www.analyticsvidhya.com/blog/2020/08/image-augmentation-on-the-fly-using-keras-imagedatagenerator/"
   ]
  },
  {
   "cell_type": "code",
   "execution_count": 24,
   "id": "61a13ea2",
   "metadata": {},
   "outputs": [
    {
     "name": "stdout",
     "output_type": "stream",
     "text": [
      "Found 5317 validated image filenames belonging to 2 classes.\n",
      "Found 1773 validated image filenames belonging to 2 classes.\n"
     ]
    }
   ],
   "source": [
    "# Rotation_range - random rotation within the angle mentioned\n",
    "# Random_shifts - shifts 20% at max. to the horizontal and vertical(reduce to 10% as already diverse data)\n",
    "# Random_flip - random flips \n",
    "# fill_mode - fill the blank pixels, when augmenting with the nearest color\n",
    "datagen = ImageDataGenerator(rotation_range = 360,\n",
    "                             width_shift_range=0.1, height_shift_range=0.1,\n",
    "                             #horizontal_flip=True, vertical_flip=True, # Isnt much useful for us\n",
    "                             brightness_range=[0.5,1.5],\n",
    "                             rescale=1./255.,fill_mode='nearest')\n",
    "\n",
    "train_generator = datagen.flow_from_dataframe(dataframe=train_df, x_col = 'name', y_col = 'flag', class_mode='binary', target_size=(224 , 224), batch_size=32)\n",
    "valid_generator = datagen.flow_from_dataframe(dataframe=valid_df, x_col = 'name', y_col = 'flag', class_mode='binary', target_size=(224 , 224), batch_size=32)"
   ]
  },
  {
   "cell_type": "code",
   "execution_count": 25,
   "id": "5d2d964d",
   "metadata": {},
   "outputs": [
    {
     "name": "stdout",
     "output_type": "stream",
     "text": [
      "Metal device set to: Apple M1\n"
     ]
    },
    {
     "name": "stderr",
     "output_type": "stream",
     "text": [
      "2022-11-07 17:59:53.506893: I tensorflow/core/common_runtime/pluggable_device/pluggable_device_factory.cc:305] Could not identify NUMA node of platform GPU ID 0, defaulting to 0. Your kernel may not have been built with NUMA support.\n",
      "2022-11-07 17:59:53.507254: I tensorflow/core/common_runtime/pluggable_device/pluggable_device_factory.cc:271] Created TensorFlow device (/job:localhost/replica:0/task:0/device:GPU:0 with 0 MB memory) -> physical PluggableDevice (device: 0, name: METAL, pci bus id: <undefined>)\n"
     ]
    }
   ],
   "source": [
    "# i'll be using inception_v3 for this model2 , along with 2 extra dense layers and the output layer\n",
    "# (224,224,3) is the default shape for imagent and that actually cant bechanged\n",
    "mobilenet = tf.keras.applications.mobilenet.MobileNet(input_shape=(224 , 224, 3),\n",
    "                                           include_top=False, \n",
    "                                           weights='imagenet')\n",
    "\n",
    "model2 = Sequential()\n",
    "model2.add(mobilenet)\n",
    "model2.add(GlobalAveragePooling2D())\n",
    "model2.add(Flatten())\n",
    "model2.add(Dense(1024, activation=\"relu\"))\n",
    "model2.add(Dense(512, activation=\"relu\"))\n",
    "\n",
    "model2.add(Dense(1024, activation=\"relu\"))\n",
    "model2.add(Dense(512, activation=\"relu\"))\n",
    "\n",
    "model2.add(Dense(1024, activation=\"relu\"))\n",
    "model2.add(Dense(512, activation=\"relu\"))\n",
    "\n",
    "\n",
    "\n",
    "model2.add(Dense(1, activation=\"sigmoid\" , name=\"classification\"))"
   ]
  },
  {
   "cell_type": "code",
   "execution_count": 26,
   "id": "74a936fa",
   "metadata": {},
   "outputs": [
    {
     "name": "stdout",
     "output_type": "stream",
     "text": [
      "Model: \"sequential\"\n",
      "_________________________________________________________________\n",
      " Layer (type)                Output Shape              Param #   \n",
      "=================================================================\n",
      " mobilenet_1.00_224 (Functio  (None, 7, 7, 1024)       3228864   \n",
      " nal)                                                            \n",
      "                                                                 \n",
      " global_average_pooling2d (G  (None, 1024)             0         \n",
      " lobalAveragePooling2D)                                          \n",
      "                                                                 \n",
      " flatten (Flatten)           (None, 1024)              0         \n",
      "                                                                 \n",
      " dense (Dense)               (None, 1024)              1049600   \n",
      "                                                                 \n",
      " dense_1 (Dense)             (None, 512)               524800    \n",
      "                                                                 \n",
      " dense_2 (Dense)             (None, 1024)              525312    \n",
      "                                                                 \n",
      " dense_3 (Dense)             (None, 512)               524800    \n",
      "                                                                 \n",
      " dense_4 (Dense)             (None, 1024)              525312    \n",
      "                                                                 \n",
      " dense_5 (Dense)             (None, 512)               524800    \n",
      "                                                                 \n",
      " classification (Dense)      (None, 1)                 513       \n",
      "                                                                 \n",
      "=================================================================\n",
      "Total params: 6,904,001\n",
      "Trainable params: 6,882,113\n",
      "Non-trainable params: 21,888\n",
      "_________________________________________________________________\n"
     ]
    }
   ],
   "source": [
    "model2.compile(optimizer=tf.keras.optimizers.SGD(learning_rate=0.0001,momentum=0.9), \n",
    "            loss='BinaryCrossentropy',\n",
    "            metrics = ['accuracy'])\n",
    "\n",
    "model2.summary()"
   ]
  },
  {
   "cell_type": "code",
   "execution_count": 27,
   "id": "059c31bc",
   "metadata": {
    "scrolled": true
   },
   "outputs": [
    {
     "name": "stdout",
     "output_type": "stream",
     "text": [
      "Epoch 1/20\n"
     ]
    },
    {
     "name": "stderr",
     "output_type": "stream",
     "text": [
      "2022-11-07 18:00:03.360031: W tensorflow/core/platform/profile_utils/cpu_utils.cc:128] Failed to get CPU frequency: 0 Hz\n",
      "2022-11-07 18:00:03.953883: I tensorflow/core/grappler/optimizers/custom_graph_optimizer_registry.cc:113] Plugin optimizer for device_type GPU is enabled.\n"
     ]
    },
    {
     "name": "stdout",
     "output_type": "stream",
     "text": [
      "167/167 [==============================] - ETA: 0s - loss: 0.6909 - accuracy: 0.5276"
     ]
    },
    {
     "name": "stderr",
     "output_type": "stream",
     "text": [
      "2022-11-07 18:01:10.667882: I tensorflow/core/grappler/optimizers/custom_graph_optimizer_registry.cc:113] Plugin optimizer for device_type GPU is enabled.\n"
     ]
    },
    {
     "name": "stdout",
     "output_type": "stream",
     "text": [
      "167/167 [==============================] - 81s 479ms/step - loss: 0.6909 - accuracy: 0.5276 - val_loss: 0.6794 - val_accuracy: 0.5798\n",
      "Epoch 2/20\n",
      "167/167 [==============================] - 85s 509ms/step - loss: 0.6712 - accuracy: 0.5981 - val_loss: 0.6589 - val_accuracy: 0.6255\n",
      "Epoch 3/20\n",
      "167/167 [==============================] - 96s 572ms/step - loss: 0.6500 - accuracy: 0.6724 - val_loss: 0.6349 - val_accuracy: 0.7067\n",
      "Epoch 4/20\n",
      "167/167 [==============================] - 90s 537ms/step - loss: 0.6260 - accuracy: 0.7004 - val_loss: 0.6006 - val_accuracy: 0.7445\n",
      "Epoch 5/20\n",
      "167/167 [==============================] - 93s 554ms/step - loss: 0.5855 - accuracy: 0.7435 - val_loss: 0.5548 - val_accuracy: 0.7631\n",
      "Epoch 6/20\n",
      "167/167 [==============================] - 90s 539ms/step - loss: 0.5388 - accuracy: 0.7681 - val_loss: 0.5062 - val_accuracy: 0.7783\n",
      "Epoch 7/20\n",
      "167/167 [==============================] - 88s 525ms/step - loss: 0.4965 - accuracy: 0.7865 - val_loss: 0.4637 - val_accuracy: 0.7930\n",
      "Epoch 8/20\n",
      "167/167 [==============================] - 89s 535ms/step - loss: 0.4617 - accuracy: 0.7933 - val_loss: 0.4313 - val_accuracy: 0.8060\n",
      "Epoch 9/20\n",
      "167/167 [==============================] - 92s 548ms/step - loss: 0.4452 - accuracy: 0.8016 - val_loss: 0.4178 - val_accuracy: 0.8122\n",
      "Epoch 10/20\n",
      "167/167 [==============================] - 92s 552ms/step - loss: 0.4240 - accuracy: 0.8099 - val_loss: 0.3947 - val_accuracy: 0.8229\n",
      "Epoch 11/20\n",
      "167/167 [==============================] - 92s 550ms/step - loss: 0.4101 - accuracy: 0.8174 - val_loss: 0.3920 - val_accuracy: 0.8229\n",
      "Epoch 12/20\n",
      "167/167 [==============================] - 97s 581ms/step - loss: 0.4029 - accuracy: 0.8226 - val_loss: 0.3743 - val_accuracy: 0.8438\n",
      "Epoch 13/20\n",
      "167/167 [==============================] - 102s 610ms/step - loss: 0.3902 - accuracy: 0.8262 - val_loss: 0.3648 - val_accuracy: 0.8432\n",
      "Epoch 14/20\n",
      "167/167 [==============================] - 102s 607ms/step - loss: 0.3866 - accuracy: 0.8336 - val_loss: 0.3574 - val_accuracy: 0.8455\n",
      "Epoch 15/20\n",
      "167/167 [==============================] - 94s 563ms/step - loss: 0.3705 - accuracy: 0.8383 - val_loss: 0.3561 - val_accuracy: 0.8488\n",
      "Epoch 16/20\n",
      "167/167 [==============================] - 92s 551ms/step - loss: 0.3622 - accuracy: 0.8446 - val_loss: 0.3485 - val_accuracy: 0.8455\n",
      "Epoch 17/20\n",
      "167/167 [==============================] - 92s 550ms/step - loss: 0.3637 - accuracy: 0.8428 - val_loss: 0.3411 - val_accuracy: 0.8545\n",
      "Epoch 18/20\n",
      "167/167 [==============================] - 92s 549ms/step - loss: 0.3578 - accuracy: 0.8433 - val_loss: 0.3338 - val_accuracy: 0.8579\n",
      "Epoch 19/20\n",
      "167/167 [==============================] - 91s 547ms/step - loss: 0.3438 - accuracy: 0.8582 - val_loss: 0.3260 - val_accuracy: 0.8573\n",
      "Epoch 20/20\n",
      "167/167 [==============================] - 92s 550ms/step - loss: 0.3449 - accuracy: 0.8559 - val_loss: 0.3324 - val_accuracy: 0.8550\n"
     ]
    }
   ],
   "source": [
    "class_weight = {0:1.,1:1.}\n",
    "history2 = model2.fit(train_generator, validation_data = valid_generator, epochs = 20, class_weight=class_weight)"
   ]
  },
  {
   "cell_type": "code",
   "execution_count": 28,
   "id": "e060fb57",
   "metadata": {},
   "outputs": [
    {
     "name": "stderr",
     "output_type": "stream",
     "text": [
      "WARNING:absl:Function `_wrapped_model` contains input name(s) mobilenet_1.00_224_input with unsupported characters which will be renamed to mobilenet_1_00_224_input in the SavedModel.\n",
      "WARNING:absl:Found untraced functions such as _jit_compiled_convolution_op, _jit_compiled_convolution_op, _jit_compiled_convolution_op, _jit_compiled_convolution_op, _jit_compiled_convolution_op while saving (showing 5 of 27). These functions will not be directly callable after loading.\n"
     ]
    },
    {
     "name": "stdout",
     "output_type": "stream",
     "text": [
      "INFO:tensorflow:Assets written to: /Users/krish/ljmu/3.results/06112022-tiling+augmentation/mobilenet_after_tiling+augmentations_20epochs/assets\n"
     ]
    },
    {
     "name": "stderr",
     "output_type": "stream",
     "text": [
      "INFO:tensorflow:Assets written to: /Users/krish/ljmu/3.results/06112022-tiling+augmentation/mobilenet_after_tiling+augmentations_20epochs/assets\n"
     ]
    }
   ],
   "source": [
    "model2.save(result_root+'mobilenet_after_tiling+augmentations_20epochs')"
   ]
  },
  {
   "cell_type": "code",
   "execution_count": 29,
   "id": "0126c720",
   "metadata": {},
   "outputs": [
    {
     "name": "stdout",
     "output_type": "stream",
     "text": [
      "56/56 - 15s - loss: 0.3530 - accuracy: 0.8460 - 15s/epoch - 260ms/step\n"
     ]
    },
    {
     "data": {
      "image/png": "[encoded data removed]",
      "text/plain": [
       "<Figure size 640x480 with 1 Axes>"
      ]
     },
     "metadata": {},
     "output_type": "display_data"
    }
   ],
   "source": [
    "plt.plot(history2.history['accuracy'], label='accuracy')\n",
    "plt.plot(history2.history['val_accuracy'], label = 'val_accuracy')\n",
    "plt.xlabel('Epoch')\n",
    "plt.ylabel('Accuracy')\n",
    "plt.ylim([0.5, 1])\n",
    "plt.legend(loc='lower right')\n",
    "\n",
    "test_loss, test_acc = model2.evaluate(valid_generator, verbose=2)\n",
    "\n",
    "plt.savefig(result_root+'accuracy_after_tiling+augmnetaion_20epochs.png')"
   ]
  },
  {
   "cell_type": "code",
   "execution_count": 30,
   "id": "a01b0574",
   "metadata": {},
   "outputs": [
    {
     "name": "stdout",
     "output_type": "stream",
     "text": [
      "0.8460237383842468\n"
     ]
    }
   ],
   "source": [
    "print(test_acc)"
   ]
  },
  {
   "cell_type": "code",
   "execution_count": null,
   "id": "c8834c53",
   "metadata": {},
   "outputs": [],
   "source": []
  }
 ],
 "metadata": {
  "kernelspec": {
   "display_name": "Python 3.9 (tensorflow)",
   "language": "python",
   "name": "tensorflow"
  },
  "language_info": {
   "codemirror_mode": {
    "name": "ipython",
    "version": 3
   },
   "file_extension": ".py",
   "mimetype": "text/x-python",
   "name": "python",
   "nbconvert_exporter": "python",
   "pygments_lexer": "ipython3",
   "version": "3.9.13"
  }
 },
 "nbformat": 4,
 "nbformat_minor": 5
}
